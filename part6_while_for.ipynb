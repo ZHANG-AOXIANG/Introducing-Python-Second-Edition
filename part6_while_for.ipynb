{
 "cells": [
  {
   "cell_type": "markdown",
   "source": [],
   "metadata": {
    "collapsed": false
   },
   "id": "e8853225203fb28a"
  },
  {
   "cell_type": "markdown",
   "source": [
    "# break"
   ],
   "metadata": {
    "collapsed": false
   },
   "id": "f9edecedfaf84c0e"
  },
  {
   "cell_type": "code",
   "execution_count": null,
   "outputs": [],
   "source": [
    "while True:\n",
    "    stuff = input(\"String to capitaliza [type q to quit]: \")\n",
    "    if stuff == \"q\":\n",
    "        break\n",
    "    print((stuff.capitalize()))"
   ],
   "metadata": {
    "collapsed": false
   },
   "id": "fda049680f86cc60"
  },
  {
   "cell_type": "markdown",
   "source": [
    "# countine"
   ],
   "metadata": {
    "collapsed": false
   },
   "id": "1654c8e2bb9fc41"
  },
  {
   "cell_type": "code",
   "execution_count": 6,
   "outputs": [],
   "source": [
    "while True:\n",
    "    value = input(\"Integer, please [q to quit]: \")\n",
    "    if value == \"q\":\n",
    "        break\n",
    "    number = int(value)\n",
    "    if number % 2 == 0:\n",
    "        continue\n",
    "    print(number, \"squared is \", number * number)"
   ],
   "metadata": {
    "collapsed": false,
    "ExecuteTime": {
     "end_time": "2024-06-15T09:53:58.253908Z",
     "start_time": "2024-06-15T09:53:56.246413Z"
    }
   },
   "id": "ca76e9783f4c4edb"
  },
  {
   "cell_type": "markdown",
   "source": [
    "# for in"
   ],
   "metadata": {
    "collapsed": false
   },
   "id": "9d524cfc1d05ad00"
  },
  {
   "cell_type": "code",
   "execution_count": 8,
   "outputs": [
    {
     "name": "stdout",
     "output_type": "stream",
     "text": [
      "t\n",
      "h\n",
      "u\n",
      "d\n"
     ]
    }
   ],
   "source": [
    "word = \"thud\"\n",
    "offset = 0\n",
    "while offset < len(word):\n",
    "    print(word[offset])\n",
    "    offset += 1"
   ],
   "metadata": {
    "collapsed": false,
    "ExecuteTime": {
     "end_time": "2024-06-15T09:55:11.899403Z",
     "start_time": "2024-06-15T09:55:11.878260Z"
    }
   },
   "id": "cd8e86e00d9ae69"
  },
  {
   "cell_type": "code",
   "execution_count": 9,
   "outputs": [
    {
     "name": "stdout",
     "output_type": "stream",
     "text": [
      "t\n",
      "h\n",
      "u\n",
      "d\n"
     ]
    }
   ],
   "source": [
    "for letter in word:\n",
    "    print(letter)"
   ],
   "metadata": {
    "collapsed": false,
    "ExecuteTime": {
     "end_time": "2024-06-15T09:55:31.837404Z",
     "start_time": "2024-06-15T09:55:31.813415Z"
    }
   },
   "id": "dbda48be4ea85a31"
  },
  {
   "cell_type": "code",
   "execution_count": 10,
   "outputs": [
    {
     "name": "stdout",
     "output_type": "stream",
     "text": [
      "t\n",
      "h\n"
     ]
    }
   ],
   "source": [
    "word == \"thud\"\n",
    "for letter in word:\n",
    "    if letter == \"u\":\n",
    "        break\n",
    "    print(letter)"
   ],
   "metadata": {
    "collapsed": false,
    "ExecuteTime": {
     "end_time": "2024-06-15T09:56:14.463773Z",
     "start_time": "2024-06-15T09:56:14.431710Z"
    }
   },
   "id": "f31e6a63cb7f0b0"
  },
  {
   "cell_type": "markdown",
   "source": [
    "# range()\n",
    "\n",
    "range(start,stop,step)"
   ],
   "metadata": {
    "collapsed": false
   },
   "id": "be49e7bf564afe2"
  },
  {
   "cell_type": "code",
   "execution_count": 11,
   "outputs": [
    {
     "name": "stdout",
     "output_type": "stream",
     "text": [
      "0\n",
      "1\n",
      "2\n"
     ]
    }
   ],
   "source": [
    "for x in range(0, 3):\n",
    "    print(x)"
   ],
   "metadata": {
    "collapsed": false,
    "ExecuteTime": {
     "end_time": "2024-06-15T09:57:15.298925Z",
     "start_time": "2024-06-15T09:57:15.274920Z"
    }
   },
   "id": "c819d3b3ded8e8ac"
  },
  {
   "cell_type": "code",
   "execution_count": 12,
   "outputs": [
    {
     "name": "stdout",
     "output_type": "stream",
     "text": [
      "2\n",
      "1\n",
      "0\n"
     ]
    }
   ],
   "source": [
    "for x in range(2, -1, -1):\n",
    "    print(x)"
   ],
   "metadata": {
    "collapsed": false,
    "ExecuteTime": {
     "end_time": "2024-06-15T09:57:34.387158Z",
     "start_time": "2024-06-15T09:57:34.364832Z"
    }
   },
   "id": "b8f4972a9cbb68ba"
  }
 ],
 "metadata": {
  "kernelspec": {
   "display_name": "Python 3",
   "language": "python",
   "name": "python3"
  },
  "language_info": {
   "codemirror_mode": {
    "name": "ipython",
    "version": 2
   },
   "file_extension": ".py",
   "mimetype": "text/x-python",
   "name": "python",
   "nbconvert_exporter": "python",
   "pygments_lexer": "ipython2",
   "version": "2.7.6"
  }
 },
 "nbformat": 4,
 "nbformat_minor": 5
}
