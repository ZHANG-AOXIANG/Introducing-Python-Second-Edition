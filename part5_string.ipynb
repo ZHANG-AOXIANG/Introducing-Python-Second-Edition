{
 "cells": [
  {
   "cell_type": "markdown",
   "source": [
    "# 字符串"
   ],
   "metadata": {
    "collapsed": false
   },
   "id": "f32586c8a34f0e82"
  },
  {
   "cell_type": "markdown",
   "source": [
    "## 使用str()创建字符串"
   ],
   "metadata": {
    "collapsed": false
   },
   "id": "6be738450601c5e2"
  },
  {
   "cell_type": "code",
   "execution_count": 1,
   "outputs": [
    {
     "data": {
      "text/plain": "'98.6'"
     },
     "execution_count": 1,
     "metadata": {},
     "output_type": "execute_result"
    }
   ],
   "source": [
    "str(98.6)"
   ],
   "metadata": {
    "collapsed": false,
    "ExecuteTime": {
     "end_time": "2023-12-31T11:19:27.241374Z",
     "start_time": "2023-12-31T11:19:27.232406Z"
    }
   },
   "id": "c638fc5fd6e98954"
  },
  {
   "cell_type": "markdown",
   "source": [
    "## 使用+拼接字符串"
   ],
   "metadata": {
    "collapsed": false
   },
   "id": "7be83014c28fbdfd"
  },
  {
   "cell_type": "code",
   "execution_count": 7,
   "outputs": [
    {
     "data": {
      "text/plain": "'Duck. Grey Duck!'"
     },
     "execution_count": 7,
     "metadata": {},
     "output_type": "execute_result"
    }
   ],
   "source": [
    "a = 'Duck. '\n",
    "b = 'Grey Duck!'\n",
    "a + b"
   ],
   "metadata": {
    "collapsed": false,
    "ExecuteTime": {
     "end_time": "2023-12-31T11:22:24.360059Z",
     "start_time": "2023-12-31T11:22:24.352879Z"
    }
   },
   "id": "b09606b1616e594c"
  },
  {
   "cell_type": "markdown",
   "source": [
    "## 使用*重复"
   ],
   "metadata": {
    "collapsed": false
   },
   "id": "7ac62ea3a41325aa"
  },
  {
   "cell_type": "code",
   "execution_count": 9,
   "outputs": [
    {
     "data": {
      "text/plain": "'Na Na Na Na /n'"
     },
     "execution_count": 9,
     "metadata": {},
     "output_type": "execute_result"
    }
   ],
   "source": [
    "start = 'Na ' * 4 + '/n'\n",
    "start"
   ],
   "metadata": {
    "collapsed": false,
    "ExecuteTime": {
     "end_time": "2023-12-31T11:23:19.070618Z",
     "start_time": "2023-12-31T11:23:19.062155Z"
    }
   },
   "id": "46ce63a5e48034ac"
  },
  {
   "cell_type": "markdown",
   "source": [
    "## 使用[]获取字符"
   ],
   "metadata": {
    "collapsed": false
   },
   "id": "767170f8799b7be1"
  },
  {
   "cell_type": "code",
   "execution_count": 12,
   "outputs": [
    {
     "data": {
      "text/plain": "('a', 'n')"
     },
     "execution_count": 12,
     "metadata": {},
     "output_type": "execute_result"
    }
   ],
   "source": [
    "letters = 'abcdefghijklmn'\n",
    "a = letters[0]\n",
    "n = letters[-1]\n",
    "a, n"
   ],
   "metadata": {
    "collapsed": false,
    "ExecuteTime": {
     "end_time": "2023-12-31T11:24:47.884890Z",
     "start_time": "2023-12-31T11:24:47.874675Z"
    }
   },
   "id": "18ac621783f19f58"
  },
  {
   "cell_type": "markdown",
   "source": [
    "## 字符串是不可变类型"
   ],
   "metadata": {
    "collapsed": false
   },
   "id": "48437356594dbefd"
  },
  {
   "cell_type": "code",
   "execution_count": 13,
   "outputs": [
    {
     "ename": "TypeError",
     "evalue": "'str' object does not support item assignment",
     "output_type": "error",
     "traceback": [
      "\u001B[0;31m---------------------------------------------------------------------------\u001B[0m",
      "\u001B[0;31mTypeError\u001B[0m                                 Traceback (most recent call last)",
      "Cell \u001B[0;32mIn[13], line 1\u001B[0m\n\u001B[0;32m----> 1\u001B[0m letters[\u001B[38;5;241m0\u001B[39m]\u001B[38;5;241m=\u001B[39m\u001B[38;5;124m'\u001B[39m\u001B[38;5;124mP\u001B[39m\u001B[38;5;124m'\u001B[39m\n",
      "\u001B[0;31mTypeError\u001B[0m: 'str' object does not support item assignment"
     ]
    }
   ],
   "source": [
    "letters[0]='P'"
   ],
   "metadata": {
    "collapsed": false,
    "ExecuteTime": {
     "end_time": "2023-12-31T11:25:37.431176Z",
     "start_time": "2023-12-31T11:25:36.877056Z"
    }
   },
   "id": "f33bae4dbdfcf791"
  },
  {
   "cell_type": "markdown",
   "source": [
    "## 使用分片获取字符串"
   ],
   "metadata": {
    "collapsed": false
   },
   "id": "df94af7ffb320a62"
  },
  {
   "cell_type": "code",
   "execution_count": 14,
   "outputs": [
    {
     "data": {
      "text/plain": "'abcdefghijklmn'"
     },
     "execution_count": 14,
     "metadata": {},
     "output_type": "execute_result"
    }
   ],
   "source": [
    "str_test = 'abcdefghijklmn'\n",
    "str_test[:]"
   ],
   "metadata": {
    "collapsed": false,
    "ExecuteTime": {
     "end_time": "2023-12-31T11:26:41.971755Z",
     "start_time": "2023-12-31T11:26:41.951365Z"
    }
   },
   "id": "56c4347fad75eaab"
  },
  {
   "cell_type": "code",
   "execution_count": 16,
   "outputs": [
    {
     "data": {
      "text/plain": "'cdefghijklmn'"
     },
     "execution_count": 16,
     "metadata": {},
     "output_type": "execute_result"
    }
   ],
   "source": [
    "str_test = 'abcdefghijklmn'\n",
    "str_test[2:]"
   ],
   "metadata": {
    "collapsed": false,
    "ExecuteTime": {
     "end_time": "2023-12-31T11:29:01.955166Z",
     "start_time": "2023-12-31T11:29:01.942080Z"
    }
   },
   "id": "1b593e14d64df624"
  },
  {
   "cell_type": "code",
   "execution_count": 17,
   "outputs": [
    {
     "data": {
      "text/plain": "'abcdefghijk'"
     },
     "execution_count": 17,
     "metadata": {},
     "output_type": "execute_result"
    }
   ],
   "source": [
    "str_test = 'abcdefghijklmn'\n",
    "str_test[:-3]"
   ],
   "metadata": {
    "collapsed": false,
    "ExecuteTime": {
     "end_time": "2023-12-31T11:29:16.734406Z",
     "start_time": "2023-12-31T11:29:16.714587Z"
    }
   },
   "id": "44a55dc9b0dd7954"
  },
  {
   "cell_type": "code",
   "execution_count": 18,
   "outputs": [
    {
     "data": {
      "text/plain": "'cdefghijk'"
     },
     "execution_count": 18,
     "metadata": {},
     "output_type": "execute_result"
    }
   ],
   "source": [
    "str_test = 'abcdefghijklmn'\n",
    "str_test[2:-3]"
   ],
   "metadata": {
    "collapsed": false,
    "ExecuteTime": {
     "end_time": "2023-12-31T11:29:28.366338Z",
     "start_time": "2023-12-31T11:29:28.325270Z"
    }
   },
   "id": "d51093ca19dcec16"
  },
  {
   "cell_type": "code",
   "execution_count": 19,
   "outputs": [
    {
     "data": {
      "text/plain": "'cegik'"
     },
     "execution_count": 19,
     "metadata": {},
     "output_type": "execute_result"
    }
   ],
   "source": [
    "str_test = 'abcdefghijklmn'\n",
    "str_test[2:-3:2]"
   ],
   "metadata": {
    "collapsed": false,
    "ExecuteTime": {
     "end_time": "2023-12-31T11:29:52.775613Z",
     "start_time": "2023-12-31T11:29:52.741455Z"
    }
   },
   "id": "9e65685525aab194"
  },
  {
   "cell_type": "markdown",
   "source": [
    "### 反转字符串"
   ],
   "metadata": {
    "collapsed": false
   },
   "id": "59a1a31763e2c941"
  },
  {
   "cell_type": "code",
   "execution_count": 21,
   "outputs": [
    {
     "data": {
      "text/plain": "('nmlkjihgfedcba', 'nmlkjihgfedcba')"
     },
     "execution_count": 21,
     "metadata": {},
     "output_type": "execute_result"
    }
   ],
   "source": [
    "str_test = 'abcdefghijklmn'\n",
    "str_re0 = str_test[-1::-1]\n",
    "str_re1 = str_test[::-1]\n",
    "#步长为负数，从右往左提取\n",
    "str_re0, str_re1"
   ],
   "metadata": {
    "collapsed": false,
    "ExecuteTime": {
     "end_time": "2023-12-31T11:33:26.471094Z",
     "start_time": "2023-12-31T11:33:26.396389Z"
    }
   },
   "id": "8533c088f1f2104d"
  },
  {
   "cell_type": "markdown",
   "source": [
    "## 获取字符串长度 len()"
   ],
   "metadata": {
    "collapsed": false
   },
   "id": "9000a408814f8b9"
  },
  {
   "cell_type": "code",
   "execution_count": 23,
   "outputs": [
    {
     "data": {
      "text/plain": "9"
     },
     "execution_count": 23,
     "metadata": {},
     "output_type": "execute_result"
    }
   ],
   "source": [
    "str_len = '123456789'\n",
    "len(str_len)"
   ],
   "metadata": {
    "collapsed": false,
    "ExecuteTime": {
     "end_time": "2023-12-31T11:34:33.032798Z",
     "start_time": "2023-12-31T11:34:33.017488Z"
    }
   },
   "id": "704bbf8b5afb5d74"
  },
  {
   "cell_type": "markdown",
   "source": [
    "## 使用split()分割字符串"
   ],
   "metadata": {
    "collapsed": false
   },
   "id": "86a3531560690cc3"
  },
  {
   "cell_type": "code",
   "execution_count": 25,
   "outputs": [
    {
     "data": {
      "text/plain": "['1', '2', '3', '4', '5', '6', '7', '8', '9']"
     },
     "execution_count": 25,
     "metadata": {},
     "output_type": "execute_result"
    }
   ],
   "source": [
    "str_num = '1,2,3,4,5,6,7,8,9'\n",
    "str_num_no = str_num.split(',')\n",
    "str_num_no"
   ],
   "metadata": {
    "collapsed": false,
    "ExecuteTime": {
     "end_time": "2023-12-31T11:35:44.088321Z",
     "start_time": "2023-12-31T11:35:44.078908Z"
    }
   },
   "id": "9d3360e716221b8d"
  },
  {
   "cell_type": "markdown",
   "source": [
    "## 使用join()合并字符串"
   ],
   "metadata": {
    "collapsed": false
   },
   "id": "4f4038d3497272c7"
  },
  {
   "cell_type": "code",
   "execution_count": 28,
   "outputs": [
    {
     "data": {
      "text/plain": "'1-2-3-4-5-6-7-8-9'"
     },
     "execution_count": 28,
     "metadata": {},
     "output_type": "execute_result"
    }
   ],
   "source": [
    "list_str = ['1', '2', '3', '4', '5', '6', '7', '8', '9']\n",
    "str_from_list = '-'.join(list_str)\n",
    "str_from_list"
   ],
   "metadata": {
    "collapsed": false,
    "ExecuteTime": {
     "end_time": "2023-12-31T11:37:58.845372Z",
     "start_time": "2023-12-31T11:37:58.829525Z"
    }
   },
   "id": "61eaf5e863648aab"
  },
  {
   "cell_type": "markdown",
   "source": [
    "## 使用replace()替换子串"
   ],
   "metadata": {
    "collapsed": false
   },
   "id": "194c8796a18894cd"
  },
  {
   "cell_type": "code",
   "execution_count": 32,
   "outputs": [
    {
     "data": {
      "text/plain": "('a marmoset goes into a bar', 'a duck goes into a bar')"
     },
     "execution_count": 32,
     "metadata": {},
     "output_type": "execute_result"
    }
   ],
   "source": [
    "setup = 'a duck goes into a bar'\n",
    "setup_replaced = setup.replace('duck', 'marmoset')\n",
    "setup_replaced, setup\n",
    "#字符串不可变"
   ],
   "metadata": {
    "collapsed": false,
    "ExecuteTime": {
     "end_time": "2023-12-31T11:40:04.529847Z",
     "start_time": "2023-12-31T11:40:04.517052Z"
    }
   },
   "id": "e2a8b011fb2d473f"
  },
  {
   "cell_type": "markdown",
   "source": [
    "## 使用strip()剥离"
   ],
   "metadata": {
    "collapsed": false
   },
   "id": "31213919a4a0a0ea"
  },
  {
   "cell_type": "code",
   "execution_count": 34,
   "outputs": [
    {
     "data": {
      "text/plain": "('earth', 'earth')"
     },
     "execution_count": 34,
     "metadata": {},
     "output_type": "execute_result"
    }
   ],
   "source": [
    "world = \"   earth    \"\n",
    "world_striped0 = world.strip()\n",
    "world_striped1 = world.strip(\" \")\n",
    "world_striped0, world_striped1"
   ],
   "metadata": {
    "collapsed": false,
    "ExecuteTime": {
     "end_time": "2023-12-31T11:42:07.507630Z",
     "start_time": "2023-12-31T11:42:07.490906Z"
    }
   },
   "id": "a1c1d308d6604dd0"
  },
  {
   "cell_type": "markdown",
   "source": [
    "## upper()将字符串转换为大写"
   ],
   "metadata": {
    "collapsed": false
   },
   "id": "552ca0212ac198fe"
  },
  {
   "cell_type": "code",
   "execution_count": 35,
   "outputs": [
    {
     "data": {
      "text/plain": "'ABCD'"
     },
     "execution_count": 35,
     "metadata": {},
     "output_type": "execute_result"
    }
   ],
   "source": [
    "str_low = 'abcd'\n",
    "str_uppeed = str_low.upper()\n",
    "str_uppeed"
   ],
   "metadata": {
    "collapsed": false,
    "ExecuteTime": {
     "end_time": "2023-12-31T11:44:20.942873Z",
     "start_time": "2023-12-31T11:44:20.913355Z"
    }
   },
   "id": "9b402e70420e5c0"
  },
  {
   "cell_type": "markdown",
   "source": [
    "## lower()将字符串转换为小写"
   ],
   "metadata": {
    "collapsed": false
   },
   "id": "dcd2a251aed2269f"
  },
  {
   "cell_type": "code",
   "execution_count": 36,
   "outputs": [
    {
     "data": {
      "text/plain": "'abcd'"
     },
     "execution_count": 36,
     "metadata": {},
     "output_type": "execute_result"
    }
   ],
   "source": [
    "str_up = 'ABCD'\n",
    "str_lowed = str_up.lower()\n",
    "str_lowed"
   ],
   "metadata": {
    "collapsed": false,
    "ExecuteTime": {
     "end_time": "2023-12-31T11:45:17.876962Z",
     "start_time": "2023-12-31T11:45:17.846480Z"
    }
   },
   "id": "7f82afe769700080"
  },
  {
   "cell_type": "markdown",
   "source": [
    "## 搜索子串"
   ],
   "metadata": {
    "collapsed": false
   },
   "id": "373ee0c7521571c0"
  },
  {
   "cell_type": "code",
   "execution_count": 39,
   "outputs": [
    {
     "data": {
      "text/plain": "7"
     },
     "execution_count": 39,
     "metadata": {},
     "output_type": "execute_result"
    }
   ],
   "source": [
    "poem = \"Hello, World\"\n",
    "world_index = poem.find('World')\n",
    "world_index\n",
    "#第一次出现的偏移位置"
   ],
   "metadata": {
    "collapsed": false,
    "ExecuteTime": {
     "end_time": "2023-12-31T11:48:01.204414Z",
     "start_time": "2023-12-31T11:48:01.193886Z"
    }
   },
   "id": "c53b1c041a336db1"
  },
  {
   "cell_type": "code",
   "execution_count": null,
   "outputs": [],
   "source": [],
   "metadata": {
    "collapsed": false
   },
   "id": "e07bbef69033d6fe"
  }
 ],
 "metadata": {
  "kernelspec": {
   "display_name": "Python 3",
   "language": "python",
   "name": "python3"
  },
  "language_info": {
   "codemirror_mode": {
    "name": "ipython",
    "version": 2
   },
   "file_extension": ".py",
   "mimetype": "text/x-python",
   "name": "python",
   "nbconvert_exporter": "python",
   "pygments_lexer": "ipython2",
   "version": "2.7.6"
  }
 },
 "nbformat": 4,
 "nbformat_minor": 5
}
