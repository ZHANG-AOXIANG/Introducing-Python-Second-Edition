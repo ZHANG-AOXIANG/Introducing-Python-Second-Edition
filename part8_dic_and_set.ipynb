{
 "cells": [
  {
   "cell_type": "markdown",
   "source": [
    "# 字典与集合"
   ],
   "metadata": {
    "collapsed": false
   },
   "id": "d1138dc17aa42a26"
  },
  {
   "cell_type": "markdown",
   "source": [
    "## 新建字典"
   ],
   "metadata": {
    "collapsed": false
   },
   "id": "e2a105bc8ea96a4b"
  },
  {
   "cell_type": "code",
   "execution_count": 53,
   "outputs": [
    {
     "data": {
      "text/plain": "{}"
     },
     "execution_count": 53,
     "metadata": {},
     "output_type": "execute_result"
    }
   ],
   "source": [
    "empty_dic = {}\n",
    "empty_dic"
   ],
   "metadata": {
    "collapsed": false,
    "ExecuteTime": {
     "end_time": "2023-12-23T12:01:00.234029Z",
     "start_time": "2023-12-23T12:00:59.344654Z"
    }
   },
   "id": "8c651fce658471d1"
  },
  {
   "cell_type": "code",
   "execution_count": 54,
   "outputs": [
    {
     "data": {
      "text/plain": "{'1': 'A', '2': 'B', '3': 'C'}"
     },
     "execution_count": 54,
     "metadata": {},
     "output_type": "execute_result"
    }
   ],
   "source": [
    "example_dic = {\n",
    "    '1': 'A',\n",
    "    '2': 'B',\n",
    "    '3': 'C',\n",
    "}\n",
    "example_dic"
   ],
   "metadata": {
    "collapsed": false,
    "ExecuteTime": {
     "end_time": "2023-12-23T12:01:00.477591Z",
     "start_time": "2023-12-23T12:00:59.354079Z"
    }
   },
   "id": "2e152805d8d45fea"
  },
  {
   "cell_type": "code",
   "execution_count": 55,
   "outputs": [
    {
     "data": {
      "text/plain": "{'first': 'Wile', 'middle': 'E', 'last': 'Coyote'}"
     },
     "execution_count": 55,
     "metadata": {},
     "output_type": "execute_result"
    }
   ],
   "source": [
    "acme_customer = dict(first='Wile', middle='E', last='Coyote')\n",
    "acme_customer"
   ],
   "metadata": {
    "collapsed": false,
    "ExecuteTime": {
     "end_time": "2023-12-23T12:01:00.478370Z",
     "start_time": "2023-12-23T12:00:59.362841Z"
    }
   },
   "id": "eee27d554b0d6323"
  },
  {
   "cell_type": "code",
   "execution_count": 56,
   "outputs": [
    {
     "data": {
      "text/plain": "{'a': 'b', 'c': 'd', 'e': 'f'}"
     },
     "execution_count": 56,
     "metadata": {},
     "output_type": "execute_result"
    }
   ],
   "source": [
    "lol = [['a', 'b'], ['c', 'd'], ['e', 'f']]\n",
    "lol_dict = dict(lol)\n",
    "lol_dict"
   ],
   "metadata": {
    "collapsed": false,
    "ExecuteTime": {
     "end_time": "2023-12-23T12:01:00.478752Z",
     "start_time": "2023-12-23T12:00:59.370660Z"
    }
   },
   "id": "bad1456e2947586"
  },
  {
   "cell_type": "code",
   "execution_count": 57,
   "outputs": [
    {
     "data": {
      "text/plain": "{'Chapman': 'Graham',\n 'Cleese': 'John',\n 'Idle': 'Eric',\n 'Jones': 'Terry',\n 'Palin': 'Michael',\n 'Gilliam': 'Gerry'}"
     },
     "execution_count": 57,
     "metadata": {},
     "output_type": "execute_result"
    }
   ],
   "source": [
    "dict_example = {\n",
    "    'Chapman': 'Graham',\n",
    "    'Cleese': 'John',\n",
    "    'Idle': 'Eric',\n",
    "    'Jones': 'Terry',\n",
    "    'Palin': 'Michael'\n",
    "}\n",
    "dict_example['Gilliam'] = 'Gerry'\n",
    "dict_example"
   ],
   "metadata": {
    "collapsed": false,
    "ExecuteTime": {
     "end_time": "2023-12-23T12:01:00.544022Z",
     "start_time": "2023-12-23T12:00:59.379190Z"
    }
   },
   "id": "efe1dead798b74fe"
  },
  {
   "cell_type": "code",
   "execution_count": 58,
   "outputs": [
    {
     "data": {
      "text/plain": "'Eric'"
     },
     "execution_count": 58,
     "metadata": {},
     "output_type": "execute_result"
    }
   ],
   "source": [
    "dict_example.get('Idle')"
   ],
   "metadata": {
    "collapsed": false,
    "ExecuteTime": {
     "end_time": "2023-12-23T12:01:00.544673Z",
     "start_time": "2023-12-23T12:00:59.386930Z"
    }
   },
   "id": "f4cf43ff6e60e16f"
  },
  {
   "cell_type": "code",
   "execution_count": 59,
   "outputs": [
    {
     "data": {
      "text/plain": "dict_keys(['Chapman', 'Cleese', 'Idle', 'Jones', 'Palin', 'Gilliam'])"
     },
     "execution_count": 59,
     "metadata": {},
     "output_type": "execute_result"
    }
   ],
   "source": [
    "dict_example.keys()"
   ],
   "metadata": {
    "collapsed": false,
    "ExecuteTime": {
     "end_time": "2023-12-23T12:01:00.545451Z",
     "start_time": "2023-12-23T12:00:59.392807Z"
    }
   },
   "id": "e4ff2a0ceb23bea8"
  },
  {
   "cell_type": "code",
   "execution_count": 60,
   "outputs": [
    {
     "data": {
      "text/plain": "dict_values(['Graham', 'John', 'Eric', 'Terry', 'Michael', 'Gerry'])"
     },
     "execution_count": 60,
     "metadata": {},
     "output_type": "execute_result"
    }
   ],
   "source": [
    "dict_example.values()"
   ],
   "metadata": {
    "collapsed": false,
    "ExecuteTime": {
     "end_time": "2023-12-23T12:01:00.545922Z",
     "start_time": "2023-12-23T12:00:59.400678Z"
    }
   },
   "id": "bf7f42390e489cb3"
  },
  {
   "cell_type": "code",
   "execution_count": 61,
   "outputs": [
    {
     "data": {
      "text/plain": "['Chapman', 'Cleese', 'Idle', 'Jones', 'Palin', 'Gilliam']"
     },
     "execution_count": 61,
     "metadata": {},
     "output_type": "execute_result"
    }
   ],
   "source": [
    "list(dict_example.keys())"
   ],
   "metadata": {
    "collapsed": false,
    "ExecuteTime": {
     "end_time": "2023-12-23T12:01:00.571381Z",
     "start_time": "2023-12-23T12:00:59.405657Z"
    }
   },
   "id": "a3cac86e937e5ab2"
  },
  {
   "cell_type": "code",
   "execution_count": 62,
   "outputs": [
    {
     "data": {
      "text/plain": "['Graham', 'John', 'Eric', 'Terry', 'Michael', 'Gerry']"
     },
     "execution_count": 62,
     "metadata": {},
     "output_type": "execute_result"
    }
   ],
   "source": [
    "list(dict_example.values())"
   ],
   "metadata": {
    "collapsed": false,
    "ExecuteTime": {
     "end_time": "2023-12-23T12:01:00.571847Z",
     "start_time": "2023-12-23T12:00:59.413213Z"
    }
   },
   "id": "41de5a2c7542ab97"
  },
  {
   "cell_type": "code",
   "execution_count": 63,
   "outputs": [
    {
     "data": {
      "text/plain": "6"
     },
     "execution_count": 63,
     "metadata": {},
     "output_type": "execute_result"
    }
   ],
   "source": [
    "len(dict_example)"
   ],
   "metadata": {
    "collapsed": false,
    "ExecuteTime": {
     "end_time": "2023-12-23T12:01:00.572329Z",
     "start_time": "2023-12-23T12:00:59.419238Z"
    }
   },
   "id": "38726b9785afd3c1"
  },
  {
   "cell_type": "markdown",
   "source": [
    "## 合并字典 {**dict_a, **dict_b}       dict1.update(dict2)"
   ],
   "metadata": {
    "collapsed": false
   },
   "id": "a56db4fafba34e11"
  },
  {
   "cell_type": "code",
   "execution_count": 64,
   "outputs": [
    {
     "data": {
      "text/plain": "{'a': 'agony', 'b': 'bagels', 'c': 'candy'}"
     },
     "execution_count": 64,
     "metadata": {},
     "output_type": "execute_result"
    }
   ],
   "source": [
    "first = {'a': 'agony', 'b': 'bliss'}\n",
    "second = {'b': 'bagels', 'c': 'candy'}\n",
    "{**first, **second}"
   ],
   "metadata": {
    "collapsed": false,
    "ExecuteTime": {
     "end_time": "2023-12-23T12:01:00.572590Z",
     "start_time": "2023-12-23T12:00:59.427822Z"
    }
   },
   "id": "79ab4f6e6ffcd1cf"
  },
  {
   "cell_type": "code",
   "execution_count": 65,
   "outputs": [
    {
     "data": {
      "text/plain": "{'1': 'a', '2': 'b', '3': 'c'}"
     },
     "execution_count": 65,
     "metadata": {},
     "output_type": "execute_result"
    }
   ],
   "source": [
    "dict1 = {'1': 'a', '2': 'b'}\n",
    "dict2 = {'3': 'c'}\n",
    "dict1.update(dict2)\n",
    "dict1"
   ],
   "metadata": {
    "collapsed": false,
    "ExecuteTime": {
     "end_time": "2023-12-23T12:01:00.572906Z",
     "start_time": "2023-12-23T12:00:59.433969Z"
    }
   },
   "id": "145f48e53522b93"
  },
  {
   "cell_type": "markdown",
   "source": [
    "## 通过【键】删除字典元素  del dict[key]"
   ],
   "metadata": {
    "collapsed": false
   },
   "id": "4a34a66ce8061089"
  },
  {
   "cell_type": "code",
   "execution_count": 66,
   "outputs": [
    {
     "data": {
      "text/plain": "{'b': '2'}"
     },
     "execution_count": 66,
     "metadata": {},
     "output_type": "execute_result"
    }
   ],
   "source": [
    "dict1 = {'a': '1', 'b': '2'}\n",
    "del dict1['a']\n",
    "dict1"
   ],
   "metadata": {
    "collapsed": false,
    "ExecuteTime": {
     "end_time": "2023-12-23T12:01:00.607439Z",
     "start_time": "2023-12-23T12:00:59.441942Z"
    }
   },
   "id": "71f460eb9c156c87"
  },
  {
   "cell_type": "markdown",
   "source": [
    "# 获取一个元素，并将它从字典中删除 pop()"
   ],
   "metadata": {
    "collapsed": false
   },
   "id": "98a0a8ea22d31ed8"
  },
  {
   "cell_type": "code",
   "execution_count": 67,
   "outputs": [
    {
     "data": {
      "text/plain": "('1', {'b': '2'})"
     },
     "execution_count": 67,
     "metadata": {},
     "output_type": "execute_result"
    }
   ],
   "source": [
    "dict1 = {'a': '1', 'b': '2'}\n",
    "dict_a = dict1.pop('a')\n",
    "dict_a, dict1"
   ],
   "metadata": {
    "collapsed": false,
    "ExecuteTime": {
     "end_time": "2023-12-23T12:01:00.609806Z",
     "start_time": "2023-12-23T12:00:59.449452Z"
    }
   },
   "id": "c9bf56bee6fb6a43"
  },
  {
   "cell_type": "code",
   "execution_count": 68,
   "outputs": [
    {
     "data": {
      "text/plain": "('1', {'a': '1', 'b': '2'})"
     },
     "execution_count": 68,
     "metadata": {},
     "output_type": "execute_result"
    }
   ],
   "source": [
    "dict1 = {'a': '1', 'b': '2'}\n",
    "dict_a = dict1.get('a')\n",
    "dict_a, dict1"
   ],
   "metadata": {
    "collapsed": false,
    "ExecuteTime": {
     "end_time": "2023-12-23T12:01:00.610147Z",
     "start_time": "2023-12-23T12:00:59.457043Z"
    }
   },
   "id": "61688cadd2b33b4"
  },
  {
   "cell_type": "markdown",
   "source": [
    "# 清空字典 dict.clear()"
   ],
   "metadata": {
    "collapsed": false
   },
   "id": "1d87bcaa7cc1757d"
  },
  {
   "cell_type": "code",
   "execution_count": 69,
   "outputs": [
    {
     "data": {
      "text/plain": "{}"
     },
     "execution_count": 69,
     "metadata": {},
     "output_type": "execute_result"
    }
   ],
   "source": [
    "dict1 = {'a': '1', 'b': '2'}\n",
    "dict1.clear()\n",
    "dict1"
   ],
   "metadata": {
    "collapsed": false,
    "ExecuteTime": {
     "end_time": "2023-12-23T12:01:00.633584Z",
     "start_time": "2023-12-23T12:00:59.471581Z"
    }
   },
   "id": "41024c2f3ca6bd8d"
  },
  {
   "cell_type": "markdown",
   "source": [
    "# 字典赋值 ="
   ],
   "metadata": {
    "collapsed": false
   },
   "id": "a249b85d504a7d7f"
  },
  {
   "cell_type": "code",
   "execution_count": 70,
   "outputs": [
    {
     "data": {
      "text/plain": "({'green': 'stop', 'yellow': 'go faster', 'red': 'simle for the camera'},\n {'green': 'stop', 'yellow': 'go faster', 'red': 'simle for the camera'})"
     },
     "execution_count": 70,
     "metadata": {},
     "output_type": "execute_result"
    }
   ],
   "source": [
    "signals = {\n",
    "    'green': 'go',\n",
    "    'yellow': 'go faster',\n",
    "    'red': 'simle for the camera'\n",
    "}\n",
    "save_signals = signals\n",
    "save_signals['green'] = 'stop'\n",
    "save_signals, signals"
   ],
   "metadata": {
    "collapsed": false,
    "ExecuteTime": {
     "end_time": "2023-12-23T12:01:00.656834Z",
     "start_time": "2023-12-23T12:00:59.502322Z"
    }
   },
   "id": "674e488679cc2d97"
  },
  {
   "cell_type": "markdown",
   "source": [
    "# 浅拷贝字典 copy()"
   ],
   "metadata": {
    "collapsed": false
   },
   "id": "b12740aaf968a79d"
  },
  {
   "cell_type": "code",
   "execution_count": 71,
   "outputs": [
    {
     "data": {
      "text/plain": "({'green': 'stop', 'yellow': 'go faster', 'red': 'simle for the camera'},\n {'green': 'go', 'yellow': 'go faster', 'red': 'simle for the camera'})"
     },
     "execution_count": 71,
     "metadata": {},
     "output_type": "execute_result"
    }
   ],
   "source": [
    "signals = {\n",
    "    'green': 'go',\n",
    "    'yellow': 'go faster',\n",
    "    'red': 'simle for the camera'\n",
    "}\n",
    "save_signals = signals.copy()\n",
    "save_signals['green'] = 'stop'\n",
    "save_signals, signals"
   ],
   "metadata": {
    "collapsed": false,
    "ExecuteTime": {
     "end_time": "2023-12-23T12:01:00.666707Z",
     "start_time": "2023-12-23T12:00:59.530227Z"
    }
   },
   "id": "7e6ec4c09a3ea9e4"
  },
  {
   "cell_type": "markdown",
   "source": [
    "## 深拷贝字典 deepcopy()"
   ],
   "metadata": {
    "collapsed": false
   },
   "id": "aa15c3f6ab178e08"
  },
  {
   "cell_type": "code",
   "execution_count": 72,
   "outputs": [
    {
     "data": {
      "text/plain": "({'green': 'go', 'yellow': 'go faster', 'red': ['go', 'simle']},\n {'green': 'go', 'yellow': 'go faster', 'red': ['go', 'simle']})"
     },
     "execution_count": 72,
     "metadata": {},
     "output_type": "execute_result"
    }
   ],
   "source": [
    "signals = {\n",
    "    'green': 'go',\n",
    "    'yellow': 'go faster',\n",
    "    'red': ['stop', 'simle']\n",
    "}\n",
    "save_signals = signals.copy()\n",
    "save_signals['red'][0] = 'go'\n",
    "save_signals, signals"
   ],
   "metadata": {
    "collapsed": false,
    "ExecuteTime": {
     "end_time": "2023-12-23T12:01:00.738444Z",
     "start_time": "2023-12-23T12:00:59.562476Z"
    }
   },
   "id": "d511ca83f6433f19"
  },
  {
   "cell_type": "code",
   "execution_count": 73,
   "outputs": [
    {
     "data": {
      "text/plain": "({'green': 'go', 'yellow': 'go faster', 'red': ['go', 'simle']},\n {'green': 'go', 'yellow': 'go faster', 'red': ['stop', 'simle']})"
     },
     "execution_count": 73,
     "metadata": {},
     "output_type": "execute_result"
    }
   ],
   "source": [
    "import copy\n",
    "\n",
    "signals = {\n",
    "    'green': 'go',\n",
    "    'yellow': 'go faster',\n",
    "    'red': ['stop', 'simle']\n",
    "}\n",
    "save_signals = copy.deepcopy(signals)\n",
    "save_signals['red'][0] = 'go'\n",
    "save_signals, signals"
   ],
   "metadata": {
    "collapsed": false,
    "ExecuteTime": {
     "end_time": "2023-12-23T12:01:00.739321Z",
     "start_time": "2023-12-23T12:00:59.571402Z"
    }
   },
   "id": "91ca78a95e0c6b72"
  },
  {
   "cell_type": "markdown",
   "source": [
    "## 比较字典"
   ],
   "metadata": {
    "collapsed": false
   },
   "id": "4d97704ebd64b6b9"
  },
  {
   "cell_type": "code",
   "execution_count": 74,
   "outputs": [
    {
     "data": {
      "text/plain": "True"
     },
     "execution_count": 74,
     "metadata": {},
     "output_type": "execute_result"
    }
   ],
   "source": [
    "a = {1: 1, 2: 2, 3: 3}\n",
    "b = {3: 3, 2: 2, 1: 1}\n",
    "a == b"
   ],
   "metadata": {
    "collapsed": false,
    "ExecuteTime": {
     "end_time": "2023-12-23T12:01:00.797623Z",
     "start_time": "2023-12-23T12:00:59.584119Z"
    }
   },
   "id": "e569c19325dd24f7"
  },
  {
   "cell_type": "code",
   "execution_count": 75,
   "outputs": [
    {
     "data": {
      "text/plain": "False"
     },
     "execution_count": 75,
     "metadata": {},
     "output_type": "execute_result"
    }
   ],
   "source": [
    "a = {1: [1, 2], 2: [1], 3: [1]}\n",
    "b = {1: [1, 1], 2: [1], 3: [1]}\n",
    "a == b"
   ],
   "metadata": {
    "collapsed": false,
    "ExecuteTime": {
     "end_time": "2023-12-23T12:01:00.798198Z",
     "start_time": "2023-12-23T12:00:59.594926Z"
    }
   },
   "id": "97bafed03cdbc752"
  },
  {
   "cell_type": "markdown",
   "source": [
    "## 遍历字典"
   ],
   "metadata": {
    "collapsed": false
   },
   "id": "b65a42608d3e2751"
  },
  {
   "cell_type": "code",
   "execution_count": 76,
   "outputs": [
    {
     "name": "stdout",
     "output_type": "stream",
     "text": [
      "room\n",
      "weapon\n",
      "person\n"
     ]
    }
   ],
   "source": [
    "accusation = {\n",
    "    'room': 'ballroom',\n",
    "    'weapon': 'lead pipe',\n",
    "    'person': 'Col. Mustard'\n",
    "}\n",
    "for card in accusation:\n",
    "    print(card)"
   ],
   "metadata": {
    "collapsed": false,
    "ExecuteTime": {
     "end_time": "2023-12-23T12:01:00.902709Z",
     "start_time": "2023-12-23T12:00:59.613423Z"
    }
   },
   "id": "3a2e9b6fe7c1bce5"
  },
  {
   "cell_type": "code",
   "execution_count": 77,
   "outputs": [
    {
     "name": "stdout",
     "output_type": "stream",
     "text": [
      "room\n",
      "weapon\n",
      "person\n"
     ]
    }
   ],
   "source": [
    "accusation = {\n",
    "    'room': 'ballroom',\n",
    "    'weapon': 'lead pipe',\n",
    "    'person': 'Col. Mustard'\n",
    "}\n",
    "for card in accusation.keys():\n",
    "    print(card)"
   ],
   "metadata": {
    "collapsed": false,
    "ExecuteTime": {
     "end_time": "2023-12-23T12:01:00.903281Z",
     "start_time": "2023-12-23T12:00:59.620590Z"
    }
   },
   "id": "41491a79a4bce061"
  },
  {
   "cell_type": "code",
   "execution_count": 78,
   "outputs": [
    {
     "name": "stdout",
     "output_type": "stream",
     "text": [
      "ballroom\n",
      "lead pipe\n",
      "Col. Mustard\n"
     ]
    }
   ],
   "source": [
    "accusation = {\n",
    "    'room': 'ballroom',\n",
    "    'weapon': 'lead pipe',\n",
    "    'person': 'Col. Mustard'\n",
    "}\n",
    "for card in accusation.values():\n",
    "    print(card)"
   ],
   "metadata": {
    "collapsed": false,
    "ExecuteTime": {
     "end_time": "2023-12-23T12:01:00.903574Z",
     "start_time": "2023-12-23T12:00:59.626391Z"
    }
   },
   "id": "afa9488c6f36ab64"
  },
  {
   "cell_type": "code",
   "execution_count": 79,
   "outputs": [
    {
     "name": "stdout",
     "output_type": "stream",
     "text": [
      "('room', 'ballroom')\n",
      "('weapon', 'lead pipe')\n",
      "('person', 'Col. Mustard')\n"
     ]
    }
   ],
   "source": [
    "accusation = {\n",
    "    'room': 'ballroom',\n",
    "    'weapon': 'lead pipe',\n",
    "    'person': 'Col. Mustard'\n",
    "}\n",
    "for card in accusation.items():\n",
    "    print(card)"
   ],
   "metadata": {
    "collapsed": false,
    "ExecuteTime": {
     "end_time": "2023-12-23T12:01:00.992934Z",
     "start_time": "2023-12-23T12:00:59.632369Z"
    }
   },
   "id": "bddf3d3448088ce"
  },
  {
   "cell_type": "code",
   "execution_count": 80,
   "outputs": [
    {
     "name": "stdout",
     "output_type": "stream",
     "text": [
      "['room', 'ballroom']\n",
      "['weapon', 'lead pipe']\n",
      "['person', 'Col. Mustard']\n"
     ]
    }
   ],
   "source": [
    "accusation = {\n",
    "    'room': 'ballroom',\n",
    "    'weapon': 'lead pipe',\n",
    "    'person': 'Col. Mustard'\n",
    "}\n",
    "for card, content in accusation.items():\n",
    "    print([card, content])"
   ],
   "metadata": {
    "collapsed": false,
    "ExecuteTime": {
     "end_time": "2023-12-23T12:01:00.993409Z",
     "start_time": "2023-12-23T12:00:59.642317Z"
    }
   },
   "id": "3b8b75ac691bc15"
  },
  {
   "cell_type": "markdown",
   "source": [
    "# 集合"
   ],
   "metadata": {
    "collapsed": false
   },
   "id": "b647b1ef921a0f1a"
  },
  {
   "cell_type": "code",
   "execution_count": 81,
   "outputs": [
    {
     "data": {
      "text/plain": "set()"
     },
     "execution_count": 81,
     "metadata": {},
     "output_type": "execute_result"
    }
   ],
   "source": [
    "empty_set = set()\n",
    "empty_set"
   ],
   "metadata": {
    "collapsed": false,
    "ExecuteTime": {
     "end_time": "2023-12-23T12:01:00.993738Z",
     "start_time": "2023-12-23T12:00:59.649631Z"
    }
   },
   "id": "1d88112104b0ad06"
  },
  {
   "cell_type": "code",
   "execution_count": 82,
   "outputs": [
    {
     "data": {
      "text/plain": "{1, 2, 3, 4, 5, 6}"
     },
     "execution_count": 82,
     "metadata": {},
     "output_type": "execute_result"
    }
   ],
   "source": [
    "set_numbers = {1, 2, 3, 4, 5, 6}\n",
    "set_numbers"
   ],
   "metadata": {
    "collapsed": false,
    "ExecuteTime": {
     "end_time": "2023-12-23T12:01:00.993902Z",
     "start_time": "2023-12-23T12:00:59.654538Z"
    }
   },
   "id": "7b80408607f622aa"
  },
  {
   "cell_type": "code",
   "execution_count": 83,
   "outputs": [
    {
     "data": {
      "text/plain": "{'e', 'l', 'r', 's', 't'}"
     },
     "execution_count": 83,
     "metadata": {},
     "output_type": "execute_result"
    }
   ],
   "source": [
    "set_string = set('letters')\n",
    "set_string"
   ],
   "metadata": {
    "collapsed": false,
    "ExecuteTime": {
     "end_time": "2023-12-23T12:01:01.037033Z",
     "start_time": "2023-12-23T12:00:59.663757Z"
    }
   },
   "id": "1ed92065b022230e"
  },
  {
   "cell_type": "code",
   "execution_count": 84,
   "outputs": [
    {
     "data": {
      "text/plain": "{'Dancer', 'Dasher', 'Mason-Dixon', 'Prancer'}"
     },
     "execution_count": 84,
     "metadata": {},
     "output_type": "execute_result"
    }
   ],
   "source": [
    "set_list = set(['Dasher', 'Dancer', 'Prancer', 'Mason-Dixon'])\n",
    "set_list"
   ],
   "metadata": {
    "collapsed": false,
    "ExecuteTime": {
     "end_time": "2023-12-23T12:01:01.037493Z",
     "start_time": "2023-12-23T12:00:59.670598Z"
    }
   },
   "id": "df08374a7fdee685"
  },
  {
   "cell_type": "code",
   "execution_count": 85,
   "outputs": [
    {
     "data": {
      "text/plain": "{'Dancer', 'Dasher', 'Mason-Dixon', 'Prancer'}"
     },
     "execution_count": 85,
     "metadata": {},
     "output_type": "execute_result"
    }
   ],
   "source": [
    "set_tuple = set(('Dasher', 'Dancer', 'Prancer', 'Mason-Dixon'))\n",
    "set_tuple"
   ],
   "metadata": {
    "collapsed": false,
    "ExecuteTime": {
     "end_time": "2023-12-23T12:01:01.037692Z",
     "start_time": "2023-12-23T12:00:59.677550Z"
    }
   },
   "id": "8f0b076de2256710"
  },
  {
   "cell_type": "code",
   "execution_count": 86,
   "outputs": [
    {
     "data": {
      "text/plain": "6"
     },
     "execution_count": 86,
     "metadata": {},
     "output_type": "execute_result"
    }
   ],
   "source": [
    "set_numbers = {1, 2, 3, 4, 5, 6}\n",
    "set_length = len(set_numbers)\n",
    "set_length"
   ],
   "metadata": {
    "collapsed": false,
    "ExecuteTime": {
     "end_time": "2023-12-23T12:01:01.066004Z",
     "start_time": "2023-12-23T12:00:59.684574Z"
    }
   },
   "id": "67580dd1e48b0fd4"
  },
  {
   "cell_type": "markdown",
   "source": [
    "## 向集合中添加元素 add()"
   ],
   "metadata": {
    "collapsed": false
   },
   "id": "da38d3b95b9977ee"
  },
  {
   "cell_type": "code",
   "execution_count": 87,
   "outputs": [
    {
     "data": {
      "text/plain": "{1, 2, 3}"
     },
     "execution_count": 87,
     "metadata": {},
     "output_type": "execute_result"
    }
   ],
   "source": [
    "s = set((1, 2, 3))\n",
    "s"
   ],
   "metadata": {
    "collapsed": false,
    "ExecuteTime": {
     "end_time": "2023-12-23T12:01:01.066364Z",
     "start_time": "2023-12-23T12:00:59.694969Z"
    }
   },
   "id": "7e5b49795938f6a7"
  },
  {
   "cell_type": "code",
   "execution_count": 88,
   "outputs": [
    {
     "data": {
      "text/plain": "{1, 2, 3, 4}"
     },
     "execution_count": 88,
     "metadata": {},
     "output_type": "execute_result"
    }
   ],
   "source": [
    "s.add(4)\n",
    "s"
   ],
   "metadata": {
    "collapsed": false,
    "ExecuteTime": {
     "end_time": "2023-12-23T12:01:01.066548Z",
     "start_time": "2023-12-23T12:00:59.700622Z"
    }
   },
   "id": "dcfb67840a6538d5"
  },
  {
   "cell_type": "markdown",
   "source": [
    "## 删除集合中的元素 remove() "
   ],
   "metadata": {
    "collapsed": false
   },
   "id": "b9b6b0df684a15d0"
  },
  {
   "cell_type": "code",
   "execution_count": 89,
   "outputs": [
    {
     "data": {
      "text/plain": "{2, 3, 4}"
     },
     "execution_count": 89,
     "metadata": {},
     "output_type": "execute_result"
    }
   ],
   "source": [
    "s.remove(1)\n",
    "s"
   ],
   "metadata": {
    "collapsed": false,
    "ExecuteTime": {
     "end_time": "2023-12-23T12:01:01.066701Z",
     "start_time": "2023-12-23T12:00:59.707925Z"
    }
   },
   "id": "7e8c0396b413c1d1"
  },
  {
   "cell_type": "markdown",
   "source": [
    "## 遍历集合"
   ],
   "metadata": {
    "collapsed": false
   },
   "id": "b7bfac9a7a6acc34"
  },
  {
   "cell_type": "code",
   "execution_count": 90,
   "outputs": [
    {
     "name": "stdout",
     "output_type": "stream",
     "text": [
      "1\n",
      "2\n",
      "3\n",
      "4\n",
      "5\n",
      "6\n",
      "7\n",
      "8\n",
      "9\n"
     ]
    }
   ],
   "source": [
    "s = {1, 2, 3, 4, 5, 6, 7, 8, 9}\n",
    "for number in s:\n",
    "    print(number)"
   ],
   "metadata": {
    "collapsed": false,
    "ExecuteTime": {
     "end_time": "2023-12-23T12:01:01.157086Z",
     "start_time": "2023-12-23T12:00:59.727224Z"
    }
   },
   "id": "b92ae828e3ce8220"
  },
  {
   "cell_type": "code",
   "execution_count": 91,
   "outputs": [
    {
     "data": {
      "text/plain": "(dict, set)"
     },
     "execution_count": 91,
     "metadata": {},
     "output_type": "execute_result"
    }
   ],
   "source": [
    "drinks = {\n",
    "    'martini': {'vodka', 'vermouth'},\n",
    "    'black russian': {'vodka', 'kahlua'},\n",
    "    'white russian': {'cream', 'kahlua', 'vodka'},\n",
    "    'manhattan': {'rye', 'vermouth', 'bitters'},\n",
    "    'screwdriver': {'orange juice', 'vodka'}\n",
    "}\n",
    "type(drinks), type(drinks['martini'])"
   ],
   "metadata": {
    "collapsed": false,
    "ExecuteTime": {
     "end_time": "2023-12-23T12:01:01.175690Z",
     "start_time": "2023-12-23T12:00:59.735393Z"
    }
   },
   "id": "1ed375fba0fa0c11"
  },
  {
   "cell_type": "code",
   "execution_count": 92,
   "outputs": [
    {
     "name": "stdout",
     "output_type": "stream",
     "text": [
      "martini\n",
      "black russian\n",
      "white russian\n",
      "screwdriver\n"
     ]
    }
   ],
   "source": [
    "for name, contents in drinks.items():\n",
    "    if 'vodka' in contents:\n",
    "        print(name)"
   ],
   "metadata": {
    "collapsed": false,
    "ExecuteTime": {
     "end_time": "2023-12-23T12:01:01.211172Z",
     "start_time": "2023-12-23T12:00:59.742138Z"
    }
   },
   "id": "409a79023211414"
  },
  {
   "cell_type": "code",
   "execution_count": 93,
   "outputs": [
    {
     "name": "stdout",
     "output_type": "stream",
     "text": [
      "black russian\n",
      "screwdriver\n"
     ]
    }
   ],
   "source": [
    "for name, contents in drinks.items():\n",
    "    if 'vodka' in contents and not ('vermouth' in contents or 'cream' in contents):\n",
    "        print(name)"
   ],
   "metadata": {
    "collapsed": false,
    "ExecuteTime": {
     "end_time": "2023-12-23T12:01:01.240903Z",
     "start_time": "2023-12-23T12:00:59.750724Z"
    }
   },
   "id": "95499d28a1c33b24"
  },
  {
   "cell_type": "markdown",
   "source": [
    "## 集合操作-交集 set_a&set_b  |  set_a.intersection(set_b)"
   ],
   "metadata": {
    "collapsed": false
   },
   "id": "d0876785c84ac88f"
  },
  {
   "cell_type": "code",
   "execution_count": 98,
   "outputs": [
    {
     "data": {
      "text/plain": "({2}, {2})"
     },
     "execution_count": 98,
     "metadata": {},
     "output_type": "execute_result"
    }
   ],
   "source": [
    "a = {1, 2}\n",
    "b = {2, 3}\n",
    "a & b, a.intersection(b)"
   ],
   "metadata": {
    "collapsed": false,
    "ExecuteTime": {
     "end_time": "2023-12-23T12:02:03.170344Z",
     "start_time": "2023-12-23T12:02:03.146999Z"
    }
   },
   "id": "2cb1ff711d88000f"
  },
  {
   "cell_type": "code",
   "execution_count": 94,
   "outputs": [
    {
     "name": "stdout",
     "output_type": "stream",
     "text": [
      "{'vodka', 'vermouth'} {'vermouth'}\n",
      "{'rye', 'bitters', 'vermouth'} {'vermouth'}\n",
      "{'vodka', 'orange juice'} {'orange juice'}\n"
     ]
    }
   ],
   "source": [
    "drinks = {\n",
    "    'martini': {'vodka', 'vermouth'},\n",
    "    'black russian': {'vodka', 'kahlua'},\n",
    "    'white russian': {'cream', 'kahlua', 'vodka'},\n",
    "    'manhattan': {'rye', 'vermouth', 'bitters'},\n",
    "    'screwdriver': {'orange juice', 'vodka'}\n",
    "}\n",
    "for name, contents in drinks.items():\n",
    "    if contents & {'vermouth', 'orange juice'}:\n",
    "        print(contents, contents & {'vermouth', 'orange juice'})"
   ],
   "metadata": {
    "collapsed": false,
    "ExecuteTime": {
     "start_time": "2023-12-23T12:00:59.760369Z"
    }
   },
   "id": "83b2e052986ba073"
  },
  {
   "cell_type": "code",
   "execution_count": 95,
   "outputs": [
    {
     "name": "stdout",
     "output_type": "stream",
     "text": [
      "None\n",
      "None\n",
      "None\n",
      "None\n",
      "None\n"
     ]
    }
   ],
   "source": [
    "drinks = {\n",
    "    'martini': {'vodka', 'vermouth'},\n",
    "    'black russian': {'vodka', 'kahlua'},\n",
    "    'white russian': {'cream', 'kahlua', 'vodka'},\n",
    "    'manhattan': {'rye', 'vermouth', 'bitters'},\n",
    "    'screwdriver': {'orange juice', 'vodka'}\n",
    "}\n",
    "for name, contents in drinks.items():\n",
    "    if contents & {'milk', 'apple juice'}:\n",
    "        print(contents, contents & {'vermouth', 'orange juice'})\n",
    "    else:\n",
    "        print('None')"
   ],
   "metadata": {
    "collapsed": false,
    "ExecuteTime": {
     "start_time": "2023-12-23T12:00:59.766029Z"
    }
   },
   "id": "9d98aa506d91ac14"
  },
  {
   "cell_type": "markdown",
   "source": [
    "## 集合操作-并集  set_a|set_b  set_a.union(set_b)"
   ],
   "metadata": {
    "collapsed": false
   },
   "id": "462b7eaf12add74d"
  },
  {
   "cell_type": "code",
   "execution_count": 101,
   "outputs": [
    {
     "data": {
      "text/plain": "({1, 2, 3, 4}, {1, 2, 3, 4})"
     },
     "execution_count": 101,
     "metadata": {},
     "output_type": "execute_result"
    }
   ],
   "source": [
    "a = {1, 2, 3}\n",
    "b = {2, 3, 4}\n",
    "a | b, a.union(b)"
   ],
   "metadata": {
    "collapsed": false,
    "ExecuteTime": {
     "end_time": "2023-12-23T12:03:39.496606Z",
     "start_time": "2023-12-23T12:03:39.460366Z"
    }
   },
   "id": "eb26017eaccb7bda"
  },
  {
   "cell_type": "markdown",
   "source": [
    "## 集合操作-差集 set_a-set_b set_a.difference(set_b)\n",
    "差集：存在于第一个集合，但不在第二个集合中"
   ],
   "metadata": {
    "collapsed": false
   },
   "id": "e16b137e274eed3c"
  },
  {
   "cell_type": "code",
   "execution_count": 103,
   "outputs": [
    {
     "data": {
      "text/plain": "({1}, {1})"
     },
     "execution_count": 103,
     "metadata": {},
     "output_type": "execute_result"
    }
   ],
   "source": [
    "a = {1, 2, 3}\n",
    "b = {2, 3, 4}\n",
    "a - b, a.difference(b)"
   ],
   "metadata": {
    "collapsed": false,
    "ExecuteTime": {
     "end_time": "2023-12-23T12:19:12.297865Z",
     "start_time": "2023-12-23T12:19:12.275242Z"
    }
   },
   "id": "8af8c551c15a07a7"
  },
  {
   "cell_type": "markdown",
   "source": [
    "## 集合操作-异或集 set_a^set_b set_a.symmetric_difference(set_b)"
   ],
   "metadata": {
    "collapsed": false
   },
   "id": "fdfbda228bdddfed"
  },
  {
   "cell_type": "code",
   "execution_count": 108,
   "outputs": [
    {
     "data": {
      "text/plain": "({1, 2, 7, 8}, {1, 2, 7, 8}, {1, 2, 7, 8})"
     },
     "execution_count": 108,
     "metadata": {},
     "output_type": "execute_result"
    }
   ],
   "source": [
    "a = {1, 2, 3, 4, 5, 6}\n",
    "b = {3, 4, 5, 6, 7, 8}\n",
    "a ^ b, a.symmetric_difference(b), (a | b) - (a & b)"
   ],
   "metadata": {
    "collapsed": false,
    "ExecuteTime": {
     "end_time": "2023-12-23T12:24:34.427320Z",
     "start_time": "2023-12-23T12:24:34.405946Z"
    }
   },
   "id": "5a5efe3d555862a3"
  },
  {
   "cell_type": "markdown",
   "source": [
    "## 集合操作-子集 set_a<=set_b set_a.issubset(set_b)"
   ],
   "metadata": {
    "collapsed": false
   },
   "id": "988c76312b62d4ae"
  },
  {
   "cell_type": "code",
   "execution_count": 109,
   "outputs": [
    {
     "data": {
      "text/plain": "(True, True, False)"
     },
     "execution_count": 109,
     "metadata": {},
     "output_type": "execute_result"
    }
   ],
   "source": [
    "a = {1, 2, 3}\n",
    "b = {8, 9, 0}\n",
    "c = {1, 2, 3, 4, 5, 6, 7, 8, 9}\n",
    "a <= c, a.issubset(c), b <= c"
   ],
   "metadata": {
    "collapsed": false,
    "ExecuteTime": {
     "end_time": "2023-12-23T12:27:08.026277Z",
     "start_time": "2023-12-23T12:27:07.964877Z"
    }
   },
   "id": "8afb7196deae2f33"
  },
  {
   "cell_type": "code",
   "execution_count": null,
   "outputs": [],
   "source": [],
   "metadata": {
    "collapsed": false
   },
   "id": "3e64a898560fd332"
  }
 ],
 "metadata": {
  "kernelspec": {
   "display_name": "Python 3",
   "language": "python",
   "name": "python3"
  },
  "language_info": {
   "codemirror_mode": {
    "name": "ipython",
    "version": 2
   },
   "file_extension": ".py",
   "mimetype": "text/x-python",
   "name": "python",
   "nbconvert_exporter": "python",
   "pygments_lexer": "ipython2",
   "version": "2.7.6"
  }
 },
 "nbformat": 4,
 "nbformat_minor": 5
}
