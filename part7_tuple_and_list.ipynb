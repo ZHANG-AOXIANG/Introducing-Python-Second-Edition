{
 "cells": [
  {
   "cell_type": "markdown",
   "source": [
    "## Part7 元组 列表"
   ],
   "metadata": {
    "collapsed": false
   },
   "id": "e7e118eb55573e78"
  },
  {
   "cell_type": "markdown",
   "source": [
    "### 列表"
   ],
   "metadata": {
    "collapsed": false
   },
   "id": "d38906324895302"
  },
  {
   "cell_type": "code",
   "execution_count": 1,
   "id": "initial_id",
   "metadata": {
    "collapsed": true,
    "ExecuteTime": {
     "end_time": "2023-12-18T17:01:43.166473Z",
     "start_time": "2023-12-18T17:01:43.158957Z"
    }
   },
   "outputs": [
    {
     "data": {
      "text/plain": "()"
     },
     "execution_count": 1,
     "metadata": {},
     "output_type": "execute_result"
    }
   ],
   "source": [
    "empty_tuple = ()\n",
    "empty_tuple"
   ]
  },
  {
   "cell_type": "code",
   "execution_count": 2,
   "outputs": [
    {
     "data": {
      "text/plain": "'Groucho'"
     },
     "execution_count": 2,
     "metadata": {},
     "output_type": "execute_result"
    }
   ],
   "source": [
    "one_marx = ('Groucho')\n",
    "one_marx"
   ],
   "metadata": {
    "collapsed": false,
    "ExecuteTime": {
     "end_time": "2023-12-18T17:02:15.383854Z",
     "start_time": "2023-12-18T17:02:15.367421Z"
    }
   },
   "id": "e2208c1cc8271f24"
  },
  {
   "cell_type": "code",
   "execution_count": 3,
   "outputs": [
    {
     "data": {
      "text/plain": "str"
     },
     "execution_count": 3,
     "metadata": {},
     "output_type": "execute_result"
    }
   ],
   "source": [
    "type(one_marx)"
   ],
   "metadata": {
    "collapsed": false,
    "ExecuteTime": {
     "end_time": "2023-12-18T17:02:34.875813Z",
     "start_time": "2023-12-18T17:02:34.861543Z"
    }
   },
   "id": "d27dd98d34b19325"
  },
  {
   "cell_type": "code",
   "execution_count": 4,
   "outputs": [
    {
     "data": {
      "text/plain": "('Groucho', 'Chiao', 'Harpo')"
     },
     "execution_count": 4,
     "metadata": {},
     "output_type": "execute_result"
    }
   ],
   "source": [
    "marx_tuple = ('Groucho', 'Chiao', 'Harpo')\n",
    "marx_tuple"
   ],
   "metadata": {
    "collapsed": false,
    "ExecuteTime": {
     "end_time": "2023-12-18T17:03:16.631732Z",
     "start_time": "2023-12-18T17:03:16.616076Z"
    }
   },
   "id": "d0919d878266e008"
  },
  {
   "cell_type": "code",
   "execution_count": 5,
   "outputs": [
    {
     "data": {
      "text/plain": "tuple"
     },
     "execution_count": 5,
     "metadata": {},
     "output_type": "execute_result"
    }
   ],
   "source": [
    "type(marx_tuple)"
   ],
   "metadata": {
    "collapsed": false,
    "ExecuteTime": {
     "end_time": "2023-12-18T17:03:25.695558Z",
     "start_time": "2023-12-18T17:03:25.680907Z"
    }
   },
   "id": "852105730d3b1ca2"
  },
  {
   "cell_type": "code",
   "execution_count": 8,
   "outputs": [
    {
     "data": {
      "text/plain": "'Groucho'"
     },
     "execution_count": 8,
     "metadata": {},
     "output_type": "execute_result"
    }
   ],
   "source": [
    "marx_tuple = ('Groucho', 'Chiao', 'Harpo')\n",
    "a, b, c = marx_tuple\n",
    "a"
   ],
   "metadata": {
    "collapsed": false,
    "ExecuteTime": {
     "end_time": "2023-12-18T17:04:11.259035Z",
     "start_time": "2023-12-18T17:04:11.247045Z"
    }
   },
   "id": "3e77edebae29787"
  },
  {
   "cell_type": "code",
   "execution_count": 9,
   "outputs": [
    {
     "data": {
      "text/plain": "'Chiao'"
     },
     "execution_count": 9,
     "metadata": {},
     "output_type": "execute_result"
    }
   ],
   "source": [
    "b"
   ],
   "metadata": {
    "collapsed": false,
    "ExecuteTime": {
     "end_time": "2023-12-18T17:04:15.448038Z",
     "start_time": "2023-12-18T17:04:15.427647Z"
    }
   },
   "id": "ac830644fde4b088"
  },
  {
   "cell_type": "code",
   "execution_count": 10,
   "outputs": [
    {
     "data": {
      "text/plain": "'Harpo'"
     },
     "execution_count": 10,
     "metadata": {},
     "output_type": "execute_result"
    }
   ],
   "source": [
    "c"
   ],
   "metadata": {
    "collapsed": false,
    "ExecuteTime": {
     "end_time": "2023-12-18T17:04:17.005566Z",
     "start_time": "2023-12-18T17:04:16.980842Z"
    }
   },
   "id": "e4e97e950b3f5490"
  },
  {
   "cell_type": "code",
   "execution_count": 11,
   "outputs": [
    {
     "data": {
      "text/plain": "('Groucho', 'Chiao', 'Harpo')"
     },
     "execution_count": 11,
     "metadata": {},
     "output_type": "execute_result"
    }
   ],
   "source": [
    "marx_list = ['Groucho', 'Chiao', 'Harpo']\n",
    "tuple(marx_tuple)"
   ],
   "metadata": {
    "collapsed": false,
    "ExecuteTime": {
     "end_time": "2023-12-18T17:04:51.964472Z",
     "start_time": "2023-12-18T17:04:51.946666Z"
    }
   },
   "id": "24df210c8cba45de"
  },
  {
   "cell_type": "code",
   "execution_count": 14,
   "outputs": [
    {
     "data": {
      "text/plain": "('Groucho', 'Chiao', 'Harpo')"
     },
     "execution_count": 14,
     "metadata": {},
     "output_type": "execute_result"
    }
   ],
   "source": [
    "marx_tuple00 = ('Groucho', 'Chiao')\n",
    "marx_tuple01 = ('Harpo',)  #!!!!!!!!!!!!!!!!!!!!\n",
    "marx_tuple = marx_tuple00 + marx_tuple01\n",
    "marx_tuple"
   ],
   "metadata": {
    "collapsed": false,
    "ExecuteTime": {
     "end_time": "2023-12-18T17:06:28.787223Z",
     "start_time": "2023-12-18T17:06:28.775371Z"
    }
   },
   "id": "8a701ed3c9ea719e"
  },
  {
   "cell_type": "code",
   "execution_count": 15,
   "outputs": [
    {
     "data": {
      "text/plain": "('Groucho', 'Groucho', 'Groucho')"
     },
     "execution_count": 15,
     "metadata": {},
     "output_type": "execute_result"
    }
   ],
   "source": [
    "marx_tuple00 = ('Groucho',)\n",
    "marx_tuple03 = marx_tuple00 * 3\n",
    "marx_tuple03"
   ],
   "metadata": {
    "collapsed": false,
    "ExecuteTime": {
     "end_time": "2023-12-18T17:07:19.391069Z",
     "start_time": "2023-12-18T17:07:19.370399Z"
    }
   },
   "id": "f9bafb5f41cf43c2"
  },
  {
   "cell_type": "code",
   "execution_count": 16,
   "outputs": [],
   "source": [
    "a = (7, 2)\n",
    "b = (7, 2, 9)"
   ],
   "metadata": {
    "collapsed": false,
    "ExecuteTime": {
     "end_time": "2023-12-18T17:07:46.188780Z",
     "start_time": "2023-12-18T17:07:46.162298Z"
    }
   },
   "id": "b116e3629b165292"
  },
  {
   "cell_type": "code",
   "execution_count": 17,
   "outputs": [
    {
     "data": {
      "text/plain": "False"
     },
     "execution_count": 17,
     "metadata": {},
     "output_type": "execute_result"
    }
   ],
   "source": [
    "a == b"
   ],
   "metadata": {
    "collapsed": false,
    "ExecuteTime": {
     "end_time": "2023-12-18T17:07:50.409183Z",
     "start_time": "2023-12-18T17:07:50.390290Z"
    }
   },
   "id": "eb2bc0566f31cac6"
  },
  {
   "cell_type": "code",
   "execution_count": 18,
   "outputs": [
    {
     "data": {
      "text/plain": "True"
     },
     "execution_count": 18,
     "metadata": {},
     "output_type": "execute_result"
    }
   ],
   "source": [
    "a < b"
   ],
   "metadata": {
    "collapsed": false,
    "ExecuteTime": {
     "end_time": "2023-12-18T17:07:58.485211Z",
     "start_time": "2023-12-18T17:07:58.459955Z"
    }
   },
   "id": "a923330356029b0c"
  },
  {
   "cell_type": "code",
   "execution_count": 19,
   "outputs": [
    {
     "data": {
      "text/plain": "False"
     },
     "execution_count": 19,
     "metadata": {},
     "output_type": "execute_result"
    }
   ],
   "source": [
    "a > b"
   ],
   "metadata": {
    "collapsed": false,
    "ExecuteTime": {
     "end_time": "2023-12-18T17:08:03.182594Z",
     "start_time": "2023-12-18T17:08:03.161235Z"
    }
   },
   "id": "e8115a6f25a46ef6"
  },
  {
   "cell_type": "code",
   "execution_count": 20,
   "outputs": [
    {
     "name": "stdout",
     "output_type": "stream",
     "text": [
      "fresh\n",
      "out\n",
      "of\n",
      "ideas\n"
     ]
    }
   ],
   "source": [
    "words = ('fresh', 'out', 'of', 'ideas')\n",
    "for word in words:\n",
    "    print(word)"
   ],
   "metadata": {
    "collapsed": false,
    "ExecuteTime": {
     "end_time": "2023-12-18T17:08:47.040961Z",
     "start_time": "2023-12-18T17:08:47.020517Z"
    }
   },
   "id": "3f637bbed4070df9"
  },
  {
   "cell_type": "markdown",
   "source": [
    "### 列表"
   ],
   "metadata": {
    "collapsed": false
   },
   "id": "8d3cb44550953d91"
  },
  {
   "cell_type": "code",
   "execution_count": 26,
   "outputs": [
    {
     "data": {
      "text/plain": "[]"
     },
     "execution_count": 26,
     "metadata": {},
     "output_type": "execute_result"
    }
   ],
   "source": [
    "empty_list = []\n",
    "empty_list"
   ],
   "metadata": {
    "collapsed": false,
    "ExecuteTime": {
     "end_time": "2023-12-18T17:14:35.610110Z",
     "start_time": "2023-12-18T17:14:35.592770Z"
    }
   },
   "id": "93f329ba01af34cc"
  },
  {
   "cell_type": "code",
   "execution_count": 27,
   "outputs": [
    {
     "data": {
      "text/plain": "[]"
     },
     "execution_count": 27,
     "metadata": {},
     "output_type": "execute_result"
    }
   ],
   "source": [
    "another_empty_list = list()\n",
    "another_empty_list"
   ],
   "metadata": {
    "collapsed": false,
    "ExecuteTime": {
     "end_time": "2023-12-18T17:14:55.234718Z",
     "start_time": "2023-12-18T17:14:55.218991Z"
    }
   },
   "id": "abb57ef1dbd26657"
  },
  {
   "cell_type": "code",
   "execution_count": 23,
   "outputs": [
    {
     "data": {
      "text/plain": "['Monday', 'Tuesday', 'Wednesday', 'Thursday', 'Friday']"
     },
     "execution_count": 23,
     "metadata": {},
     "output_type": "execute_result"
    }
   ],
   "source": [
    "weekdays_list = ['Monday', 'Tuesday', 'Wednesday', 'Thursday', 'Friday']\n",
    "weekdays_list"
   ],
   "metadata": {
    "collapsed": false,
    "ExecuteTime": {
     "end_time": "2023-12-18T17:12:03.504601Z",
     "start_time": "2023-12-18T17:12:03.484722Z"
    }
   },
   "id": "8bdba4b6b8d87fcc"
  },
  {
   "cell_type": "code",
   "execution_count": 24,
   "outputs": [
    {
     "data": {
      "text/plain": "{'groundhog': 'Phil'}"
     },
     "execution_count": 24,
     "metadata": {},
     "output_type": "execute_result"
    }
   ],
   "source": [
    "randomness = [\"Punxsatawney\", {\"groundhog\": \"Phil\"}, \"Feb.2\"]\n",
    "randomness[1]"
   ],
   "metadata": {
    "collapsed": false,
    "ExecuteTime": {
     "end_time": "2023-12-18T17:14:04.194908Z",
     "start_time": "2023-12-18T17:14:04.162445Z"
    }
   },
   "id": "ada859ac524d15c9"
  },
  {
   "cell_type": "code",
   "execution_count": 25,
   "outputs": [
    {
     "data": {
      "text/plain": "'Phil'"
     },
     "execution_count": 25,
     "metadata": {},
     "output_type": "execute_result"
    }
   ],
   "source": [
    "randomness[1][\"groundhog\"]"
   ],
   "metadata": {
    "collapsed": false,
    "ExecuteTime": {
     "end_time": "2023-12-18T17:14:22.453072Z",
     "start_time": "2023-12-18T17:14:22.431791Z"
    }
   },
   "id": "1bd6846cf50cb241"
  },
  {
   "cell_type": "code",
   "execution_count": 28,
   "outputs": [
    {
     "data": {
      "text/plain": "['c', 'a', 't']"
     },
     "execution_count": 28,
     "metadata": {},
     "output_type": "execute_result"
    }
   ],
   "source": [
    "list('cat')"
   ],
   "metadata": {
    "collapsed": false,
    "ExecuteTime": {
     "end_time": "2023-12-18T17:15:58.986191Z",
     "start_time": "2023-12-18T17:15:58.941012Z"
    }
   },
   "id": "4ffa4130986f642"
  },
  {
   "cell_type": "code",
   "execution_count": 34,
   "outputs": [
    {
     "data": {
      "text/plain": "list"
     },
     "execution_count": 34,
     "metadata": {},
     "output_type": "execute_result"
    }
   ],
   "source": [
    "a_tuple = ('ready', 'fire', 'aim')\n",
    "list_from_tuple = list(a_tuple)\n",
    "type(a_tuple)\n",
    "type(list_from_tuple)"
   ],
   "metadata": {
    "collapsed": false,
    "ExecuteTime": {
     "end_time": "2023-12-18T17:17:18.240436Z",
     "start_time": "2023-12-18T17:17:18.224063Z"
    }
   },
   "id": "f94b7923a25c5063"
  },
  {
   "cell_type": "code",
   "execution_count": 35,
   "outputs": [
    {
     "data": {
      "text/plain": "['9', '19', '2019']"
     },
     "execution_count": 35,
     "metadata": {},
     "output_type": "execute_result"
    }
   ],
   "source": [
    "one_day = '9/19/2019'\n",
    "one_day.split('/')"
   ],
   "metadata": {
    "collapsed": false,
    "ExecuteTime": {
     "end_time": "2023-12-18T17:17:57.254165Z",
     "start_time": "2023-12-18T17:17:57.221882Z"
    }
   },
   "id": "83da1dcb92f04e9"
  },
  {
   "cell_type": "code",
   "execution_count": 36,
   "outputs": [
    {
     "data": {
      "text/plain": "['a', 'b', '', 'c', 'd', '', '', 'e']"
     },
     "execution_count": 36,
     "metadata": {},
     "output_type": "execute_result"
    }
   ],
   "source": [
    "split_string = 'a/b//c/d///e'\n",
    "split_string.split('/')"
   ],
   "metadata": {
    "collapsed": false,
    "ExecuteTime": {
     "end_time": "2023-12-18T17:18:50.588284Z",
     "start_time": "2023-12-18T17:18:50.563102Z"
    }
   },
   "id": "a61a2983f25e298d"
  },
  {
   "cell_type": "code",
   "execution_count": 37,
   "outputs": [
    {
     "data": {
      "text/plain": "['a/b', 'c/d', '/e']"
     },
     "execution_count": 37,
     "metadata": {},
     "output_type": "execute_result"
    }
   ],
   "source": [
    "split_string.split('//')"
   ],
   "metadata": {
    "collapsed": false,
    "ExecuteTime": {
     "end_time": "2023-12-18T17:19:14.726878Z",
     "start_time": "2023-12-18T17:19:14.696122Z"
    }
   },
   "id": "4db7a2d21709ef9a"
  },
  {
   "cell_type": "code",
   "execution_count": 38,
   "outputs": [
    {
     "data": {
      "text/plain": "'Groucho'"
     },
     "execution_count": 38,
     "metadata": {},
     "output_type": "execute_result"
    }
   ],
   "source": [
    "marxes = ['Groucho', 'Chico', 'Harpo']\n",
    "marxes[0]"
   ],
   "metadata": {
    "collapsed": false,
    "ExecuteTime": {
     "end_time": "2023-12-18T17:19:49.603004Z",
     "start_time": "2023-12-18T17:19:49.566959Z"
    }
   },
   "id": "e3a3e9e2a9b47c8"
  },
  {
   "cell_type": "code",
   "execution_count": 39,
   "outputs": [
    {
     "data": {
      "text/plain": "'Harpo'"
     },
     "execution_count": 39,
     "metadata": {},
     "output_type": "execute_result"
    }
   ],
   "source": [
    "marxes[-1]"
   ],
   "metadata": {
    "collapsed": false,
    "ExecuteTime": {
     "end_time": "2023-12-18T17:19:55.752242Z",
     "start_time": "2023-12-18T17:19:55.714903Z"
    }
   },
   "id": "15b215f49623170d"
  },
  {
   "cell_type": "code",
   "execution_count": 40,
   "outputs": [
    {
     "data": {
      "text/plain": "['Groucho', 'Chico']"
     },
     "execution_count": 40,
     "metadata": {},
     "output_type": "execute_result"
    }
   ],
   "source": [
    "marxes[0:2]"
   ],
   "metadata": {
    "collapsed": false,
    "ExecuteTime": {
     "end_time": "2023-12-18T17:20:10.510291Z",
     "start_time": "2023-12-18T17:20:10.436496Z"
    }
   },
   "id": "1391ce718ccee901"
  },
  {
   "cell_type": "markdown",
   "source": [
    "[start : end : step]"
   ],
   "metadata": {
    "collapsed": false
   },
   "id": "4ea3f83e293d0101"
  },
  {
   "cell_type": "code",
   "execution_count": 46,
   "outputs": [
    {
     "data": {
      "text/plain": "[9, 7, 5, 3, 1]"
     },
     "execution_count": 46,
     "metadata": {},
     "output_type": "execute_result"
    }
   ],
   "source": [
    "marxes_numbers = [9, 8, 7, 6, 5, 4, 3, 2, 1]\n",
    "marxes_numbers[::2]"
   ],
   "metadata": {
    "collapsed": false,
    "ExecuteTime": {
     "end_time": "2023-12-18T17:23:54.246402Z",
     "start_time": "2023-12-18T17:23:54.230207Z"
    }
   },
   "id": "4f6fac619a6ee62e"
  },
  {
   "cell_type": "code",
   "execution_count": 47,
   "outputs": [
    {
     "data": {
      "text/plain": "[1, 3, 5, 7, 9]"
     },
     "execution_count": 47,
     "metadata": {},
     "output_type": "execute_result"
    }
   ],
   "source": [
    "marxes_numbers[::-2]"
   ],
   "metadata": {
    "collapsed": false,
    "ExecuteTime": {
     "end_time": "2023-12-18T17:23:57.451328Z",
     "start_time": "2023-12-18T17:23:57.438127Z"
    }
   },
   "id": "4821a6e5df51114d"
  },
  {
   "cell_type": "code",
   "execution_count": 48,
   "outputs": [
    {
     "data": {
      "text/plain": "[1, 2, 3, 4, 5, 6, 7, 8, 9]"
     },
     "execution_count": 48,
     "metadata": {},
     "output_type": "execute_result"
    }
   ],
   "source": [
    "marxes_numbers[::-1]"
   ],
   "metadata": {
    "collapsed": false,
    "ExecuteTime": {
     "end_time": "2023-12-18T17:23:58.911098Z",
     "start_time": "2023-12-18T17:23:58.893229Z"
    }
   },
   "id": "6ed1b16565e47075"
  },
  {
   "cell_type": "code",
   "execution_count": 49,
   "outputs": [
    {
     "data": {
      "text/plain": "[1, 2, 3, 4, 5, 6, 7, 8, 9]"
     },
     "execution_count": 49,
     "metadata": {},
     "output_type": "execute_result"
    }
   ],
   "source": [
    "marxes_numbers.reverse()\n",
    "marxes_numbers"
   ],
   "metadata": {
    "collapsed": false,
    "ExecuteTime": {
     "end_time": "2023-12-18T17:24:00.467518Z",
     "start_time": "2023-12-18T17:24:00.454494Z"
    }
   },
   "id": "448df4ab767be46d"
  },
  {
   "cell_type": "code",
   "execution_count": 50,
   "outputs": [
    {
     "data": {
      "text/plain": "[1, 2, 3, 4, 5, 6, 7]"
     },
     "execution_count": 50,
     "metadata": {},
     "output_type": "execute_result"
    }
   ],
   "source": [
    "marxes_numbers[:-2]"
   ],
   "metadata": {
    "collapsed": false,
    "ExecuteTime": {
     "end_time": "2023-12-18T17:24:33.645509Z",
     "start_time": "2023-12-18T17:24:33.616314Z"
    }
   },
   "id": "e85e38a26fc5082"
  },
  {
   "cell_type": "code",
   "execution_count": 52,
   "outputs": [
    {
     "data": {
      "text/plain": "[7, 8]"
     },
     "execution_count": 52,
     "metadata": {},
     "output_type": "execute_result"
    }
   ],
   "source": [
    "marxes_numbers[-3:-1]"
   ],
   "metadata": {
    "collapsed": false,
    "ExecuteTime": {
     "end_time": "2023-12-18T17:24:59.270334Z",
     "start_time": "2023-12-18T17:24:59.256267Z"
    }
   },
   "id": "fb3b7a411b7bbb1a"
  },
  {
   "cell_type": "markdown",
   "source": [
    "### 向列表中添加元素\n",
    "append      \n",
    "insert      "
   ],
   "metadata": {
    "collapsed": false
   },
   "id": "2282c406ac91d8c1"
  },
  {
   "cell_type": "code",
   "execution_count": 53,
   "outputs": [
    {
     "data": {
      "text/plain": "[1, 2, 3, 4]"
     },
     "execution_count": 53,
     "metadata": {},
     "output_type": "execute_result"
    }
   ],
   "source": [
    "marxes_append = [1, 2, 3]\n",
    "marxes_append.append(4)\n",
    "marxes_append"
   ],
   "metadata": {
    "collapsed": false,
    "ExecuteTime": {
     "end_time": "2023-12-18T17:26:02.672909Z",
     "start_time": "2023-12-18T17:26:02.639113Z"
    }
   },
   "id": "7cabe7773413c32a"
  },
  {
   "cell_type": "code",
   "execution_count": 54,
   "outputs": [
    {
     "data": {
      "text/plain": "[1, 4, 2, 3]"
     },
     "execution_count": 54,
     "metadata": {},
     "output_type": "execute_result"
    }
   ],
   "source": [
    "marxes_insert = [1, 2, 3]\n",
    "marxes_insert.insert(1, 4)\n",
    "marxes_insert"
   ],
   "metadata": {
    "collapsed": false,
    "ExecuteTime": {
     "end_time": "2023-12-18T17:26:51.363287Z",
     "start_time": "2023-12-18T17:26:51.319653Z"
    }
   },
   "id": "8250150398e13a9d"
  },
  {
   "cell_type": "code",
   "execution_count": 55,
   "outputs": [
    {
     "data": {
      "text/plain": "[1, 4, 2, 3, 4]"
     },
     "execution_count": 55,
     "metadata": {},
     "output_type": "execute_result"
    }
   ],
   "source": [
    "marxes_insert.insert(10, 4)\n",
    "marxes_insert"
   ],
   "metadata": {
    "collapsed": false,
    "ExecuteTime": {
     "end_time": "2023-12-18T17:27:11.876225Z",
     "start_time": "2023-12-18T17:27:11.840783Z"
    }
   },
   "id": "e6a85aaa8b5bedb7"
  },
  {
   "cell_type": "code",
   "execution_count": 56,
   "outputs": [
    {
     "data": {
      "text/plain": "[1, 1, 1]"
     },
     "execution_count": 56,
     "metadata": {},
     "output_type": "execute_result"
    }
   ],
   "source": [
    "[1] * 3"
   ],
   "metadata": {
    "collapsed": false,
    "ExecuteTime": {
     "end_time": "2023-12-18T17:27:24.853209Z",
     "start_time": "2023-12-18T17:27:24.796590Z"
    }
   },
   "id": "9baa06b38e3a6303"
  },
  {
   "cell_type": "markdown",
   "source": [
    "### 合并列表\n",
    "extend()        \n",
    "+       "
   ],
   "metadata": {
    "collapsed": false
   },
   "id": "430084360c37cfe8"
  },
  {
   "cell_type": "code",
   "execution_count": 57,
   "outputs": [
    {
     "data": {
      "text/plain": "['Groucho', 'Chico', 'Harpo', 'Zeppo', 'Gummo', 'Karl']"
     },
     "execution_count": 57,
     "metadata": {},
     "output_type": "execute_result"
    }
   ],
   "source": [
    "list00 = ['Groucho', 'Chico', 'Harpo', 'Zeppo']\n",
    "list01 = ['Gummo', 'Karl']\n",
    "list00.extend(list01)\n",
    "list00"
   ],
   "metadata": {
    "collapsed": false,
    "ExecuteTime": {
     "end_time": "2023-12-18T17:28:58.666895Z",
     "start_time": "2023-12-18T17:28:58.621730Z"
    }
   },
   "id": "88a114e28777e617"
  },
  {
   "cell_type": "code",
   "execution_count": 60,
   "outputs": [
    {
     "data": {
      "text/plain": "['Zeppo', 'Harpo', 'Chico', 'Groucho', 'Karl', 'Gummo']"
     },
     "execution_count": 60,
     "metadata": {},
     "output_type": "execute_result"
    }
   ],
   "source": [
    "list00 = ['Groucho', 'Chico', 'Harpo', 'Zeppo']\n",
    "list01 = ['Gummo', 'Karl']\n",
    "list00 = list01 + list00\n",
    "#list00 = list00 + list01\n",
    "#list00.reverse()\n",
    "list00"
   ],
   "metadata": {
    "collapsed": false,
    "ExecuteTime": {
     "end_time": "2023-12-18T17:29:53.845355Z",
     "start_time": "2023-12-18T17:29:53.826512Z"
    }
   },
   "id": "381decc8d79fd538"
  },
  {
   "cell_type": "code",
   "execution_count": 61,
   "outputs": [
    {
     "data": {
      "text/plain": "['Groucho', 'Chico', 'Harpo', 'Zeppo', ['Gummo', 'Karl']]"
     },
     "execution_count": 61,
     "metadata": {},
     "output_type": "execute_result"
    }
   ],
   "source": [
    "list00 = ['Groucho', 'Chico', 'Harpo', 'Zeppo']\n",
    "list01 = ['Gummo', 'Karl']\n",
    "list00.append(list01)\n",
    "list00"
   ],
   "metadata": {
    "collapsed": false,
    "ExecuteTime": {
     "end_time": "2023-12-18T17:30:33.287080Z",
     "start_time": "2023-12-18T17:30:33.236778Z"
    }
   },
   "id": "52e4590acfeb236f"
  },
  {
   "cell_type": "markdown",
   "source": [
    "### 修改数组元素"
   ],
   "metadata": {
    "collapsed": false
   },
   "id": "8b27b3b51be93316"
  },
  {
   "cell_type": "code",
   "execution_count": 62,
   "outputs": [
    {
     "data": {
      "text/plain": "[1, 4, 5, 4]"
     },
     "execution_count": 62,
     "metadata": {},
     "output_type": "execute_result"
    }
   ],
   "source": [
    "numbers = [1, 2, 3, 4]\n",
    "numbers[1:3] = [4, 5]\n",
    "numbers"
   ],
   "metadata": {
    "collapsed": false,
    "ExecuteTime": {
     "end_time": "2023-12-18T17:32:11.230631Z",
     "start_time": "2023-12-18T17:32:11.191168Z"
    }
   },
   "id": "89419aeb0b448511"
  },
  {
   "cell_type": "code",
   "execution_count": 64,
   "outputs": [
    {
     "data": {
      "text/plain": "[1, 4, 5, 6, 4]"
     },
     "execution_count": 64,
     "metadata": {},
     "output_type": "execute_result"
    }
   ],
   "source": [
    "numbers = [1, 2, 3, 4]\n",
    "numbers[1:3] = [4, 5, 6]\n",
    "numbers"
   ],
   "metadata": {
    "collapsed": false,
    "ExecuteTime": {
     "end_time": "2023-12-18T17:32:59.845108Z",
     "start_time": "2023-12-18T17:32:59.828880Z"
    }
   },
   "id": "2ebdf9662dbaea9"
  },
  {
   "cell_type": "code",
   "execution_count": 65,
   "outputs": [
    {
     "data": {
      "text/plain": "[1, 'w', 'a', 't', '?', 4]"
     },
     "execution_count": 65,
     "metadata": {},
     "output_type": "execute_result"
    }
   ],
   "source": [
    "numbers = [1, 2, 3, 4]\n",
    "numbers[1:3] = 'wat?'\n",
    "numbers"
   ],
   "metadata": {
    "collapsed": false,
    "ExecuteTime": {
     "end_time": "2023-12-18T17:33:29.129114Z",
     "start_time": "2023-12-18T17:33:29.041548Z"
    }
   },
   "id": "7817b2998a93dc05"
  },
  {
   "cell_type": "markdown",
   "source": [
    "### 删除列表中的元素 \n",
    "del()\n",
    "remove()"
   ],
   "metadata": {
    "collapsed": false
   },
   "id": "eef85d69735cc6bc"
  },
  {
   "cell_type": "code",
   "execution_count": 66,
   "outputs": [
    {
     "data": {
      "text/plain": "['Groucho', 'Chico', 'Harpo', 'Gummo']"
     },
     "execution_count": 66,
     "metadata": {},
     "output_type": "execute_result"
    }
   ],
   "source": [
    "marxes = ['Groucho', 'Chico', 'Harpo', 'Gummo', 'Karl']\n",
    "del marxes[-1]\n",
    "marxes"
   ],
   "metadata": {
    "collapsed": false,
    "ExecuteTime": {
     "end_time": "2023-12-18T17:34:27.706099Z",
     "start_time": "2023-12-18T17:34:27.659896Z"
    }
   },
   "id": "966af742d764a8c2"
  },
  {
   "cell_type": "code",
   "execution_count": 67,
   "outputs": [
    {
     "data": {
      "text/plain": "['Groucho', 'Chico', 'Harpo', 'Gummo']"
     },
     "execution_count": 67,
     "metadata": {},
     "output_type": "execute_result"
    }
   ],
   "source": [
    "marxes = ['Groucho', 'Chico', 'Harpo', 'Gummo', 'Karl']\n",
    "marxes.remove('Karl')\n",
    "marxes"
   ],
   "metadata": {
    "collapsed": false,
    "ExecuteTime": {
     "end_time": "2023-12-18T17:35:23.620851Z",
     "start_time": "2023-12-18T17:35:23.572117Z"
    }
   },
   "id": "9d1741322c29dec4"
  },
  {
   "cell_type": "markdown",
   "source": [
    "### 获取列表中的一个元素，并将它从列表中删除\n",
    "pop()"
   ],
   "metadata": {
    "collapsed": false
   },
   "id": "6b742a8d5e919add"
  },
  {
   "cell_type": "code",
   "execution_count": 68,
   "outputs": [
    {
     "data": {
      "text/plain": "'Zeppo'"
     },
     "execution_count": 68,
     "metadata": {},
     "output_type": "execute_result"
    }
   ],
   "source": [
    "marexs_pop = ['Groucho', 'Chico', 'Harpo', 'Zeppo']\n",
    "marexs_pop.pop()"
   ],
   "metadata": {
    "collapsed": false,
    "ExecuteTime": {
     "end_time": "2023-12-18T17:36:38.736878Z",
     "start_time": "2023-12-18T17:36:38.693224Z"
    }
   },
   "id": "ab73bb6565db7a0c"
  },
  {
   "cell_type": "code",
   "execution_count": 69,
   "outputs": [
    {
     "data": {
      "text/plain": "['Groucho', 'Chico', 'Harpo']"
     },
     "execution_count": 69,
     "metadata": {},
     "output_type": "execute_result"
    }
   ],
   "source": [
    "marexs_pop"
   ],
   "metadata": {
    "collapsed": false,
    "ExecuteTime": {
     "end_time": "2023-12-18T17:36:43.178906Z",
     "start_time": "2023-12-18T17:36:43.133048Z"
    }
   },
   "id": "5d4625d579c91456"
  },
  {
   "cell_type": "code",
   "execution_count": 70,
   "outputs": [
    {
     "data": {
      "text/plain": "'Chico'"
     },
     "execution_count": 70,
     "metadata": {},
     "output_type": "execute_result"
    }
   ],
   "source": [
    "marexs_pop.pop(1)"
   ],
   "metadata": {
    "collapsed": false,
    "ExecuteTime": {
     "end_time": "2023-12-18T17:36:57.095476Z",
     "start_time": "2023-12-18T17:36:57.036253Z"
    }
   },
   "id": "2159dfafa8313543"
  },
  {
   "cell_type": "code",
   "execution_count": 71,
   "outputs": [
    {
     "data": {
      "text/plain": "['Groucho', 'Harpo']"
     },
     "execution_count": 71,
     "metadata": {},
     "output_type": "execute_result"
    }
   ],
   "source": [
    "marexs_pop"
   ],
   "metadata": {
    "collapsed": false,
    "ExecuteTime": {
     "end_time": "2023-12-18T17:37:01.070529Z",
     "start_time": "2023-12-18T17:37:01.001112Z"
    }
   },
   "id": "5848fdc753c6ea2"
  },
  {
   "cell_type": "markdown",
   "source": [
    "### 清空列表\n",
    "clear()"
   ],
   "metadata": {
    "collapsed": false
   },
   "id": "d9587687f4d8fdc4"
  },
  {
   "cell_type": "code",
   "execution_count": 72,
   "outputs": [
    {
     "data": {
      "text/plain": "['Working hard?', 'Quick question!', 'Number one priorities!']"
     },
     "execution_count": 72,
     "metadata": {},
     "output_type": "execute_result"
    }
   ],
   "source": [
    "work_list_clear = ['Working hard?', 'Quick question!', 'Number one priorities!']\n",
    "work_list_clear"
   ],
   "metadata": {
    "collapsed": false,
    "ExecuteTime": {
     "end_time": "2023-12-18T17:38:02.347613Z",
     "start_time": "2023-12-18T17:38:02.291861Z"
    }
   },
   "id": "9d905c999835c12b"
  },
  {
   "cell_type": "code",
   "execution_count": 74,
   "outputs": [
    {
     "data": {
      "text/plain": "[]"
     },
     "execution_count": 74,
     "metadata": {},
     "output_type": "execute_result"
    }
   ],
   "source": [
    "work_list_clear.clear()\n",
    "work_list_clear"
   ],
   "metadata": {
    "collapsed": false,
    "ExecuteTime": {
     "end_time": "2023-12-18T17:38:25.210279Z",
     "start_time": "2023-12-18T17:38:25.181100Z"
    }
   },
   "id": "45e56c93efa871ee"
  },
  {
   "cell_type": "markdown",
   "source": [
    "### 获取列表中元素的位置\n",
    "index()"
   ],
   "metadata": {
    "collapsed": false
   },
   "id": "2b2bc30727ef061b"
  },
  {
   "cell_type": "code",
   "execution_count": 76,
   "outputs": [
    {
     "data": {
      "text/plain": "1"
     },
     "execution_count": 76,
     "metadata": {},
     "output_type": "execute_result"
    }
   ],
   "source": [
    "marxes_index = ['Groucho', 'Chico', 'Harpo', 'Zeppo']\n",
    "marxes_index.index('Chico')"
   ],
   "metadata": {
    "collapsed": false,
    "ExecuteTime": {
     "end_time": "2023-12-18T17:39:38.151431Z",
     "start_time": "2023-12-18T17:39:38.134195Z"
    }
   },
   "id": "55cf76bbb762ba3d"
  },
  {
   "cell_type": "code",
   "execution_count": 77,
   "outputs": [
    {
     "data": {
      "text/plain": "True"
     },
     "execution_count": 77,
     "metadata": {},
     "output_type": "execute_result"
    }
   ],
   "source": [
    "'Chico' in marxes_index"
   ],
   "metadata": {
    "collapsed": false,
    "ExecuteTime": {
     "end_time": "2023-12-18T17:39:58.560872Z",
     "start_time": "2023-12-18T17:39:58.512277Z"
    }
   },
   "id": "24723a4e91950bdc"
  },
  {
   "cell_type": "markdown",
   "source": [
    "### 统计列表中元素的个数\n",
    "count()"
   ],
   "metadata": {
    "collapsed": false
   },
   "id": "e0f152306d08bcfe"
  },
  {
   "cell_type": "code",
   "execution_count": 78,
   "outputs": [
    {
     "data": {
      "text/plain": "1"
     },
     "execution_count": 78,
     "metadata": {},
     "output_type": "execute_result"
    }
   ],
   "source": [
    "list_count = ['a', 'd', 'b', 'c', 'd']\n",
    "list_count.count('a')"
   ],
   "metadata": {
    "collapsed": false,
    "ExecuteTime": {
     "end_time": "2023-12-18T17:42:08.200478Z",
     "start_time": "2023-12-18T17:42:08.139090Z"
    }
   },
   "id": "94ed93cc98a9b725"
  },
  {
   "cell_type": "code",
   "execution_count": 79,
   "outputs": [
    {
     "data": {
      "text/plain": "2"
     },
     "execution_count": 79,
     "metadata": {},
     "output_type": "execute_result"
    }
   ],
   "source": [
    "list_count = ['a', 'd', 'b', 'c', 'd']\n",
    "list_count.count('d')"
   ],
   "metadata": {
    "collapsed": false,
    "ExecuteTime": {
     "end_time": "2023-12-18T17:42:20.541722Z",
     "start_time": "2023-12-18T17:42:20.487269Z"
    }
   },
   "id": "654e5bfdac93044f"
  },
  {
   "cell_type": "code",
   "execution_count": null,
   "outputs": [],
   "source": [],
   "metadata": {
    "collapsed": false
   },
   "id": "490847e70fc2947d"
  }
 ],
 "metadata": {
  "kernelspec": {
   "display_name": "Python 3",
   "language": "python",
   "name": "python3"
  },
  "language_info": {
   "codemirror_mode": {
    "name": "ipython",
    "version": 2
   },
   "file_extension": ".py",
   "mimetype": "text/x-python",
   "name": "python",
   "nbconvert_exporter": "python",
   "pygments_lexer": "ipython2",
   "version": "2.7.6"
  }
 },
 "nbformat": 4,
 "nbformat_minor": 5
}
