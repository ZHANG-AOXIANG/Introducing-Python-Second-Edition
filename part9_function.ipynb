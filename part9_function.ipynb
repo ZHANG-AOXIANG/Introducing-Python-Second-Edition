{
 "cells": [
  {
   "cell_type": "markdown",
   "source": [
    "# 函数"
   ],
   "metadata": {
    "collapsed": false
   },
   "id": "a9342ee6daf63ad1"
  },
  {
   "cell_type": "code",
   "execution_count": 1,
   "outputs": [],
   "source": [
    "def do_nothing():\n",
    "    pass"
   ],
   "metadata": {
    "collapsed": false,
    "ExecuteTime": {
     "end_time": "2023-12-23T14:48:03.723884Z",
     "start_time": "2023-12-23T14:48:03.715579Z"
    }
   },
   "id": "7f32c65125a4a18d"
  },
  {
   "cell_type": "code",
   "execution_count": 2,
   "outputs": [],
   "source": [
    "do_nothing()"
   ],
   "metadata": {
    "collapsed": false,
    "ExecuteTime": {
     "end_time": "2023-12-23T14:48:12.485124Z",
     "start_time": "2023-12-23T14:48:12.474254Z"
    }
   },
   "id": "30672e543eb3459a"
  },
  {
   "cell_type": "code",
   "execution_count": 3,
   "outputs": [],
   "source": [
    "def make_a_sound():\n",
    "    print('quack')"
   ],
   "metadata": {
    "collapsed": false,
    "ExecuteTime": {
     "end_time": "2023-12-23T14:48:35.712932Z",
     "start_time": "2023-12-23T14:48:35.700861Z"
    }
   },
   "id": "be0432fefd41574"
  },
  {
   "cell_type": "code",
   "execution_count": 4,
   "outputs": [
    {
     "name": "stdout",
     "output_type": "stream",
     "text": [
      "quack\n"
     ]
    }
   ],
   "source": [
    "make_a_sound()"
   ],
   "metadata": {
    "collapsed": false,
    "ExecuteTime": {
     "end_time": "2023-12-23T14:48:41.326676Z",
     "start_time": "2023-12-23T14:48:41.314717Z"
    }
   },
   "id": "accaf30d3495a511"
  },
  {
   "cell_type": "code",
   "execution_count": 5,
   "outputs": [],
   "source": [
    "def agree():\n",
    "    return True"
   ],
   "metadata": {
    "collapsed": false,
    "ExecuteTime": {
     "end_time": "2023-12-23T14:48:56.999782Z",
     "start_time": "2023-12-23T14:48:56.986878Z"
    }
   },
   "id": "d649a4a1900a4e05"
  },
  {
   "cell_type": "code",
   "execution_count": 6,
   "outputs": [
    {
     "name": "stdout",
     "output_type": "stream",
     "text": [
      "Splendid\n"
     ]
    }
   ],
   "source": [
    "if agree():\n",
    "    print('Splendid')\n",
    "else:\n",
    "    print('That was unexpected')"
   ],
   "metadata": {
    "collapsed": false,
    "ExecuteTime": {
     "end_time": "2023-12-23T14:49:31.456590Z",
     "start_time": "2023-12-23T14:49:31.443750Z"
    }
   },
   "id": "e9969aefdfb672a6"
  },
  {
   "cell_type": "markdown",
   "source": [
    "## 形参"
   ],
   "metadata": {
    "collapsed": false
   },
   "id": "a2e1384512cac145"
  },
  {
   "cell_type": "code",
   "execution_count": 7,
   "outputs": [
    {
     "data": {
      "text/plain": "'Rumplestiltskin Rumplestiltskin'"
     },
     "execution_count": 7,
     "metadata": {},
     "output_type": "execute_result"
    }
   ],
   "source": [
    "def echo(anything):\n",
    "    return anything + ' ' + anything"
   ],
   "metadata": {
    "collapsed": false,
    "ExecuteTime": {
     "end_time": "2023-12-23T14:50:19.802337Z",
     "start_time": "2023-12-23T14:50:19.789448Z"
    }
   },
   "id": "11acc0ffce5368e1"
  },
  {
   "cell_type": "markdown",
   "source": [
    "## 实参"
   ],
   "metadata": {
    "collapsed": false
   },
   "id": "ad8bc427cce7ad22"
  },
  {
   "cell_type": "code",
   "execution_count": 25,
   "outputs": [
    {
     "data": {
      "text/plain": "'Rumplestiltskin Rumplestiltskin'"
     },
     "execution_count": 25,
     "metadata": {},
     "output_type": "execute_result"
    }
   ],
   "source": [
    "echo('Rumplestiltskin')"
   ],
   "metadata": {
    "collapsed": false,
    "ExecuteTime": {
     "end_time": "2023-12-23T15:10:50.813164Z",
     "start_time": "2023-12-23T15:10:50.798607Z"
    }
   },
   "id": "d94c027bd916592e"
  },
  {
   "cell_type": "code",
   "execution_count": 9,
   "outputs": [
    {
     "data": {
      "text/plain": "'I have never heard of the color blue,'"
     },
     "execution_count": 9,
     "metadata": {},
     "output_type": "execute_result"
    }
   ],
   "source": [
    "def commentary(color):\n",
    "    if color == 'red':\n",
    "        return 'It is a tomato.'\n",
    "    elif color == 'green':\n",
    "        return 'It is a green pepper.'\n",
    "    elif color == 'bee purple':\n",
    "        return 'I do not know what it is, but only bees can see it.'\n",
    "    else:\n",
    "        return 'I have never heard of the color ' + color + ','\n",
    "\n",
    "\n",
    "comment = commentary('blue')\n",
    "comment"
   ],
   "metadata": {
    "collapsed": false,
    "ExecuteTime": {
     "end_time": "2023-12-23T14:53:41.299902Z",
     "start_time": "2023-12-23T14:53:41.286610Z"
    }
   },
   "id": "9b499b7aedab4af3"
  },
  {
   "cell_type": "code",
   "execution_count": 10,
   "outputs": [
    {
     "name": "stdout",
     "output_type": "stream",
     "text": [
      "None\n"
     ]
    }
   ],
   "source": [
    "print(do_nothing())"
   ],
   "metadata": {
    "collapsed": false,
    "ExecuteTime": {
     "end_time": "2023-12-23T14:53:52.500528Z",
     "start_time": "2023-12-23T14:53:52.480898Z"
    }
   },
   "id": "ac854b092fb31410"
  },
  {
   "cell_type": "code",
   "execution_count": 12,
   "outputs": [
    {
     "name": "stdout",
     "output_type": "stream",
     "text": [
      "It is no thing\n",
      "It is no thing\n"
     ]
    }
   ],
   "source": [
    "thing = None\n",
    "if thing:\n",
    "    print('It is some thing')\n",
    "else:\n",
    "    print('It is no thing')\n",
    "if thing is None:\n",
    "    print('It is no thing')\n",
    "else:\n",
    "    print('It is some thing')\n"
   ],
   "metadata": {
    "collapsed": false,
    "ExecuteTime": {
     "end_time": "2023-12-23T14:55:18.820396Z",
     "start_time": "2023-12-23T14:55:18.812956Z"
    }
   },
   "id": "b971f3efb4fbf636"
  },
  {
   "cell_type": "code",
   "execution_count": 16,
   "outputs": [
    {
     "name": "stdout",
     "output_type": "stream",
     "text": [
      "None is None\n",
      "True is True\n",
      "False is False\n",
      "0 is False\n",
      "0.0 is False\n",
      "  is False\n",
      "  is False\n",
      " is False\n",
      "0.0001 is False\n"
     ]
    }
   ],
   "source": [
    "def whatis(thing):\n",
    "    if thing is None:\n",
    "        print(thing, 'is None')\n",
    "    elif thing is True:\n",
    "        print(thing, 'is True')\n",
    "    else:\n",
    "        print(thing, 'is False')\n",
    "\n",
    "\n",
    "whatis(None)\n",
    "whatis(True)\n",
    "whatis(False)\n",
    "whatis(0)\n",
    "whatis(0.0)\n",
    "whatis(' ')\n",
    "whatis(\" \")\n",
    "whatis('''''')\n",
    "whatis(0.0001)\n"
   ],
   "metadata": {
    "collapsed": false,
    "ExecuteTime": {
     "end_time": "2023-12-23T14:57:46.343793Z",
     "start_time": "2023-12-23T14:57:46.337315Z"
    }
   },
   "id": "fe713533b9ed0b8d"
  },
  {
   "cell_type": "markdown",
   "source": [
    "## 位置形参数与位置实参"
   ],
   "metadata": {
    "collapsed": false
   },
   "id": "96349ebd9baff47c"
  },
  {
   "cell_type": "code",
   "execution_count": 17,
   "outputs": [
    {
     "name": "stdout",
     "output_type": "stream",
     "text": [
      "{'wine': 'chardonnay', 'entree': 'chicken', 'dessert': 'cake'}\n"
     ]
    }
   ],
   "source": [
    "def menu(wine, entree, dessert):\n",
    "    return {'wine': wine, 'entree': entree, 'dessert': dessert}\n",
    "\n",
    "\n",
    "print(menu('chardonnay', 'chicken', 'cake'))"
   ],
   "metadata": {
    "collapsed": false,
    "ExecuteTime": {
     "end_time": "2023-12-23T14:59:04.668619Z",
     "start_time": "2023-12-23T14:59:04.646304Z"
    }
   },
   "id": "f39774be3e137a7a"
  },
  {
   "cell_type": "markdown",
   "source": [
    "## 指定默认形参值\n",
    "默认形参值是在定义函数时运行的"
   ],
   "metadata": {
    "collapsed": false
   },
   "id": "bf0f3b876516f31"
  },
  {
   "cell_type": "code",
   "execution_count": 18,
   "outputs": [
    {
     "name": "stdout",
     "output_type": "stream",
     "text": [
      "{'wine': 'dunkelfelder', 'entree': 'chicken', 'dessert': 'pudding'}\n",
      "{'wine': 'chardonnay', 'entree': 'chicken', 'dessert': 'coke'}\n"
     ]
    }
   ],
   "source": [
    "def menu(wine, entree, dessert='pudding'):\n",
    "    return {'wine': wine, 'entree': entree, 'dessert': dessert}\n",
    "\n",
    "\n",
    "print(menu('dunkelfelder', 'chicken'))\n",
    "print(menu('chardonnay', 'chicken', 'coke'))"
   ],
   "metadata": {
    "collapsed": false,
    "ExecuteTime": {
     "end_time": "2023-12-23T15:01:18.336954Z",
     "start_time": "2023-12-23T15:01:18.307771Z"
    }
   },
   "id": "3624bd4a4e0c3fa7"
  },
  {
   "cell_type": "code",
   "execution_count": 22,
   "outputs": [
    {
     "name": "stdout",
     "output_type": "stream",
     "text": [
      "['a']\n",
      "['a', 'b']\n",
      "['a', 'b', 'c']\n"
     ]
    }
   ],
   "source": [
    "# 定义函数时，在内存中新建了一个空列表，名为result\n",
    "def buggy(arg, result=[]):  \n",
    "    result.append(arg)\n",
    "    print(result)\n",
    "\n",
    "\n",
    "buggy('a')\n",
    "buggy('b')\n",
    "buggy('c')"
   ],
   "metadata": {
    "collapsed": false,
    "ExecuteTime": {
     "end_time": "2023-12-23T15:02:49.344952Z",
     "start_time": "2023-12-23T15:02:49.328999Z"
    }
   },
   "id": "3b4d1604a00443fc"
  },
  {
   "cell_type": "code",
   "execution_count": 23,
   "outputs": [
    {
     "name": "stdout",
     "output_type": "stream",
     "text": [
      "['a']\n",
      "['b']\n"
     ]
    }
   ],
   "source": [
    "def works(arg):\n",
    "    result = []\n",
    "    result.append(arg)\n",
    "    print(result)\n",
    "\n",
    "\n",
    "works('a')\n",
    "works('b')"
   ],
   "metadata": {
    "collapsed": false,
    "ExecuteTime": {
     "end_time": "2023-12-23T15:03:49.754360Z",
     "start_time": "2023-12-23T15:03:49.730593Z"
    }
   },
   "id": "70a72a846f74e394"
  },
  {
   "cell_type": "code",
   "execution_count": 26,
   "outputs": [
    {
     "name": "stdout",
     "output_type": "stream",
     "text": [
      "['a']\n",
      "['b']\n",
      "['c']\n"
     ]
    }
   ],
   "source": [
    "def nonbuggy(arg, result=None):\n",
    "    if result is None:\n",
    "        result = []\n",
    "    result.append(arg)\n",
    "    print(result)\n",
    "\n",
    "\n",
    "nonbuggy('a')\n",
    "nonbuggy('b')\n",
    "nonbuggy('c')"
   ],
   "metadata": {
    "collapsed": false,
    "ExecuteTime": {
     "end_time": "2023-12-23T15:15:24.317148Z",
     "start_time": "2023-12-23T15:15:24.304074Z"
    }
   },
   "id": "d1d3a19f0f249a85"
  },
  {
   "cell_type": "markdown",
   "source": [
    "## 使用*拆分/汇总位置实参\n",
    "*将【可变数量的位置形参】集成为【单个形参元组】"
   ],
   "metadata": {
    "collapsed": false
   },
   "id": "602955372044cddc"
  },
  {
   "cell_type": "code",
   "execution_count": 31,
   "outputs": [
    {
     "name": "stdout",
     "output_type": "stream",
     "text": [
      "Positional tuple: ()\n",
      "Positional tuple: (3, 2, 1, 'wait!', 'uh...')\n"
     ]
    }
   ],
   "source": [
    "#定义函数时，*args在内存中新建了一个【空元组】\n",
    "def print_args(*args):\n",
    "    print('Positional tuple:', args)\n",
    "\n",
    "\n",
    "print_args()\n",
    "print_args(3, 2, 1, 'wait!', 'uh...')"
   ],
   "metadata": {
    "collapsed": false,
    "ExecuteTime": {
     "end_time": "2023-12-23T15:27:55.783155Z",
     "start_time": "2023-12-23T15:27:55.771544Z"
    }
   },
   "id": "5a8ae2a84d600482"
  },
  {
   "cell_type": "code",
   "execution_count": 30,
   "outputs": [
    {
     "name": "stdout",
     "output_type": "stream",
     "text": [
      "Need this one: cap\n",
      "Need this one too: gloves\n",
      "All the rest: ('scarf', 'monocle', 'mustache wax')\n"
     ]
    }
   ],
   "source": [
    "def print_more(required1, required2, *args):\n",
    "    print('Need this one:', required1)\n",
    "    print('Need this one too:', required2)\n",
    "    print('All the rest:', args)\n",
    "\n",
    "\n",
    "print_more('cap', 'gloves', 'scarf', 'monocle', 'mustache wax')"
   ],
   "metadata": {
    "collapsed": false,
    "ExecuteTime": {
     "end_time": "2023-12-23T15:24:32.945955Z",
     "start_time": "2023-12-23T15:24:32.914070Z"
    }
   },
   "id": "a6690898a4ee5a96"
  },
  {
   "cell_type": "markdown",
   "source": [
    "## 使用**拆分关键字实参\n",
    "**将关键字汇集成一个字典"
   ],
   "metadata": {
    "collapsed": false
   },
   "id": "5d142da7dfa8f58f"
  },
  {
   "cell_type": "code",
   "execution_count": 32,
   "outputs": [
    {
     "name": "stdout",
     "output_type": "stream",
     "text": [
      "Keyword argments: {}\n"
     ]
    }
   ],
   "source": [
    "#定义函数时，**kwargs在内存中新建了一个 空字典\n",
    "def print_kwargs(**kwargs):\n",
    "    print('Keyword argments:', kwargs)\n",
    "\n",
    "\n",
    "print_kwargs()"
   ],
   "metadata": {
    "collapsed": false,
    "ExecuteTime": {
     "end_time": "2023-12-23T16:25:54.932084Z",
     "start_time": "2023-12-23T16:25:54.903503Z"
    }
   },
   "id": "820ada8848c4557c"
  },
  {
   "cell_type": "code",
   "execution_count": null,
   "outputs": [],
   "source": [],
   "metadata": {
    "collapsed": false
   },
   "id": "a90798665c896c6"
  }
 ],
 "metadata": {
  "kernelspec": {
   "display_name": "Python 3",
   "language": "python",
   "name": "python3"
  },
  "language_info": {
   "codemirror_mode": {
    "name": "ipython",
    "version": 2
   },
   "file_extension": ".py",
   "mimetype": "text/x-python",
   "name": "python",
   "nbconvert_exporter": "python",
   "pygments_lexer": "ipython2",
   "version": "2.7.6"
  }
 },
 "nbformat": 4,
 "nbformat_minor": 5
}
