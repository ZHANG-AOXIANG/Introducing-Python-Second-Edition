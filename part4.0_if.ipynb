{
 "cells": [
  {
   "cell_type": "code",
   "execution_count": 1,
   "id": "initial_id",
   "metadata": {
    "collapsed": true,
    "ExecuteTime": {
     "end_time": "2023-12-18T15:49:20.222356Z",
     "start_time": "2023-12-18T15:49:20.213413Z"
    }
   },
   "outputs": [
    {
     "name": "stdout",
     "output_type": "stream",
     "text": [
      "True!\n"
     ]
    }
   ],
   "source": [
    "disaster = True\n",
    "if disaster:\n",
    "    print(\"True!\")\n",
    "else:\n",
    "    print(\"False!\")"
   ]
  },
  {
   "cell_type": "code",
   "execution_count": 2,
   "outputs": [
    {
     "name": "stdout",
     "output_type": "stream",
     "text": [
      "It is a yeti.\n"
     ]
    }
   ],
   "source": [
    "furry = True\n",
    "large = True\n",
    "if furry:\n",
    "    if large:\n",
    "        print(\"It is a yeti.\")\n",
    "    else:\n",
    "        print(\"It is a cat!\")\n",
    "else:\n",
    "    if large:\n",
    "        print(\"It is a whale.\")\n",
    "    else:\n",
    "        print(\"It is a human. Or a hairless cat.\")"
   ],
   "metadata": {
    "collapsed": false,
    "ExecuteTime": {
     "end_time": "2023-12-18T15:51:22.518142Z",
     "start_time": "2023-12-18T15:51:22.505671Z"
    }
   },
   "id": "7ba4154db35623e0"
  },
  {
   "cell_type": "code",
   "execution_count": 3,
   "outputs": [
    {
     "name": "stdout",
     "output_type": "stream",
     "text": [
      "I have never heard of the color mauve\n"
     ]
    }
   ],
   "source": [
    "color = \"mauve\"\n",
    "if color == \"red\":\n",
    "    print(\"It is a tomato.\")\n",
    "elif color == \"green\":\n",
    "    print(\"It is a green pepper\")\n",
    "elif color == \"bee purple\":\n",
    "    print(\"I do not know what it is, but only bees can see it\")\n",
    "else:\n",
    "    print(\"I have never heard of the color\", color)"
   ],
   "metadata": {
    "collapsed": false,
    "ExecuteTime": {
     "end_time": "2023-12-18T15:54:01.995819Z",
     "start_time": "2023-12-18T15:54:01.972603Z"
    }
   },
   "id": "9dd2017a1c0bc780"
  },
  {
   "cell_type": "markdown",
   "source": [
    "### False\n",
    "boolean False   \n",
    "null None       \n",
    "0       \n",
    "0.0     \n",
    "''      \n",
    "[]      \n",
    "()      \n",
    "{}      \n",
    "set()       "
   ],
   "metadata": {
    "collapsed": false
   },
   "id": "8d52bfcee1c618c9"
  },
  {
   "cell_type": "code",
   "execution_count": 5,
   "outputs": [
    {
     "name": "stdout",
     "output_type": "stream",
     "text": [
      "Hey, it is empty\n"
     ]
    }
   ],
   "source": [
    "some_list = []\n",
    "if some_list:\n",
    "    print(\"There is something in here\")\n",
    "else:\n",
    "    print(\"Hey, it is empty\")"
   ],
   "metadata": {
    "collapsed": false,
    "ExecuteTime": {
     "end_time": "2023-12-18T15:57:14.130030Z",
     "start_time": "2023-12-18T15:57:14.120744Z"
    }
   },
   "id": "238ecdb49d0e94f"
  },
  {
   "cell_type": "code",
   "execution_count": 6,
   "outputs": [
    {
     "name": "stdout",
     "output_type": "stream",
     "text": [
      "o is a vowel\n"
     ]
    }
   ],
   "source": [
    "letter = 'o'\n",
    "if letter == 'a' or letter == 'e' or letter == 'i' or letter == 'o' or letter == 'u':\n",
    "    print(letter, 'is a vowel')\n",
    "else:\n",
    "    print(letter, 'is not a vowel')"
   ],
   "metadata": {
    "collapsed": false,
    "ExecuteTime": {
     "end_time": "2023-12-18T15:58:48.464595Z",
     "start_time": "2023-12-18T15:58:48.447016Z"
    }
   },
   "id": "74b9c8f5616d9bf7"
  },
  {
   "cell_type": "code",
   "execution_count": 7,
   "outputs": [
    {
     "name": "stdout",
     "output_type": "stream",
     "text": [
      "o is a vowel\n"
     ]
    }
   ],
   "source": [
    "vowels = 'aeiou'\n",
    "letter = 'o'\n",
    "if letter in vowels:\n",
    "    print(letter, 'is a vowel')"
   ],
   "metadata": {
    "collapsed": false,
    "ExecuteTime": {
     "end_time": "2023-12-18T15:59:52.791525Z",
     "start_time": "2023-12-18T15:59:52.773510Z"
    }
   },
   "id": "61c1b1161084b6a"
  },
  {
   "cell_type": "code",
   "execution_count": 16,
   "outputs": [
    {
     "data": {
      "text/plain": "True"
     },
     "execution_count": 16,
     "metadata": {},
     "output_type": "execute_result"
    }
   ],
   "source": [
    "letter = 'o'\n",
    "vowels_set = {'a', 'e', 'i', 'o', 'u'}\n",
    "letter in vowels_set"
   ],
   "metadata": {
    "collapsed": false,
    "ExecuteTime": {
     "end_time": "2023-12-18T16:03:21.259368Z",
     "start_time": "2023-12-18T16:03:21.246327Z"
    }
   },
   "id": "697d3793fb51965c"
  },
  {
   "cell_type": "code",
   "execution_count": 15,
   "outputs": [
    {
     "data": {
      "text/plain": "True"
     },
     "execution_count": 15,
     "metadata": {},
     "output_type": "execute_result"
    }
   ],
   "source": [
    "letter = 'o'\n",
    "vowels_list = ['a', 'e', 'i', 'o', 'u']\n",
    "letter in vowels_list"
   ],
   "metadata": {
    "collapsed": false,
    "ExecuteTime": {
     "end_time": "2023-12-18T16:03:14.005290Z",
     "start_time": "2023-12-18T16:03:13.994274Z"
    }
   },
   "id": "480ef2239c471bb7"
  },
  {
   "cell_type": "code",
   "execution_count": 14,
   "outputs": [
    {
     "data": {
      "text/plain": "True"
     },
     "execution_count": 14,
     "metadata": {},
     "output_type": "execute_result"
    }
   ],
   "source": [
    "letter = 'o'\n",
    "vowels_tuple = ('a', 'e', 'i', 'o', 'u')\n",
    "letter in vowels_tuple"
   ],
   "metadata": {
    "collapsed": false,
    "ExecuteTime": {
     "end_time": "2023-12-18T16:03:07.422509Z",
     "start_time": "2023-12-18T16:03:07.407083Z"
    }
   },
   "id": "2ed6299e3865486b"
  },
  {
   "cell_type": "code",
   "execution_count": 13,
   "outputs": [
    {
     "data": {
      "text/plain": "True"
     },
     "execution_count": 13,
     "metadata": {},
     "output_type": "execute_result"
    }
   ],
   "source": [
    "letter = 'o'\n",
    "vowels_dict = {'a': 'apple', 'e': 'elephant', 'i': 'impala', 'o': 'ocelot', 'u': 'unicorn'}\n",
    "letter in vowels_dict"
   ],
   "metadata": {
    "collapsed": false,
    "ExecuteTime": {
     "end_time": "2023-12-18T16:02:56.084003Z",
     "start_time": "2023-12-18T16:02:56.072048Z"
    }
   },
   "id": "dc046742697f71d9"
  },
  {
   "cell_type": "code",
   "execution_count": 12,
   "outputs": [
    {
     "data": {
      "text/plain": "True"
     },
     "execution_count": 12,
     "metadata": {},
     "output_type": "execute_result"
    }
   ],
   "source": [
    "letter = 'o'\n",
    "vowels_string = 'aeiou'\n",
    "letter in vowels_string"
   ],
   "metadata": {
    "collapsed": false,
    "ExecuteTime": {
     "end_time": "2023-12-18T16:02:49.754889Z",
     "start_time": "2023-12-18T16:02:49.734953Z"
    }
   },
   "id": "2866318ea25c2257"
  },
  {
   "cell_type": "markdown",
   "source": [
    "### 海象运算符\n",
    ":=      "
   ],
   "metadata": {
    "collapsed": false
   },
   "id": "636981bfe8208d2"
  },
  {
   "cell_type": "code",
   "execution_count": 19,
   "outputs": [
    {
     "name": "stdout",
     "output_type": "stream",
     "text": [
      "A fitting  tweet\n"
     ]
    }
   ],
   "source": [
    "tweet_limit = 280\n",
    "tweet_string = \"Blah\" * 50\n",
    "diff = tweet_limit - len(tweet_string)\n",
    "if diff >= 0:\n",
    "    print(\"A fitting  tweet\")\n",
    "else:\n",
    "    print(\"Went over by\", abs(diff))"
   ],
   "metadata": {
    "collapsed": false,
    "ExecuteTime": {
     "end_time": "2023-12-18T16:54:45.544488Z",
     "start_time": "2023-12-18T16:54:45.527276Z"
    }
   },
   "id": "e0b9f56915838adc"
  },
  {
   "cell_type": "code",
   "execution_count": 20,
   "outputs": [
    {
     "name": "stdout",
     "output_type": "stream",
     "text": [
      "A fitting  tweet\n"
     ]
    }
   ],
   "source": [
    "tweet_limit = 280\n",
    "tweet_string = \"Blah\" * 50\n",
    "if diff := tweet_limit - len(tweet_string) >= 0:\n",
    "    print(\"A fitting  tweet\")\n",
    "else:\n",
    "    print(\"Went over by\", abs(diff))"
   ],
   "metadata": {
    "collapsed": false,
    "ExecuteTime": {
     "end_time": "2023-12-18T16:55:19.105750Z",
     "start_time": "2023-12-18T16:55:19.068877Z"
    }
   },
   "id": "f95598e111c31235"
  },
  {
   "cell_type": "code",
   "execution_count": 21,
   "outputs": [
    {
     "name": "stdout",
     "output_type": "stream",
     "text": [
      "A fitting  tweet\n"
     ]
    }
   ],
   "source": [
    "tweet_limit = 280\n",
    "tweet_string = \"Blah\" * 50\n",
    "if (tweet_limit - len(tweet_string)) >= 0:\n",
    "    print(\"A fitting  tweet\")\n",
    "else:\n",
    "    print(\"Went over by\", abs(diff))"
   ],
   "metadata": {
    "collapsed": false,
    "ExecuteTime": {
     "end_time": "2023-12-18T16:55:42.119659Z",
     "start_time": "2023-12-18T16:55:42.089742Z"
    }
   },
   "id": "e2d0085ebc778cad"
  },
  {
   "cell_type": "code",
   "execution_count": null,
   "outputs": [],
   "source": [],
   "metadata": {
    "collapsed": false
   },
   "id": "61243e87cdec0123"
  }
 ],
 "metadata": {
  "kernelspec": {
   "display_name": "Python 3",
   "language": "python",
   "name": "python3"
  },
  "language_info": {
   "codemirror_mode": {
    "name": "ipython",
    "version": 2
   },
   "file_extension": ".py",
   "mimetype": "text/x-python",
   "name": "python",
   "nbconvert_exporter": "python",
   "pygments_lexer": "ipython2",
   "version": "2.7.6"
  }
 },
 "nbformat": 4,
 "nbformat_minor": 5
}
