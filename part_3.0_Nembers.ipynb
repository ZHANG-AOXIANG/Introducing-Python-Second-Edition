{
 "cells": [
  {
   "cell_type": "markdown",
   "source": [
    "## 3.1 布尔值 Bool\n",
    "### bool()函数\n",
    "输入：任何值\n",
    "输出：等价的布尔值"
   ],
   "metadata": {
    "collapsed": false
   },
   "id": "5746da547713f511"
  },
  {
   "cell_type": "code",
   "execution_count": 1,
   "outputs": [
    {
     "data": {
      "text/plain": "True"
     },
     "execution_count": 1,
     "metadata": {},
     "output_type": "execute_result"
    }
   ],
   "source": [
    "bool(True)"
   ],
   "metadata": {
    "collapsed": false,
    "ExecuteTime": {
     "end_time": "2023-12-18T11:35:56.956436Z",
     "start_time": "2023-12-18T11:35:56.939044Z"
    }
   },
   "id": "25de85dddd5fb67a"
  },
  {
   "cell_type": "code",
   "execution_count": 2,
   "outputs": [
    {
     "data": {
      "text/plain": "False"
     },
     "execution_count": 2,
     "metadata": {},
     "output_type": "execute_result"
    }
   ],
   "source": [
    "bool(False)"
   ],
   "metadata": {
    "collapsed": false,
    "ExecuteTime": {
     "end_time": "2023-12-18T11:35:58.661433Z",
     "start_time": "2023-12-18T11:35:58.637661Z"
    }
   },
   "id": "2e428699cfffba7f"
  },
  {
   "cell_type": "code",
   "execution_count": 3,
   "outputs": [
    {
     "data": {
      "text/plain": "True"
     },
     "execution_count": 3,
     "metadata": {},
     "output_type": "execute_result"
    }
   ],
   "source": [
    "bool(-1)"
   ],
   "metadata": {
    "collapsed": false,
    "ExecuteTime": {
     "end_time": "2023-12-18T11:35:59.694220Z",
     "start_time": "2023-12-18T11:35:59.676360Z"
    }
   },
   "id": "b246d67f6e3d2f7b"
  },
  {
   "cell_type": "code",
   "execution_count": 4,
   "outputs": [
    {
     "data": {
      "text/plain": "True"
     },
     "execution_count": 4,
     "metadata": {},
     "output_type": "execute_result"
    }
   ],
   "source": [
    "bool(1)"
   ],
   "metadata": {
    "collapsed": false,
    "ExecuteTime": {
     "end_time": "2023-12-18T11:36:00.900157Z",
     "start_time": "2023-12-18T11:36:00.889297Z"
    }
   },
   "id": "e1292ed3ddf15ad7"
  },
  {
   "cell_type": "code",
   "execution_count": 5,
   "outputs": [
    {
     "data": {
      "text/plain": "False"
     },
     "execution_count": 5,
     "metadata": {},
     "output_type": "execute_result"
    }
   ],
   "source": [
    "bool(0)"
   ],
   "metadata": {
    "collapsed": false,
    "ExecuteTime": {
     "end_time": "2023-12-18T11:36:01.526565Z",
     "start_time": "2023-12-18T11:36:01.502390Z"
    }
   },
   "id": "a32ceec96bb64b4e"
  },
  {
   "cell_type": "code",
   "execution_count": 6,
   "outputs": [
    {
     "data": {
      "text/plain": "True"
     },
     "execution_count": 6,
     "metadata": {},
     "output_type": "execute_result"
    }
   ],
   "source": [
    "bool(115)"
   ],
   "metadata": {
    "collapsed": false,
    "ExecuteTime": {
     "end_time": "2023-12-18T11:36:02.063749Z",
     "start_time": "2023-12-18T11:36:02.036869Z"
    }
   },
   "id": "296814a9b20a2100"
  },
  {
   "cell_type": "code",
   "execution_count": 7,
   "outputs": [
    {
     "data": {
      "text/plain": "False"
     },
     "execution_count": 7,
     "metadata": {},
     "output_type": "execute_result"
    }
   ],
   "source": [
    "bool(None)"
   ],
   "metadata": {
    "collapsed": false,
    "ExecuteTime": {
     "end_time": "2023-12-18T11:36:08.338526Z",
     "start_time": "2023-12-18T11:36:08.308217Z"
    }
   },
   "id": "2755741ea7aa14df"
  },
  {
   "cell_type": "markdown",
   "source": [
    "## 3.2 整数 Int "
   ],
   "metadata": {
    "collapsed": false
   },
   "id": "dc4fced67a9fd99d"
  },
  {
   "cell_type": "code",
   "execution_count": 8,
   "outputs": [
    {
     "data": {
      "text/plain": "1"
     },
     "execution_count": 8,
     "metadata": {},
     "output_type": "execute_result"
    }
   ],
   "source": [
    "1"
   ],
   "metadata": {
    "collapsed": false,
    "ExecuteTime": {
     "end_time": "2023-12-18T11:37:57.687636Z",
     "start_time": "2023-12-18T11:37:57.678739Z"
    }
   },
   "id": "439c9f059b27a85c"
  },
  {
   "cell_type": "code",
   "execution_count": 9,
   "outputs": [
    {
     "ename": "SyntaxError",
     "evalue": "leading zeros in decimal integer literals are not permitted; use an 0o prefix for octal integers (2610041547.py, line 1)",
     "output_type": "error",
     "traceback": [
      "\u001B[0;36m  Cell \u001B[0;32mIn[9], line 1\u001B[0;36m\u001B[0m\n\u001B[0;31m    01\u001B[0m\n\u001B[0m    ^\u001B[0m\n\u001B[0;31mSyntaxError\u001B[0m\u001B[0;31m:\u001B[0m leading zeros in decimal integer literals are not permitted; use an 0o prefix for octal integers\n"
     ]
    }
   ],
   "source": [
    "01"
   ],
   "metadata": {
    "collapsed": false,
    "ExecuteTime": {
     "end_time": "2023-12-18T11:37:59.997029Z",
     "start_time": "2023-12-18T11:37:59.982167Z"
    }
   },
   "id": "e69a0b2944a558ec"
  },
  {
   "cell_type": "code",
   "execution_count": 10,
   "outputs": [
    {
     "data": {
      "text/plain": "123"
     },
     "execution_count": 10,
     "metadata": {},
     "output_type": "execute_result"
    }
   ],
   "source": [
    "+123"
   ],
   "metadata": {
    "collapsed": false,
    "ExecuteTime": {
     "end_time": "2023-12-18T11:38:06.859807Z",
     "start_time": "2023-12-18T11:38:06.834709Z"
    }
   },
   "id": "a0f15fc677703cde"
  },
  {
   "cell_type": "code",
   "execution_count": 11,
   "outputs": [
    {
     "data": {
      "text/plain": "-123"
     },
     "execution_count": 11,
     "metadata": {},
     "output_type": "execute_result"
    }
   ],
   "source": [
    "-123"
   ],
   "metadata": {
    "collapsed": false,
    "ExecuteTime": {
     "end_time": "2023-12-18T11:38:09.340207Z",
     "start_time": "2023-12-18T11:38:09.326174Z"
    }
   },
   "id": "74b51e67c95e3b23"
  },
  {
   "cell_type": "code",
   "execution_count": 12,
   "outputs": [
    {
     "data": {
      "text/plain": "123"
     },
     "execution_count": 12,
     "metadata": {},
     "output_type": "execute_result"
    }
   ],
   "source": [
    "1_2_3"
   ],
   "metadata": {
    "collapsed": false,
    "ExecuteTime": {
     "end_time": "2023-12-18T11:38:23.593989Z",
     "start_time": "2023-12-18T11:38:23.548260Z"
    }
   },
   "id": "4727b91d63f79bdb"
  },
  {
   "cell_type": "markdown",
   "source": [
    "### 3.2.1 整数运算\n",
    "/  浮点数除法\n",
    "// 整数除法\n",
    "** 求幂"
   ],
   "metadata": {
    "collapsed": false
   },
   "id": "ede88ef7c1bd6257"
  },
  {
   "cell_type": "code",
   "execution_count": 13,
   "outputs": [
    {
     "data": {
      "text/plain": "2.5"
     },
     "execution_count": 13,
     "metadata": {},
     "output_type": "execute_result"
    }
   ],
   "source": [
    "5/2"
   ],
   "metadata": {
    "collapsed": false,
    "ExecuteTime": {
     "end_time": "2023-12-18T11:40:01.089291Z",
     "start_time": "2023-12-18T11:40:01.075004Z"
    }
   },
   "id": "5e1bcbe4be75a0aa"
  },
  {
   "cell_type": "code",
   "execution_count": 14,
   "outputs": [
    {
     "data": {
      "text/plain": "2"
     },
     "execution_count": 14,
     "metadata": {},
     "output_type": "execute_result"
    }
   ],
   "source": [
    "5//2"
   ],
   "metadata": {
    "collapsed": false,
    "ExecuteTime": {
     "end_time": "2023-12-18T11:40:08.544301Z",
     "start_time": "2023-12-18T11:40:08.511296Z"
    }
   },
   "id": "72146367e467f4e2"
  },
  {
   "cell_type": "code",
   "execution_count": 15,
   "outputs": [
    {
     "data": {
      "text/plain": "25"
     },
     "execution_count": 15,
     "metadata": {},
     "output_type": "execute_result"
    }
   ],
   "source": [
    "5**2"
   ],
   "metadata": {
    "collapsed": false,
    "ExecuteTime": {
     "end_time": "2023-12-18T11:40:14.779812Z",
     "start_time": "2023-12-18T11:40:14.739252Z"
    }
   },
   "id": "2938c1951fdb3816"
  },
  {
   "cell_type": "markdown",
   "source": [
    "### 3.2.2 整数和变量"
   ],
   "metadata": {
    "collapsed": false
   },
   "id": "b83f656da927507d"
  },
  {
   "cell_type": "code",
   "execution_count": 16,
   "outputs": [
    {
     "data": {
      "text/plain": "92"
     },
     "execution_count": 16,
     "metadata": {},
     "output_type": "execute_result"
    }
   ],
   "source": [
    "a = 95\n",
    "a = a - 3\n",
    "a"
   ],
   "metadata": {
    "collapsed": false,
    "ExecuteTime": {
     "end_time": "2023-12-18T11:45:48.771697Z",
     "start_time": "2023-12-18T11:45:48.725153Z"
    }
   },
   "id": "b43a3586d29cff31"
  },
  {
   "cell_type": "code",
   "execution_count": 17,
   "outputs": [
    {
     "data": {
      "text/plain": "92"
     },
     "execution_count": 17,
     "metadata": {},
     "output_type": "execute_result"
    }
   ],
   "source": [
    "a = 95\n",
    "a -= 3\n",
    "a"
   ],
   "metadata": {
    "collapsed": false,
    "ExecuteTime": {
     "end_time": "2023-12-18T11:46:18.260750Z",
     "start_time": "2023-12-18T11:46:18.212254Z"
    }
   },
   "id": "82249492130144da"
  },
  {
   "cell_type": "markdown",
   "source": [
    "### 3.2.3 基数\n",
    "二进制：0b 0B\n",
    "八进制：0o 0O\n",
    "十六进制：0x 0X"
   ],
   "metadata": {
    "collapsed": false
   },
   "id": "a623783537255373"
  },
  {
   "cell_type": "code",
   "execution_count": 19,
   "outputs": [
    {
     "data": {
      "text/plain": "10"
     },
     "execution_count": 19,
     "metadata": {},
     "output_type": "execute_result"
    }
   ],
   "source": [
    "10"
   ],
   "metadata": {
    "collapsed": false,
    "ExecuteTime": {
     "end_time": "2023-12-18T11:49:53.574483Z",
     "start_time": "2023-12-18T11:49:53.553901Z"
    }
   },
   "id": "876cb069b7a7cb4e"
  },
  {
   "cell_type": "code",
   "execution_count": 20,
   "outputs": [
    {
     "data": {
      "text/plain": "2"
     },
     "execution_count": 20,
     "metadata": {},
     "output_type": "execute_result"
    }
   ],
   "source": [
    "0b10"
   ],
   "metadata": {
    "collapsed": false,
    "ExecuteTime": {
     "end_time": "2023-12-18T11:49:56.679520Z",
     "start_time": "2023-12-18T11:49:56.627249Z"
    }
   },
   "id": "8539cd28855492cb"
  },
  {
   "cell_type": "code",
   "execution_count": 21,
   "outputs": [
    {
     "data": {
      "text/plain": "8"
     },
     "execution_count": 21,
     "metadata": {},
     "output_type": "execute_result"
    }
   ],
   "source": [
    "0o10"
   ],
   "metadata": {
    "collapsed": false,
    "ExecuteTime": {
     "end_time": "2023-12-18T11:50:08.931426Z",
     "start_time": "2023-12-18T11:50:08.895967Z"
    }
   },
   "id": "97b8f0cda2e696dc"
  },
  {
   "cell_type": "code",
   "execution_count": 22,
   "outputs": [
    {
     "data": {
      "text/plain": "16"
     },
     "execution_count": 22,
     "metadata": {},
     "output_type": "execute_result"
    }
   ],
   "source": [
    "0x10"
   ],
   "metadata": {
    "collapsed": false,
    "ExecuteTime": {
     "end_time": "2023-12-18T11:50:13.329384Z",
     "start_time": "2023-12-18T11:50:13.300445Z"
    }
   },
   "id": "71fc0434b953b41d"
  },
  {
   "cell_type": "code",
   "execution_count": 23,
   "outputs": [
    {
     "data": {
      "text/plain": "'A'"
     },
     "execution_count": 23,
     "metadata": {},
     "output_type": "execute_result"
    }
   ],
   "source": [
    "chr(65)"
   ],
   "metadata": {
    "collapsed": false,
    "ExecuteTime": {
     "end_time": "2023-12-18T11:50:33.985017Z",
     "start_time": "2023-12-18T11:50:33.969652Z"
    }
   },
   "id": "ceb87f7e7872d565"
  },
  {
   "cell_type": "code",
   "execution_count": 24,
   "outputs": [
    {
     "data": {
      "text/plain": "65"
     },
     "execution_count": 24,
     "metadata": {},
     "output_type": "execute_result"
    }
   ],
   "source": [
    "ord(\"A\")"
   ],
   "metadata": {
    "collapsed": false,
    "ExecuteTime": {
     "end_time": "2023-12-18T11:50:41.126679Z",
     "start_time": "2023-12-18T11:50:41.092855Z"
    }
   },
   "id": "f293781e2846cc1d"
  },
  {
   "cell_type": "markdown",
   "source": [
    "### 3.2.3 类型转换\n",
    "int()  \n",
    "float()  \n",
    "str()  \n",
    "tuple() ：转换为 元组  \n",
    "list()  ：转换为 列表  \n",
    "set()   ：转换为 集合  \n",
    "dict()  ：转换为 字典  \n",
    "  \n",
    "chr()  \n",
    "ord()  "
   ],
   "metadata": {
    "collapsed": false
   },
   "id": "2c150de1eddba1dc"
  },
  {
   "cell_type": "code",
   "execution_count": 25,
   "outputs": [
    {
     "data": {
      "text/plain": "3"
     },
     "execution_count": 25,
     "metadata": {},
     "output_type": "execute_result"
    }
   ],
   "source": [
    "True+2"
   ],
   "metadata": {
    "collapsed": false,
    "ExecuteTime": {
     "end_time": "2023-12-18T11:51:36.324490Z",
     "start_time": "2023-12-18T11:51:36.279463Z"
    }
   },
   "id": "bd49243116e26e34"
  },
  {
   "cell_type": "code",
   "execution_count": 26,
   "outputs": [
    {
     "data": {
      "text/plain": "2"
     },
     "execution_count": 26,
     "metadata": {},
     "output_type": "execute_result"
    }
   ],
   "source": [
    "False+2"
   ],
   "metadata": {
    "collapsed": false,
    "ExecuteTime": {
     "end_time": "2023-12-18T11:51:46.048277Z",
     "start_time": "2023-12-18T11:51:46.016792Z"
    }
   },
   "id": "6d373f4fc2e2b747"
  },
  {
   "cell_type": "code",
   "execution_count": 27,
   "outputs": [
    {
     "data": {
      "text/plain": "'3'"
     },
     "execution_count": 27,
     "metadata": {},
     "output_type": "execute_result"
    }
   ],
   "source": [
    "repr(3)"
   ],
   "metadata": {
    "collapsed": false,
    "ExecuteTime": {
     "end_time": "2023-12-18T11:55:13.447042Z",
     "start_time": "2023-12-18T11:55:13.349427Z"
    }
   },
   "id": "76d56b64c91be5be"
  },
  {
   "cell_type": "code",
   "execution_count": 28,
   "outputs": [
    {
     "data": {
      "text/plain": "'123'"
     },
     "execution_count": 28,
     "metadata": {},
     "output_type": "execute_result"
    }
   ],
   "source": [
    "repr(123)"
   ],
   "metadata": {
    "collapsed": false,
    "ExecuteTime": {
     "end_time": "2023-12-18T11:55:21.990149Z",
     "start_time": "2023-12-18T11:55:21.949437Z"
    }
   },
   "id": "a0dad87046438a08"
  },
  {
   "cell_type": "code",
   "execution_count": 29,
   "outputs": [
    {
     "data": {
      "text/plain": "'3'"
     },
     "execution_count": 29,
     "metadata": {},
     "output_type": "execute_result"
    }
   ],
   "source": [
    "str(3)"
   ],
   "metadata": {
    "collapsed": false,
    "ExecuteTime": {
     "end_time": "2023-12-18T11:55:28.961334Z",
     "start_time": "2023-12-18T11:55:28.915618Z"
    }
   },
   "id": "7451513b4fe539a3"
  },
  {
   "cell_type": "code",
   "execution_count": null,
   "outputs": [],
   "source": [],
   "metadata": {
    "collapsed": false
   },
   "id": "7b2ea96b983cf478"
  }
 ],
 "metadata": {
  "kernelspec": {
   "display_name": "Python 3",
   "language": "python",
   "name": "python3"
  },
  "language_info": {
   "codemirror_mode": {
    "name": "ipython",
    "version": 2
   },
   "file_extension": ".py",
   "mimetype": "text/x-python",
   "name": "python",
   "nbconvert_exporter": "python",
   "pygments_lexer": "ipython2",
   "version": "2.7.6"
  }
 },
 "nbformat": 4,
 "nbformat_minor": 5
}
