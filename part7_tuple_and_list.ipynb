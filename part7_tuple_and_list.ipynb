{
 "cells": [
  {
   "cell_type": "markdown",
   "source": [
    "## Part7 元组 列表"
   ],
   "metadata": {
    "collapsed": false
   },
   "id": "e7e118eb55573e78"
  },
  {
   "cell_type": "markdown",
   "source": [
    "### 列表"
   ],
   "metadata": {
    "collapsed": false
   },
   "id": "d38906324895302"
  },
  {
   "cell_type": "code",
   "execution_count": 36,
   "id": "initial_id",
   "metadata": {
    "collapsed": true,
    "ExecuteTime": {
     "end_time": "2023-12-23T08:46:32.772402Z",
     "start_time": "2023-12-23T08:46:31.948236Z"
    }
   },
   "outputs": [
    {
     "data": {
      "text/plain": "()"
     },
     "execution_count": 36,
     "metadata": {},
     "output_type": "execute_result"
    }
   ],
   "source": [
    "empty_tuple = ()\n",
    "empty_tuple"
   ]
  },
  {
   "cell_type": "code",
   "execution_count": 37,
   "outputs": [
    {
     "data": {
      "text/plain": "'Groucho'"
     },
     "execution_count": 37,
     "metadata": {},
     "output_type": "execute_result"
    }
   ],
   "source": [
    "one_marx = ('Groucho')\n",
    "one_marx"
   ],
   "metadata": {
    "collapsed": false,
    "ExecuteTime": {
     "end_time": "2023-12-23T08:46:33.216356Z",
     "start_time": "2023-12-23T08:46:31.956884Z"
    }
   },
   "id": "e2208c1cc8271f24"
  },
  {
   "cell_type": "code",
   "execution_count": 38,
   "outputs": [
    {
     "data": {
      "text/plain": "str"
     },
     "execution_count": 38,
     "metadata": {},
     "output_type": "execute_result"
    }
   ],
   "source": [
    "type(one_marx)"
   ],
   "metadata": {
    "collapsed": false,
    "ExecuteTime": {
     "end_time": "2023-12-23T08:46:33.299421Z",
     "start_time": "2023-12-23T08:46:31.963183Z"
    }
   },
   "id": "d27dd98d34b19325"
  },
  {
   "cell_type": "code",
   "execution_count": 39,
   "outputs": [
    {
     "data": {
      "text/plain": "('Groucho', 'Chiao', 'Harpo')"
     },
     "execution_count": 39,
     "metadata": {},
     "output_type": "execute_result"
    }
   ],
   "source": [
    "marx_tuple = ('Groucho', 'Chiao', 'Harpo')\n",
    "marx_tuple"
   ],
   "metadata": {
    "collapsed": false,
    "ExecuteTime": {
     "end_time": "2023-12-23T08:46:33.485533Z",
     "start_time": "2023-12-23T08:46:31.975635Z"
    }
   },
   "id": "d0919d878266e008"
  },
  {
   "cell_type": "code",
   "execution_count": 40,
   "outputs": [
    {
     "data": {
      "text/plain": "tuple"
     },
     "execution_count": 40,
     "metadata": {},
     "output_type": "execute_result"
    }
   ],
   "source": [
    "type(marx_tuple)"
   ],
   "metadata": {
    "collapsed": false,
    "ExecuteTime": {
     "end_time": "2023-12-23T08:46:33.485994Z",
     "start_time": "2023-12-23T08:46:31.983728Z"
    }
   },
   "id": "852105730d3b1ca2"
  },
  {
   "cell_type": "code",
   "execution_count": 41,
   "outputs": [
    {
     "data": {
      "text/plain": "'Groucho'"
     },
     "execution_count": 41,
     "metadata": {},
     "output_type": "execute_result"
    }
   ],
   "source": [
    "marx_tuple = ('Groucho', 'Chiao', 'Harpo')\n",
    "a, b, c = marx_tuple\n",
    "a"
   ],
   "metadata": {
    "collapsed": false,
    "ExecuteTime": {
     "end_time": "2023-12-23T08:46:33.486364Z",
     "start_time": "2023-12-23T08:46:31.989659Z"
    }
   },
   "id": "3e77edebae29787"
  },
  {
   "cell_type": "code",
   "execution_count": 42,
   "outputs": [
    {
     "data": {
      "text/plain": "'Chiao'"
     },
     "execution_count": 42,
     "metadata": {},
     "output_type": "execute_result"
    }
   ],
   "source": [
    "b"
   ],
   "metadata": {
    "collapsed": false,
    "ExecuteTime": {
     "end_time": "2023-12-23T08:46:33.595832Z",
     "start_time": "2023-12-23T08:46:31.996042Z"
    }
   },
   "id": "ac830644fde4b088"
  },
  {
   "cell_type": "code",
   "execution_count": 43,
   "outputs": [
    {
     "data": {
      "text/plain": "'Harpo'"
     },
     "execution_count": 43,
     "metadata": {},
     "output_type": "execute_result"
    }
   ],
   "source": [
    "c"
   ],
   "metadata": {
    "collapsed": false,
    "ExecuteTime": {
     "end_time": "2023-12-23T08:46:33.596113Z",
     "start_time": "2023-12-23T08:46:32.005847Z"
    }
   },
   "id": "e4e97e950b3f5490"
  },
  {
   "cell_type": "code",
   "execution_count": 44,
   "outputs": [
    {
     "data": {
      "text/plain": "('Groucho', 'Chiao', 'Harpo')"
     },
     "execution_count": 44,
     "metadata": {},
     "output_type": "execute_result"
    }
   ],
   "source": [
    "marx_list = ['Groucho', 'Chiao', 'Harpo']\n",
    "tuple(marx_tuple)"
   ],
   "metadata": {
    "collapsed": false,
    "ExecuteTime": {
     "end_time": "2023-12-23T08:46:33.694834Z",
     "start_time": "2023-12-23T08:46:32.012132Z"
    }
   },
   "id": "24df210c8cba45de"
  },
  {
   "cell_type": "code",
   "execution_count": 45,
   "outputs": [
    {
     "data": {
      "text/plain": "('Groucho', 'Chiao', 'Harpo')"
     },
     "execution_count": 45,
     "metadata": {},
     "output_type": "execute_result"
    }
   ],
   "source": [
    "marx_tuple00 = ('Groucho', 'Chiao')\n",
    "marx_tuple01 = ('Harpo',)  #!!!!!!!!!!!!!!!!!!!!\n",
    "marx_tuple = marx_tuple00 + marx_tuple01\n",
    "marx_tuple"
   ],
   "metadata": {
    "collapsed": false,
    "ExecuteTime": {
     "end_time": "2023-12-23T08:46:33.773969Z",
     "start_time": "2023-12-23T08:46:32.023738Z"
    }
   },
   "id": "8a701ed3c9ea719e"
  },
  {
   "cell_type": "code",
   "execution_count": 46,
   "outputs": [
    {
     "data": {
      "text/plain": "('Groucho', 'Groucho', 'Groucho')"
     },
     "execution_count": 46,
     "metadata": {},
     "output_type": "execute_result"
    }
   ],
   "source": [
    "marx_tuple00 = ('Groucho',)\n",
    "marx_tuple03 = marx_tuple00 * 3\n",
    "marx_tuple03"
   ],
   "metadata": {
    "collapsed": false,
    "ExecuteTime": {
     "end_time": "2023-12-23T08:46:33.784369Z",
     "start_time": "2023-12-23T08:46:32.031647Z"
    }
   },
   "id": "f9bafb5f41cf43c2"
  },
  {
   "cell_type": "code",
   "execution_count": 47,
   "outputs": [],
   "source": [
    "a = (7, 2)\n",
    "b = (7, 2, 9)"
   ],
   "metadata": {
    "collapsed": false,
    "ExecuteTime": {
     "end_time": "2023-12-23T08:46:33.784696Z",
     "start_time": "2023-12-23T08:46:32.036957Z"
    }
   },
   "id": "b116e3629b165292"
  },
  {
   "cell_type": "code",
   "execution_count": 48,
   "outputs": [
    {
     "data": {
      "text/plain": "False"
     },
     "execution_count": 48,
     "metadata": {},
     "output_type": "execute_result"
    }
   ],
   "source": [
    "a == b"
   ],
   "metadata": {
    "collapsed": false,
    "ExecuteTime": {
     "end_time": "2023-12-23T08:46:33.841983Z",
     "start_time": "2023-12-23T08:46:32.042967Z"
    }
   },
   "id": "eb2bc0566f31cac6"
  },
  {
   "cell_type": "code",
   "execution_count": 49,
   "outputs": [
    {
     "data": {
      "text/plain": "True"
     },
     "execution_count": 49,
     "metadata": {},
     "output_type": "execute_result"
    }
   ],
   "source": [
    "a < b"
   ],
   "metadata": {
    "collapsed": false,
    "ExecuteTime": {
     "end_time": "2023-12-23T08:46:33.842626Z",
     "start_time": "2023-12-23T08:46:32.050286Z"
    }
   },
   "id": "a923330356029b0c"
  },
  {
   "cell_type": "code",
   "execution_count": 50,
   "outputs": [
    {
     "data": {
      "text/plain": "False"
     },
     "execution_count": 50,
     "metadata": {},
     "output_type": "execute_result"
    }
   ],
   "source": [
    "a > b"
   ],
   "metadata": {
    "collapsed": false,
    "ExecuteTime": {
     "end_time": "2023-12-23T08:46:33.880765Z",
     "start_time": "2023-12-23T08:46:32.057868Z"
    }
   },
   "id": "e8115a6f25a46ef6"
  },
  {
   "cell_type": "code",
   "execution_count": 51,
   "outputs": [
    {
     "name": "stdout",
     "output_type": "stream",
     "text": [
      "fresh\n",
      "out\n",
      "of\n",
      "ideas\n"
     ]
    }
   ],
   "source": [
    "words = ('fresh', 'out', 'of', 'ideas')\n",
    "for word in words:\n",
    "    print(word)"
   ],
   "metadata": {
    "collapsed": false,
    "ExecuteTime": {
     "end_time": "2023-12-23T08:46:33.881161Z",
     "start_time": "2023-12-23T08:46:32.065396Z"
    }
   },
   "id": "3f637bbed4070df9"
  },
  {
   "cell_type": "markdown",
   "source": [
    "### 列表"
   ],
   "metadata": {
    "collapsed": false
   },
   "id": "8d3cb44550953d91"
  },
  {
   "cell_type": "code",
   "execution_count": 52,
   "outputs": [
    {
     "data": {
      "text/plain": "[]"
     },
     "execution_count": 52,
     "metadata": {},
     "output_type": "execute_result"
    }
   ],
   "source": [
    "empty_list = []\n",
    "empty_list"
   ],
   "metadata": {
    "collapsed": false,
    "ExecuteTime": {
     "end_time": "2023-12-23T08:46:33.881404Z",
     "start_time": "2023-12-23T08:46:32.071432Z"
    }
   },
   "id": "93f329ba01af34cc"
  },
  {
   "cell_type": "code",
   "execution_count": 53,
   "outputs": [
    {
     "data": {
      "text/plain": "[]"
     },
     "execution_count": 53,
     "metadata": {},
     "output_type": "execute_result"
    }
   ],
   "source": [
    "another_empty_list = list()\n",
    "another_empty_list"
   ],
   "metadata": {
    "collapsed": false,
    "ExecuteTime": {
     "end_time": "2023-12-23T08:46:33.954270Z",
     "start_time": "2023-12-23T08:46:32.078379Z"
    }
   },
   "id": "abb57ef1dbd26657"
  },
  {
   "cell_type": "code",
   "execution_count": 54,
   "outputs": [
    {
     "data": {
      "text/plain": "['Monday', 'Tuesday', 'Wednesday', 'Thursday', 'Friday']"
     },
     "execution_count": 54,
     "metadata": {},
     "output_type": "execute_result"
    }
   ],
   "source": [
    "weekdays_list = ['Monday', 'Tuesday', 'Wednesday', 'Thursday', 'Friday']\n",
    "weekdays_list"
   ],
   "metadata": {
    "collapsed": false,
    "ExecuteTime": {
     "end_time": "2023-12-23T08:46:33.954602Z",
     "start_time": "2023-12-23T08:46:32.085872Z"
    }
   },
   "id": "8bdba4b6b8d87fcc"
  },
  {
   "cell_type": "code",
   "execution_count": 55,
   "outputs": [
    {
     "data": {
      "text/plain": "{'groundhog': 'Phil'}"
     },
     "execution_count": 55,
     "metadata": {},
     "output_type": "execute_result"
    }
   ],
   "source": [
    "randomness = [\"Punxsatawney\", {\"groundhog\": \"Phil\"}, \"Feb.2\"]\n",
    "randomness[1]"
   ],
   "metadata": {
    "collapsed": false,
    "ExecuteTime": {
     "end_time": "2023-12-23T08:46:34.001012Z",
     "start_time": "2023-12-23T08:46:32.094813Z"
    }
   },
   "id": "ada859ac524d15c9"
  },
  {
   "cell_type": "code",
   "execution_count": 56,
   "outputs": [
    {
     "data": {
      "text/plain": "'Phil'"
     },
     "execution_count": 56,
     "metadata": {},
     "output_type": "execute_result"
    }
   ],
   "source": [
    "randomness[1][\"groundhog\"]"
   ],
   "metadata": {
    "collapsed": false,
    "ExecuteTime": {
     "end_time": "2023-12-23T08:46:34.001566Z",
     "start_time": "2023-12-23T08:46:32.101839Z"
    }
   },
   "id": "1bd6846cf50cb241"
  },
  {
   "cell_type": "code",
   "execution_count": 57,
   "outputs": [
    {
     "data": {
      "text/plain": "['c', 'a', 't']"
     },
     "execution_count": 57,
     "metadata": {},
     "output_type": "execute_result"
    }
   ],
   "source": [
    "list('cat')"
   ],
   "metadata": {
    "collapsed": false,
    "ExecuteTime": {
     "end_time": "2023-12-23T08:46:34.049575Z",
     "start_time": "2023-12-23T08:46:32.107460Z"
    }
   },
   "id": "4ffa4130986f642"
  },
  {
   "cell_type": "code",
   "execution_count": 58,
   "outputs": [
    {
     "data": {
      "text/plain": "list"
     },
     "execution_count": 58,
     "metadata": {},
     "output_type": "execute_result"
    }
   ],
   "source": [
    "a_tuple = ('ready', 'fire', 'aim')\n",
    "list_from_tuple = list(a_tuple)\n",
    "type(a_tuple)\n",
    "type(list_from_tuple)"
   ],
   "metadata": {
    "collapsed": false,
    "ExecuteTime": {
     "end_time": "2023-12-23T08:46:34.049916Z",
     "start_time": "2023-12-23T08:46:32.114127Z"
    }
   },
   "id": "f94b7923a25c5063"
  },
  {
   "cell_type": "code",
   "execution_count": 59,
   "outputs": [
    {
     "data": {
      "text/plain": "['9', '19', '2019']"
     },
     "execution_count": 59,
     "metadata": {},
     "output_type": "execute_result"
    }
   ],
   "source": [
    "one_day = '9/19/2019'\n",
    "one_day.split('/')"
   ],
   "metadata": {
    "collapsed": false,
    "ExecuteTime": {
     "end_time": "2023-12-23T08:46:34.090259Z",
     "start_time": "2023-12-23T08:46:32.122971Z"
    }
   },
   "id": "83da1dcb92f04e9"
  },
  {
   "cell_type": "code",
   "execution_count": 60,
   "outputs": [
    {
     "data": {
      "text/plain": "['a', 'b', '', 'c', 'd', '', '', 'e']"
     },
     "execution_count": 60,
     "metadata": {},
     "output_type": "execute_result"
    }
   ],
   "source": [
    "split_string = 'a/b//c/d///e'\n",
    "split_string.split('/')"
   ],
   "metadata": {
    "collapsed": false,
    "ExecuteTime": {
     "end_time": "2023-12-23T08:46:34.092503Z",
     "start_time": "2023-12-23T08:46:32.130953Z"
    }
   },
   "id": "a61a2983f25e298d"
  },
  {
   "cell_type": "code",
   "execution_count": 61,
   "outputs": [
    {
     "data": {
      "text/plain": "['a/b', 'c/d', '/e']"
     },
     "execution_count": 61,
     "metadata": {},
     "output_type": "execute_result"
    }
   ],
   "source": [
    "split_string.split('//')"
   ],
   "metadata": {
    "collapsed": false,
    "ExecuteTime": {
     "end_time": "2023-12-23T08:46:34.147250Z",
     "start_time": "2023-12-23T08:46:32.136383Z"
    }
   },
   "id": "4db7a2d21709ef9a"
  },
  {
   "cell_type": "code",
   "execution_count": 62,
   "outputs": [
    {
     "data": {
      "text/plain": "'Groucho'"
     },
     "execution_count": 62,
     "metadata": {},
     "output_type": "execute_result"
    }
   ],
   "source": [
    "marxes = ['Groucho', 'Chico', 'Harpo']\n",
    "marxes[0]"
   ],
   "metadata": {
    "collapsed": false,
    "ExecuteTime": {
     "end_time": "2023-12-23T08:46:34.147677Z",
     "start_time": "2023-12-23T08:46:32.144467Z"
    }
   },
   "id": "e3a3e9e2a9b47c8"
  },
  {
   "cell_type": "code",
   "execution_count": 63,
   "outputs": [
    {
     "data": {
      "text/plain": "'Harpo'"
     },
     "execution_count": 63,
     "metadata": {},
     "output_type": "execute_result"
    }
   ],
   "source": [
    "marxes[-1]"
   ],
   "metadata": {
    "collapsed": false,
    "ExecuteTime": {
     "end_time": "2023-12-23T08:46:34.185421Z",
     "start_time": "2023-12-23T08:46:32.158920Z"
    }
   },
   "id": "15b215f49623170d"
  },
  {
   "cell_type": "code",
   "execution_count": 64,
   "outputs": [
    {
     "data": {
      "text/plain": "['Groucho', 'Chico']"
     },
     "execution_count": 64,
     "metadata": {},
     "output_type": "execute_result"
    }
   ],
   "source": [
    "marxes[0:2]"
   ],
   "metadata": {
    "collapsed": false,
    "ExecuteTime": {
     "end_time": "2023-12-23T08:46:34.225101Z",
     "start_time": "2023-12-23T08:46:32.164260Z"
    }
   },
   "id": "1391ce718ccee901"
  },
  {
   "cell_type": "markdown",
   "source": [
    "[start : end : step]"
   ],
   "metadata": {
    "collapsed": false
   },
   "id": "4ea3f83e293d0101"
  },
  {
   "cell_type": "code",
   "execution_count": 2,
   "outputs": [
    {
     "data": {
      "text/plain": "([9, 8], [9, 7, 5, 3, 1])"
     },
     "execution_count": 2,
     "metadata": {},
     "output_type": "execute_result"
    }
   ],
   "source": [
    "marxes_numbers = [9, 8, 7, 6, 5, 4, 3, 2, 1]\n",
    "marxes_numbers[0:2], marxes_numbers[::2]"
   ],
   "metadata": {
    "collapsed": false,
    "ExecuteTime": {
     "end_time": "2023-12-31T15:28:48.457290Z",
     "start_time": "2023-12-31T15:28:48.413128Z"
    }
   },
   "id": "4f6fac619a6ee62e"
  },
  {
   "cell_type": "code",
   "execution_count": 66,
   "outputs": [
    {
     "data": {
      "text/plain": "[1, 3, 5, 7, 9]"
     },
     "execution_count": 66,
     "metadata": {},
     "output_type": "execute_result"
    }
   ],
   "source": [
    "marxes_numbers[::-2]"
   ],
   "metadata": {
    "collapsed": false,
    "ExecuteTime": {
     "end_time": "2023-12-23T08:46:34.240926Z",
     "start_time": "2023-12-23T08:46:32.177346Z"
    }
   },
   "id": "4821a6e5df51114d"
  },
  {
   "cell_type": "code",
   "execution_count": 1,
   "outputs": [
    {
     "data": {
      "text/plain": "[1, 2, 3, 4, 5, 6, 7, 8, 9]"
     },
     "execution_count": 1,
     "metadata": {},
     "output_type": "execute_result"
    }
   ],
   "source": [
    "marxes_numbers = [9, 8, 7, 6, 5, 4, 3, 2, 1]\n",
    "marxes_numbers[::-1]\n",
    "#step为负数，反向"
   ],
   "metadata": {
    "collapsed": false,
    "ExecuteTime": {
     "end_time": "2023-12-31T15:27:18.516958Z",
     "start_time": "2023-12-31T15:27:18.504238Z"
    }
   },
   "id": "6ed1b16565e47075"
  },
  {
   "cell_type": "code",
   "execution_count": 68,
   "outputs": [
    {
     "data": {
      "text/plain": "[1, 2, 3, 4, 5, 6, 7, 8, 9]"
     },
     "execution_count": 68,
     "metadata": {},
     "output_type": "execute_result"
    }
   ],
   "source": [
    "marxes_numbers.reverse()\n",
    "marxes_numbers"
   ],
   "metadata": {
    "collapsed": false,
    "ExecuteTime": {
     "end_time": "2023-12-23T08:46:34.286896Z",
     "start_time": "2023-12-23T08:46:32.189817Z"
    }
   },
   "id": "448df4ab767be46d"
  },
  {
   "cell_type": "code",
   "execution_count": 69,
   "outputs": [
    {
     "data": {
      "text/plain": "[1, 2, 3, 4, 5, 6, 7]"
     },
     "execution_count": 69,
     "metadata": {},
     "output_type": "execute_result"
    }
   ],
   "source": [
    "marxes_numbers[:-2]"
   ],
   "metadata": {
    "collapsed": false,
    "ExecuteTime": {
     "end_time": "2023-12-23T08:46:34.332785Z",
     "start_time": "2023-12-23T08:46:32.196929Z"
    }
   },
   "id": "e85e38a26fc5082"
  },
  {
   "cell_type": "code",
   "execution_count": 70,
   "outputs": [
    {
     "data": {
      "text/plain": "[7, 8]"
     },
     "execution_count": 70,
     "metadata": {},
     "output_type": "execute_result"
    }
   ],
   "source": [
    "marxes_numbers[-3:-1]"
   ],
   "metadata": {
    "collapsed": false,
    "ExecuteTime": {
     "end_time": "2023-12-23T08:46:34.353251Z",
     "start_time": "2023-12-23T08:46:32.201871Z"
    }
   },
   "id": "fb3b7a411b7bbb1a"
  },
  {
   "cell_type": "markdown",
   "source": [
    "### 向列表中添加元素\n",
    "append      \n",
    "insert      "
   ],
   "metadata": {
    "collapsed": false
   },
   "id": "2282c406ac91d8c1"
  },
  {
   "cell_type": "code",
   "execution_count": 71,
   "outputs": [
    {
     "data": {
      "text/plain": "[1, 2, 3, 4]"
     },
     "execution_count": 71,
     "metadata": {},
     "output_type": "execute_result"
    }
   ],
   "source": [
    "marxes_append = [1, 2, 3]\n",
    "marxes_append.append(4)\n",
    "marxes_append"
   ],
   "metadata": {
    "collapsed": false,
    "ExecuteTime": {
     "end_time": "2023-12-23T08:46:34.383541Z",
     "start_time": "2023-12-23T08:46:32.209065Z"
    }
   },
   "id": "7cabe7773413c32a"
  },
  {
   "cell_type": "code",
   "execution_count": 72,
   "outputs": [
    {
     "data": {
      "text/plain": "[1, 4, 2, 3]"
     },
     "execution_count": 72,
     "metadata": {},
     "output_type": "execute_result"
    }
   ],
   "source": [
    "marxes_insert = [1, 2, 3]\n",
    "marxes_insert.insert(1, 4)\n",
    "marxes_insert"
   ],
   "metadata": {
    "collapsed": false,
    "ExecuteTime": {
     "end_time": "2023-12-23T08:46:34.498390Z",
     "start_time": "2023-12-23T08:46:32.216553Z"
    }
   },
   "id": "8250150398e13a9d"
  },
  {
   "cell_type": "code",
   "execution_count": 73,
   "outputs": [
    {
     "data": {
      "text/plain": "[1, 4, 2, 3, 4]"
     },
     "execution_count": 73,
     "metadata": {},
     "output_type": "execute_result"
    }
   ],
   "source": [
    "marxes_insert.insert(10, 4)\n",
    "marxes_insert"
   ],
   "metadata": {
    "collapsed": false,
    "ExecuteTime": {
     "end_time": "2023-12-23T08:46:34.613933Z",
     "start_time": "2023-12-23T08:46:32.223691Z"
    }
   },
   "id": "e6a85aaa8b5bedb7"
  },
  {
   "cell_type": "code",
   "execution_count": 74,
   "outputs": [
    {
     "data": {
      "text/plain": "[1, 1, 1]"
     },
     "execution_count": 74,
     "metadata": {},
     "output_type": "execute_result"
    }
   ],
   "source": [
    "[1] * 3"
   ],
   "metadata": {
    "collapsed": false,
    "ExecuteTime": {
     "end_time": "2023-12-23T08:46:34.614186Z",
     "start_time": "2023-12-23T08:46:32.231497Z"
    }
   },
   "id": "9baa06b38e3a6303"
  },
  {
   "cell_type": "markdown",
   "source": [
    "### 合并列表\n",
    "extend()        \n",
    "+       "
   ],
   "metadata": {
    "collapsed": false
   },
   "id": "430084360c37cfe8"
  },
  {
   "cell_type": "code",
   "execution_count": 75,
   "outputs": [
    {
     "data": {
      "text/plain": "['Groucho', 'Chico', 'Harpo', 'Zeppo', 'Gummo', 'Karl']"
     },
     "execution_count": 75,
     "metadata": {},
     "output_type": "execute_result"
    }
   ],
   "source": [
    "list00 = ['Groucho', 'Chico', 'Harpo', 'Zeppo']\n",
    "list01 = ['Gummo', 'Karl']\n",
    "list00.extend(list01)\n",
    "list00"
   ],
   "metadata": {
    "collapsed": false
   },
   "id": "88a114e28777e617"
  },
  {
   "cell_type": "code",
   "execution_count": 76,
   "outputs": [
    {
     "data": {
      "text/plain": "['Gummo', 'Karl', 'Groucho', 'Chico', 'Harpo', 'Zeppo']"
     },
     "execution_count": 76,
     "metadata": {},
     "output_type": "execute_result"
    }
   ],
   "source": [
    "list00 = ['Groucho', 'Chico', 'Harpo', 'Zeppo']\n",
    "list01 = ['Gummo', 'Karl']\n",
    "list00 = list01 + list00\n",
    "#list00 = list00 + list01\n",
    "#list00.reverse()\n",
    "list00"
   ],
   "metadata": {
    "collapsed": false,
    "ExecuteTime": {
     "end_time": "2023-12-23T08:46:34.684917Z",
     "start_time": "2023-12-23T08:46:32.269307Z"
    }
   },
   "id": "381decc8d79fd538"
  },
  {
   "cell_type": "code",
   "execution_count": 77,
   "outputs": [
    {
     "data": {
      "text/plain": "['Groucho', 'Chico', 'Harpo', 'Zeppo', ['Gummo', 'Karl']]"
     },
     "execution_count": 77,
     "metadata": {},
     "output_type": "execute_result"
    }
   ],
   "source": [
    "list00 = ['Groucho', 'Chico', 'Harpo', 'Zeppo']\n",
    "list01 = ['Gummo', 'Karl']\n",
    "list00.append(list01)\n",
    "list00"
   ],
   "metadata": {
    "collapsed": false,
    "ExecuteTime": {
     "end_time": "2023-12-23T08:46:34.685242Z",
     "start_time": "2023-12-23T08:46:32.269583Z"
    }
   },
   "id": "52e4590acfeb236f"
  },
  {
   "cell_type": "markdown",
   "source": [
    "### 修改数组元素"
   ],
   "metadata": {
    "collapsed": false
   },
   "id": "8b27b3b51be93316"
  },
  {
   "cell_type": "code",
   "execution_count": 78,
   "outputs": [
    {
     "data": {
      "text/plain": "[1, 4, 5, 4]"
     },
     "execution_count": 78,
     "metadata": {},
     "output_type": "execute_result"
    }
   ],
   "source": [
    "numbers = [1, 2, 3, 4]\n",
    "numbers[1:3] = [4, 5]\n",
    "numbers"
   ],
   "metadata": {
    "collapsed": false,
    "ExecuteTime": {
     "end_time": "2023-12-23T08:46:34.685538Z",
     "start_time": "2023-12-23T08:46:32.269830Z"
    }
   },
   "id": "89419aeb0b448511"
  },
  {
   "cell_type": "code",
   "execution_count": 79,
   "outputs": [
    {
     "data": {
      "text/plain": "[1, 4, 5, 6, 4]"
     },
     "execution_count": 79,
     "metadata": {},
     "output_type": "execute_result"
    }
   ],
   "source": [
    "numbers = [1, 2, 3, 4]\n",
    "numbers[1:3] = [4, 5, 6]\n",
    "numbers"
   ],
   "metadata": {
    "collapsed": false,
    "ExecuteTime": {
     "end_time": "2023-12-23T08:46:34.702016Z",
     "start_time": "2023-12-23T08:46:32.278653Z"
    }
   },
   "id": "2ebdf9662dbaea9"
  },
  {
   "cell_type": "code",
   "execution_count": 80,
   "outputs": [
    {
     "data": {
      "text/plain": "[1, 'w', 'a', 't', '?', 4]"
     },
     "execution_count": 80,
     "metadata": {},
     "output_type": "execute_result"
    }
   ],
   "source": [
    "numbers = [1, 2, 3, 4]\n",
    "numbers[1:3] = 'wat?'\n",
    "numbers"
   ],
   "metadata": {
    "collapsed": false,
    "ExecuteTime": {
     "end_time": "2023-12-23T08:46:34.703662Z",
     "start_time": "2023-12-23T08:46:32.285431Z"
    }
   },
   "id": "7817b2998a93dc05"
  },
  {
   "cell_type": "markdown",
   "source": [
    "### 删除列表中的元素 \n",
    "del()\n",
    "remove()"
   ],
   "metadata": {
    "collapsed": false
   },
   "id": "eef85d69735cc6bc"
  },
  {
   "cell_type": "code",
   "execution_count": 81,
   "outputs": [
    {
     "data": {
      "text/plain": "['Groucho', 'Chico', 'Harpo', 'Gummo']"
     },
     "execution_count": 81,
     "metadata": {},
     "output_type": "execute_result"
    }
   ],
   "source": [
    "marxes = ['Groucho', 'Chico', 'Harpo', 'Gummo', 'Karl']\n",
    "del marxes[-1]\n",
    "marxes"
   ],
   "metadata": {
    "collapsed": false,
    "ExecuteTime": {
     "end_time": "2023-12-23T08:46:34.703970Z",
     "start_time": "2023-12-23T08:46:32.292120Z"
    }
   },
   "id": "966af742d764a8c2"
  },
  {
   "cell_type": "code",
   "execution_count": 82,
   "outputs": [
    {
     "data": {
      "text/plain": "['Groucho', 'Chico', 'Harpo', 'Gummo']"
     },
     "execution_count": 82,
     "metadata": {},
     "output_type": "execute_result"
    }
   ],
   "source": [
    "marxes = ['Groucho', 'Chico', 'Harpo', 'Gummo', 'Karl']\n",
    "marxes.remove('Karl')\n",
    "marxes"
   ],
   "metadata": {
    "collapsed": false,
    "ExecuteTime": {
     "end_time": "2023-12-23T08:46:34.713842Z",
     "start_time": "2023-12-23T08:46:32.299651Z"
    }
   },
   "id": "9d1741322c29dec4"
  },
  {
   "cell_type": "markdown",
   "source": [
    "### 获取列表中的一个元素，并将它从列表中删除\n",
    "pop()"
   ],
   "metadata": {
    "collapsed": false
   },
   "id": "6b742a8d5e919add"
  },
  {
   "cell_type": "code",
   "execution_count": 83,
   "outputs": [
    {
     "data": {
      "text/plain": "'Zeppo'"
     },
     "execution_count": 83,
     "metadata": {},
     "output_type": "execute_result"
    }
   ],
   "source": [
    "marexs_pop = ['Groucho', 'Chico', 'Harpo', 'Zeppo']\n",
    "marexs_pop.pop()"
   ],
   "metadata": {
    "collapsed": false,
    "ExecuteTime": {
     "end_time": "2023-12-23T08:46:34.714433Z",
     "start_time": "2023-12-23T08:46:32.309295Z"
    }
   },
   "id": "ab73bb6565db7a0c"
  },
  {
   "cell_type": "code",
   "execution_count": 84,
   "outputs": [
    {
     "data": {
      "text/plain": "['Groucho', 'Chico', 'Harpo']"
     },
     "execution_count": 84,
     "metadata": {},
     "output_type": "execute_result"
    }
   ],
   "source": [
    "marexs_pop"
   ],
   "metadata": {
    "collapsed": false,
    "ExecuteTime": {
     "end_time": "2023-12-23T08:46:34.714711Z",
     "start_time": "2023-12-23T08:46:32.315254Z"
    }
   },
   "id": "5d4625d579c91456"
  },
  {
   "cell_type": "code",
   "execution_count": 85,
   "outputs": [
    {
     "data": {
      "text/plain": "'Chico'"
     },
     "execution_count": 85,
     "metadata": {},
     "output_type": "execute_result"
    }
   ],
   "source": [
    "marexs_pop.pop(1)"
   ],
   "metadata": {
    "collapsed": false,
    "ExecuteTime": {
     "end_time": "2023-12-23T08:46:34.714980Z",
     "start_time": "2023-12-23T08:46:32.321593Z"
    }
   },
   "id": "2159dfafa8313543"
  },
  {
   "cell_type": "code",
   "execution_count": 86,
   "outputs": [
    {
     "data": {
      "text/plain": "['Groucho', 'Harpo']"
     },
     "execution_count": 86,
     "metadata": {},
     "output_type": "execute_result"
    }
   ],
   "source": [
    "marexs_pop"
   ],
   "metadata": {
    "collapsed": false,
    "ExecuteTime": {
     "end_time": "2023-12-23T08:46:34.715686Z",
     "start_time": "2023-12-23T08:46:32.329027Z"
    }
   },
   "id": "5848fdc753c6ea2"
  },
  {
   "cell_type": "markdown",
   "source": [
    "### 清空列表\n",
    "clear()"
   ],
   "metadata": {
    "collapsed": false
   },
   "id": "d9587687f4d8fdc4"
  },
  {
   "cell_type": "code",
   "execution_count": 87,
   "outputs": [
    {
     "data": {
      "text/plain": "['Working hard?', 'Quick question!', 'Number one priorities!']"
     },
     "execution_count": 87,
     "metadata": {},
     "output_type": "execute_result"
    }
   ],
   "source": [
    "work_list_clear = ['Working hard?', 'Quick question!', 'Number one priorities!']\n",
    "work_list_clear"
   ],
   "metadata": {
    "collapsed": false,
    "ExecuteTime": {
     "end_time": "2023-12-23T08:46:34.716066Z",
     "start_time": "2023-12-23T08:46:32.346593Z"
    }
   },
   "id": "9d905c999835c12b"
  },
  {
   "cell_type": "code",
   "execution_count": 88,
   "outputs": [
    {
     "data": {
      "text/plain": "[]"
     },
     "execution_count": 88,
     "metadata": {},
     "output_type": "execute_result"
    }
   ],
   "source": [
    "work_list_clear.clear()\n",
    "work_list_clear"
   ],
   "metadata": {
    "collapsed": false,
    "ExecuteTime": {
     "end_time": "2023-12-23T08:46:34.716335Z",
     "start_time": "2023-12-23T08:46:32.356032Z"
    }
   },
   "id": "45e56c93efa871ee"
  },
  {
   "cell_type": "markdown",
   "source": [
    "### 获取列表中元素的位置\n",
    "index()"
   ],
   "metadata": {
    "collapsed": false
   },
   "id": "2b2bc30727ef061b"
  },
  {
   "cell_type": "code",
   "execution_count": 89,
   "outputs": [
    {
     "data": {
      "text/plain": "1"
     },
     "execution_count": 89,
     "metadata": {},
     "output_type": "execute_result"
    }
   ],
   "source": [
    "marxes_index = ['Groucho', 'Chico', 'Harpo', 'Zeppo']\n",
    "marxes_index.index('Chico')"
   ],
   "metadata": {
    "collapsed": false,
    "ExecuteTime": {
     "end_time": "2023-12-23T08:46:34.716648Z",
     "start_time": "2023-12-23T08:46:32.367759Z"
    }
   },
   "id": "55cf76bbb762ba3d"
  },
  {
   "cell_type": "code",
   "execution_count": 90,
   "outputs": [
    {
     "data": {
      "text/plain": "True"
     },
     "execution_count": 90,
     "metadata": {},
     "output_type": "execute_result"
    }
   ],
   "source": [
    "'Chico' in marxes_index"
   ],
   "metadata": {
    "collapsed": false,
    "ExecuteTime": {
     "end_time": "2023-12-23T08:46:34.717209Z",
     "start_time": "2023-12-23T08:46:32.382014Z"
    }
   },
   "id": "24723a4e91950bdc"
  },
  {
   "cell_type": "markdown",
   "source": [
    "### 统计列表中元素的个数\n",
    "count()"
   ],
   "metadata": {
    "collapsed": false
   },
   "id": "e0f152306d08bcfe"
  },
  {
   "cell_type": "code",
   "execution_count": 91,
   "outputs": [
    {
     "data": {
      "text/plain": "1"
     },
     "execution_count": 91,
     "metadata": {},
     "output_type": "execute_result"
    }
   ],
   "source": [
    "list_count = ['a', 'd', 'b', 'c', 'd']\n",
    "list_count.count('a')"
   ],
   "metadata": {
    "collapsed": false,
    "ExecuteTime": {
     "end_time": "2023-12-23T08:46:34.717546Z",
     "start_time": "2023-12-23T08:46:32.388888Z"
    }
   },
   "id": "94ed93cc98a9b725"
  },
  {
   "cell_type": "code",
   "execution_count": 92,
   "outputs": [
    {
     "data": {
      "text/plain": "2"
     },
     "execution_count": 92,
     "metadata": {},
     "output_type": "execute_result"
    }
   ],
   "source": [
    "list_count = ['a', 'd', 'b', 'c', 'd']\n",
    "list_count.count('d')"
   ],
   "metadata": {
    "collapsed": false,
    "ExecuteTime": {
     "end_time": "2023-12-23T08:46:34.717777Z",
     "start_time": "2023-12-23T08:46:32.401518Z"
    }
   },
   "id": "654e5bfdac93044f"
  },
  {
   "cell_type": "markdown",
   "source": [
    "### [列表]与[字符串]相互转换 join()  split()  "
   ],
   "metadata": {
    "collapsed": false
   },
   "id": "6af349342111900d"
  },
  {
   "cell_type": "code",
   "execution_count": 93,
   "outputs": [
    {
     "data": {
      "text/plain": "'Groucho.Chico.Harpo'"
     },
     "execution_count": 93,
     "metadata": {},
     "output_type": "execute_result"
    }
   ],
   "source": [
    "marxes = ['Groucho', 'Chico', 'Harpo']\n",
    "marxes_joined = \".\".join(marxes)\n",
    "marxes_joined"
   ],
   "metadata": {
    "collapsed": false,
    "ExecuteTime": {
     "end_time": "2023-12-23T08:46:34.731565Z",
     "start_time": "2023-12-23T08:46:32.416239Z"
    }
   },
   "id": "490847e70fc2947d"
  },
  {
   "cell_type": "code",
   "execution_count": 94,
   "outputs": [
    {
     "data": {
      "text/plain": "['Groucho', 'Chico', 'Harpo']"
     },
     "execution_count": 94,
     "metadata": {},
     "output_type": "execute_result"
    }
   ],
   "source": [
    "marxes_splited = marxes_joined.split('.')\n",
    "marxes_splited"
   ],
   "metadata": {
    "collapsed": false,
    "ExecuteTime": {
     "end_time": "2023-12-23T08:46:34.737730Z",
     "start_time": "2023-12-23T08:46:32.422769Z"
    }
   },
   "id": "f9716391709ff8c7"
  },
  {
   "cell_type": "code",
   "execution_count": 95,
   "outputs": [
    {
     "data": {
      "text/plain": "True"
     },
     "execution_count": 95,
     "metadata": {},
     "output_type": "execute_result"
    }
   ],
   "source": [
    "marxes == marxes_splited"
   ],
   "metadata": {
    "collapsed": false,
    "ExecuteTime": {
     "end_time": "2023-12-23T08:46:34.738151Z",
     "start_time": "2023-12-23T08:46:32.431435Z"
    }
   },
   "id": "ef3ae9c6ed57028a"
  },
  {
   "cell_type": "markdown",
   "source": [
    "### 排序 sort()  sorted()  \n",
    "sort()：将原列表排序并返回        \n",
    "sorted()：将原列表复制，将列表的复本排序并返回,原列表的排序不变            \n",
    "list_A.sort()           \n",
    "sorted(list_B)          "
   ],
   "metadata": {
    "collapsed": false
   },
   "id": "c9a177ffe1ea4ed0"
  },
  {
   "cell_type": "code",
   "execution_count": 96,
   "outputs": [
    {
     "data": {
      "text/plain": "[1, 2, 2, 3, 3, 5, 7, 45]"
     },
     "execution_count": 96,
     "metadata": {},
     "output_type": "execute_result"
    }
   ],
   "source": [
    "marxes_num = [5, 3, 2, 7, 45, 3, 2, 1]\n",
    "marxes_num.sort()\n",
    "marxes_num"
   ],
   "metadata": {
    "collapsed": false,
    "ExecuteTime": {
     "end_time": "2023-12-23T08:46:34.738437Z",
     "start_time": "2023-12-23T08:46:32.439142Z"
    }
   },
   "id": "b3643d1504b2018b"
  },
  {
   "cell_type": "code",
   "execution_count": 97,
   "outputs": [
    {
     "data": {
      "text/plain": "([1, 2, 2, 3, 3, 5, 7, 45], [5, 3, 2, 7, 45, 3, 2, 1])"
     },
     "execution_count": 97,
     "metadata": {},
     "output_type": "execute_result"
    }
   ],
   "source": [
    "marxes_num = [5, 3, 2, 7, 45, 3, 2, 1]\n",
    "marxes_num_sorted = sorted(marxes_num)\n",
    "marxes_num_sorted, marxes_num"
   ],
   "metadata": {
    "collapsed": false,
    "ExecuteTime": {
     "end_time": "2023-12-23T08:46:34.738716Z",
     "start_time": "2023-12-23T08:46:32.461122Z"
    }
   },
   "id": "5d49159e404bf4ab"
  },
  {
   "cell_type": "markdown",
   "source": [
    "### 获取列表长度 len()"
   ],
   "metadata": {
    "collapsed": false
   },
   "id": "569261af7bf2828b"
  },
  {
   "cell_type": "code",
   "execution_count": 98,
   "outputs": [
    {
     "data": {
      "text/plain": "9"
     },
     "execution_count": 98,
     "metadata": {},
     "output_type": "execute_result"
    }
   ],
   "source": [
    "marxes_len = [1, 2, 3, 4, 5, 6, 7, 8, 9]\n",
    "marxesLen = len(marxes_len)\n",
    "marxesLen"
   ],
   "metadata": {
    "collapsed": false,
    "ExecuteTime": {
     "end_time": "2023-12-23T08:46:34.739914Z",
     "start_time": "2023-12-23T08:46:32.468919Z"
    }
   },
   "id": "8008b226e403780d"
  },
  {
   "cell_type": "code",
   "execution_count": 99,
   "outputs": [
    {
     "data": {
      "text/plain": "(['surprise', 2, 3], ['surprise', 2, 3])"
     },
     "execution_count": 99,
     "metadata": {},
     "output_type": "execute_result"
    }
   ],
   "source": [
    "a = [1, 2, 3]\n",
    "b = a\n",
    "a[0] = 'surprise'\n",
    "b, a"
   ],
   "metadata": {
    "collapsed": false,
    "ExecuteTime": {
     "end_time": "2023-12-23T08:46:34.741129Z",
     "start_time": "2023-12-23T08:46:32.479288Z"
    }
   },
   "id": "93d6ea33b383b177"
  },
  {
   "cell_type": "markdown",
   "source": [
    "### 复制列表 copy(), list(), [:]"
   ],
   "metadata": {
    "collapsed": false
   },
   "id": "34d26d3340f8cb57"
  },
  {
   "cell_type": "code",
   "execution_count": 100,
   "outputs": [
    {
     "data": {
      "text/plain": "(['boring', 2, 3], [1, 2, 3], [1, 2, 3], [1, 2, 3])"
     },
     "execution_count": 100,
     "metadata": {},
     "output_type": "execute_result"
    }
   ],
   "source": [
    "a = [1, 2, 3]\n",
    "b = a.copy()\n",
    "c = list(a)\n",
    "d = a[:]\n",
    "a[0] = \"boring\"\n",
    "a, b, c, d"
   ],
   "metadata": {
    "collapsed": false,
    "ExecuteTime": {
     "end_time": "2023-12-23T08:46:34.741620Z",
     "start_time": "2023-12-23T08:46:32.488191Z"
    }
   },
   "id": "c61837cb7c0bb9f5"
  },
  {
   "cell_type": "code",
   "execution_count": 101,
   "outputs": [
    {
     "data": {
      "text/plain": "(['boring', 2, 3], ['boring', 2, 3], ['boring', 2, 3], ['boring', 2, 3])"
     },
     "execution_count": 101,
     "metadata": {},
     "output_type": "execute_result"
    }
   ],
   "source": [
    "a = [1, 2, 3]\n",
    "b = a\n",
    "c = a\n",
    "d = a\n",
    "a[0] = \"boring\"\n",
    "a, b, c, d"
   ],
   "metadata": {
    "collapsed": false,
    "ExecuteTime": {
     "end_time": "2023-12-23T08:46:34.742189Z",
     "start_time": "2023-12-23T08:46:32.497231Z"
    }
   },
   "id": "f4590ff7a0161a81"
  },
  {
   "cell_type": "markdown",
   "source": [
    "### 深拷贝 deepcopy()"
   ],
   "metadata": {
    "collapsed": false
   },
   "id": "a59b023dcedfe97f"
  },
  {
   "cell_type": "code",
   "execution_count": 102,
   "outputs": [
    {
     "data": {
      "text/plain": "([1, 2, [8, 10]], [1, 2, [8, 9]])"
     },
     "execution_count": 102,
     "metadata": {},
     "output_type": "execute_result"
    }
   ],
   "source": [
    "import copy\n",
    "\n",
    "# 深拷贝\n",
    "a = [1, 2, [8, 9]]\n",
    "b = copy.deepcopy(a)\n",
    "a[2][1] = 10\n",
    "a, b"
   ],
   "metadata": {
    "collapsed": false,
    "ExecuteTime": {
     "end_time": "2023-12-23T08:46:34.745230Z",
     "start_time": "2023-12-23T08:46:32.504110Z"
    }
   },
   "id": "357a287c99015727"
  },
  {
   "cell_type": "code",
   "execution_count": 103,
   "outputs": [
    {
     "data": {
      "text/plain": "([1, 2, [8, 10]], [1, 2, [8, 10]])"
     },
     "execution_count": 103,
     "metadata": {},
     "output_type": "execute_result"
    }
   ],
   "source": [
    "a = [1, 2, [8, 9]]\n",
    "b = a.copy()  #浅拷贝\n",
    "a[2][1] = 10\n",
    "a, b"
   ],
   "metadata": {
    "collapsed": false,
    "ExecuteTime": {
     "end_time": "2023-12-23T08:46:34.745753Z",
     "start_time": "2023-12-23T08:46:32.517506Z"
    }
   },
   "id": "d7e3892c5302a607"
  },
  {
   "cell_type": "markdown",
   "source": [
    "### 迭代多个列表 zip()"
   ],
   "metadata": {
    "collapsed": false
   },
   "id": "b290a67526b90cfb"
  },
  {
   "cell_type": "code",
   "execution_count": 104,
   "outputs": [
    {
     "name": "stdout",
     "output_type": "stream",
     "text": [
      "Monday : drink coffee - eat banana - enjoy tiramisu\n",
      "Tuesday : drink tea - eat orange - enjoy ice cream\n",
      "Wednesday : drink beer - eat peach - enjoy pie\n"
     ]
    }
   ],
   "source": [
    "days = ['Monday', 'Tuesday', 'Wednesday']\n",
    "fruits = ['banana', 'orange', 'peach']\n",
    "drinks = ['coffee', 'tea', 'beer']\n",
    "desserts = ['tiramisu', 'ice cream', 'pie', 'pudding']\n",
    "for day, fruit, drink, dessert in zip(days, fruits, drinks, desserts):\n",
    "    print(day, ': drink', drink, '- eat', fruit, '- enjoy', dessert)"
   ],
   "metadata": {
    "collapsed": false,
    "ExecuteTime": {
     "end_time": "2023-12-23T08:46:34.746217Z",
     "start_time": "2023-12-23T08:46:32.525709Z"
    }
   },
   "id": "a75cb89559974b60"
  },
  {
   "cell_type": "code",
   "execution_count": 105,
   "outputs": [
    {
     "data": {
      "text/plain": "[('Monday', 'Mardi'), ('Tuesday', 'Lundi'), ('Wednesday', 'Mercredi')]"
     },
     "execution_count": 105,
     "metadata": {},
     "output_type": "execute_result"
    }
   ],
   "source": [
    "english = {'Monday', 'Tuesday', \"Wednesday\"}\n",
    "french = {'Lundi', 'Mardi', 'Mercredi'}\n",
    "list(zip(english, french))"
   ],
   "metadata": {
    "collapsed": false,
    "ExecuteTime": {
     "end_time": "2023-12-23T08:46:34.746748Z",
     "start_time": "2023-12-23T08:46:32.537544Z"
    }
   },
   "id": "ea48159862cab79d"
  },
  {
   "cell_type": "markdown",
   "source": [
    "### 新建列表"
   ],
   "metadata": {
    "collapsed": false
   },
   "id": "8589fc4b6a0f00a1"
  },
  {
   "cell_type": "code",
   "execution_count": 106,
   "outputs": [
    {
     "data": {
      "text/plain": "[1, 2, 3, 4, 5]"
     },
     "execution_count": 106,
     "metadata": {},
     "output_type": "execute_result"
    }
   ],
   "source": [
    "number_list = []\n",
    "number_list.append(1)\n",
    "number_list.append(2)\n",
    "number_list.append(3)\n",
    "number_list.append(4)\n",
    "number_list.append(5)\n",
    "number_list"
   ],
   "metadata": {
    "collapsed": false,
    "ExecuteTime": {
     "end_time": "2023-12-23T08:46:34.747101Z",
     "start_time": "2023-12-23T08:46:32.548777Z"
    }
   },
   "id": "949a483ca4b87550"
  },
  {
   "cell_type": "code",
   "execution_count": 107,
   "outputs": [
    {
     "data": {
      "text/plain": "[1, 2, 3, 4, 5]"
     },
     "execution_count": 107,
     "metadata": {},
     "output_type": "execute_result"
    }
   ],
   "source": [
    "number_list = []\n",
    "for number in range(1, 6):\n",
    "    number_list.append(number)\n",
    "number_list"
   ],
   "metadata": {
    "collapsed": false,
    "ExecuteTime": {
     "end_time": "2023-12-23T08:46:34.747417Z",
     "start_time": "2023-12-23T08:46:32.554919Z"
    }
   },
   "id": "50fe420b71d1dbc4"
  },
  {
   "cell_type": "code",
   "execution_count": 108,
   "outputs": [
    {
     "data": {
      "text/plain": "[1, 2, 3, 4, 5]"
     },
     "execution_count": 108,
     "metadata": {},
     "output_type": "execute_result"
    }
   ],
   "source": [
    "number_list = list(range(1, 6))\n",
    "number_list"
   ],
   "metadata": {
    "collapsed": false,
    "ExecuteTime": {
     "end_time": "2023-12-23T08:46:34.747635Z",
     "start_time": "2023-12-23T08:46:32.567661Z"
    }
   },
   "id": "3b52e57d41ffaa91"
  },
  {
   "cell_type": "code",
   "execution_count": 109,
   "outputs": [
    {
     "data": {
      "text/plain": "[1, 2, 3, 4, 5]"
     },
     "execution_count": 109,
     "metadata": {},
     "output_type": "execute_result"
    }
   ],
   "source": [
    "number_list = [number for number in range(1, 6)]\n",
    "number_list"
   ],
   "metadata": {
    "collapsed": false,
    "ExecuteTime": {
     "end_time": "2023-12-23T08:46:34.747840Z",
     "start_time": "2023-12-23T08:46:32.577030Z"
    }
   },
   "id": "4ed28b5bc2c39600"
  },
  {
   "cell_type": "code",
   "execution_count": 110,
   "outputs": [
    {
     "data": {
      "text/plain": "[0, 1, 2, 3, 4]"
     },
     "execution_count": 110,
     "metadata": {},
     "output_type": "execute_result"
    }
   ],
   "source": [
    "number_list = [number - 1 for number in range(1, 6)]\n",
    "number_list"
   ],
   "metadata": {
    "collapsed": false,
    "ExecuteTime": {
     "end_time": "2023-12-23T08:46:34.748108Z",
     "start_time": "2023-12-23T08:46:32.583685Z"
    }
   },
   "id": "5322b33aa2abd608"
  },
  {
   "cell_type": "code",
   "execution_count": 111,
   "outputs": [
    {
     "data": {
      "text/plain": "[1, 3, 5]"
     },
     "execution_count": 111,
     "metadata": {},
     "output_type": "execute_result"
    }
   ],
   "source": [
    "a_list = [number for number in range(1, 6) if number % 2 == 1]\n",
    "a_list"
   ],
   "metadata": {
    "collapsed": false,
    "ExecuteTime": {
     "end_time": "2023-12-23T08:46:34.748869Z",
     "start_time": "2023-12-23T08:46:32.595085Z"
    }
   },
   "id": "480269cd70e0a3ea"
  },
  {
   "cell_type": "code",
   "execution_count": 112,
   "outputs": [
    {
     "data": {
      "text/plain": "[1, 3, 5]"
     },
     "execution_count": 112,
     "metadata": {},
     "output_type": "execute_result"
    }
   ],
   "source": [
    "a_list = []\n",
    "for number in range(1, 6):\n",
    "    if number % 2 == 1:\n",
    "        a_list.append(number)\n",
    "a_list"
   ],
   "metadata": {
    "collapsed": false,
    "ExecuteTime": {
     "end_time": "2023-12-23T08:46:34.749155Z",
     "start_time": "2023-12-23T08:46:32.601895Z"
    }
   },
   "id": "e8732afc0cfe3421"
  },
  {
   "cell_type": "code",
   "execution_count": 113,
   "outputs": [
    {
     "name": "stdout",
     "output_type": "stream",
     "text": [
      "1 1\n",
      "1 2\n",
      "2 1\n",
      "2 2\n",
      "3 1\n",
      "3 2\n"
     ]
    }
   ],
   "source": [
    "rows = range(1, 4)\n",
    "cols = range(1, 3)\n",
    "for row in rows:\n",
    "    for col in cols:\n",
    "        print(row, col)"
   ],
   "metadata": {
    "collapsed": false,
    "ExecuteTime": {
     "end_time": "2023-12-23T08:46:34.749371Z",
     "start_time": "2023-12-23T08:46:32.609730Z"
    }
   },
   "id": "77d9f47f2e51bc8c"
  },
  {
   "cell_type": "code",
   "execution_count": 114,
   "outputs": [
    {
     "name": "stdout",
     "output_type": "stream",
     "text": [
      "(1, 1)\n",
      "(1, 2)\n",
      "(2, 1)\n",
      "(2, 2)\n",
      "(3, 1)\n",
      "(3, 2)\n"
     ]
    }
   ],
   "source": [
    "rows = range(1, 4)\n",
    "cols = range(1, 3)\n",
    "cells = [(row, col) for row in rows for col in cols]\n",
    "for cell in cells:\n",
    "    print(cell)"
   ],
   "metadata": {
    "collapsed": false,
    "ExecuteTime": {
     "end_time": "2023-12-23T08:46:34.749564Z",
     "start_time": "2023-12-23T08:46:32.619945Z"
    }
   },
   "id": "75ac12f1d00cbaf6"
  },
  {
   "cell_type": "code",
   "execution_count": 115,
   "outputs": [
    {
     "name": "stdout",
     "output_type": "stream",
     "text": [
      "(1, 1)\n",
      "(1, 3)\n",
      "(1, 5)\n",
      "(1, 7)\n",
      "(3, 1)\n",
      "(3, 3)\n",
      "(3, 5)\n",
      "(3, 7)\n",
      "(5, 1)\n",
      "(5, 3)\n",
      "(5, 5)\n",
      "(5, 7)\n",
      "(7, 1)\n",
      "(7, 3)\n",
      "(7, 5)\n",
      "(7, 7)\n",
      "(9, 1)\n",
      "(9, 3)\n",
      "(9, 5)\n",
      "(9, 7)\n"
     ]
    }
   ],
   "source": [
    "rows = range(1, 10)\n",
    "cols = range(1, 9)\n",
    "cells = [(row, col) for row in rows for col in cols if row % 2 == 1 if col % 2 == 1]\n",
    "for cell in cells:\n",
    "    print(cell)"
   ],
   "metadata": {
    "collapsed": false,
    "ExecuteTime": {
     "end_time": "2023-12-23T08:46:34.749752Z",
     "start_time": "2023-12-23T08:46:32.628337Z"
    }
   },
   "id": "9f1aded89cbfdec8"
  },
  {
   "cell_type": "code",
   "execution_count": 116,
   "outputs": [
    {
     "name": "stdout",
     "output_type": "stream",
     "text": [
      "1 1\n",
      "1 3\n",
      "1 5\n",
      "1 7\n",
      "3 1\n",
      "3 3\n",
      "3 5\n",
      "3 7\n",
      "5 1\n",
      "5 3\n",
      "5 5\n",
      "5 7\n",
      "7 1\n",
      "7 3\n",
      "7 5\n",
      "7 7\n",
      "9 1\n",
      "9 3\n",
      "9 5\n",
      "9 7\n"
     ]
    }
   ],
   "source": [
    "for row, col in cells:\n",
    "    print(row, col)"
   ],
   "metadata": {
    "collapsed": false,
    "ExecuteTime": {
     "end_time": "2023-12-23T08:46:34.750034Z",
     "start_time": "2023-12-23T08:46:32.636529Z"
    }
   },
   "id": "c201cb4238a769d3"
  },
  {
   "cell_type": "markdown",
   "source": [
    "### 列表嵌套列表"
   ],
   "metadata": {
    "collapsed": false
   },
   "id": "eab5cbf5913f1c92"
  },
  {
   "cell_type": "code",
   "execution_count": 117,
   "outputs": [
    {
     "data": {
      "text/plain": "[['hummingbrid', 'finch'],\n ['dodo', 'passenger pieon', 'Norwegian Blue'],\n 'macaw',\n [3, 'French hens', 2, 'turtledoves']]"
     },
     "execution_count": 117,
     "metadata": {},
     "output_type": "execute_result"
    }
   ],
   "source": [
    "small_birds = ['hummingbrid', 'finch']\n",
    "extinct_birds = ['dodo', 'passenger pieon', 'Norwegian Blue']\n",
    "carol_birds = [3, 'French hens', 2, 'turtledoves']\n",
    "all_birds = [small_birds, extinct_birds, 'macaw', carol_birds]\n",
    "all_birds"
   ],
   "metadata": {
    "collapsed": false,
    "ExecuteTime": {
     "end_time": "2023-12-23T08:46:34.750680Z",
     "start_time": "2023-12-23T08:46:32.645721Z"
    }
   },
   "id": "6c87e0be9a2515e4"
  },
  {
   "cell_type": "code",
   "execution_count": 118,
   "outputs": [
    {
     "data": {
      "text/plain": "['hummingbrid', 'finch']"
     },
     "execution_count": 118,
     "metadata": {},
     "output_type": "execute_result"
    }
   ],
   "source": [
    "all_birds[0]"
   ],
   "metadata": {
    "collapsed": false,
    "ExecuteTime": {
     "end_time": "2023-12-23T08:46:34.751046Z",
     "start_time": "2023-12-23T08:46:32.651840Z"
    }
   },
   "id": "2d24ffba0e1fc2ec"
  },
  {
   "cell_type": "code",
   "execution_count": 119,
   "outputs": [
    {
     "data": {
      "text/plain": "'finch'"
     },
     "execution_count": 119,
     "metadata": {},
     "output_type": "execute_result"
    }
   ],
   "source": [
    "all_birds[0][1]"
   ],
   "metadata": {
    "collapsed": false,
    "ExecuteTime": {
     "end_time": "2023-12-23T08:46:34.751296Z",
     "start_time": "2023-12-23T08:46:32.665016Z"
    }
   },
   "id": "6a6320a15237889f"
  },
  {
   "cell_type": "code",
   "execution_count": 120,
   "outputs": [
    {
     "data": {
      "text/plain": "(<generator object <genexpr> at 0x112834a00>, generator)"
     },
     "execution_count": 120,
     "metadata": {},
     "output_type": "execute_result"
    }
   ],
   "source": [
    "number_thing = (number for number in range(1, 6))\n",
    "number_thing, type(number_thing)"
   ],
   "metadata": {
    "collapsed": false,
    "ExecuteTime": {
     "end_time": "2023-12-23T08:46:34.751499Z",
     "start_time": "2023-12-23T08:46:32.673313Z"
    }
   },
   "id": "4cad88cd05d2be71"
  }
 ],
 "metadata": {
  "kernelspec": {
   "display_name": "Python 3",
   "language": "python",
   "name": "python3"
  },
  "language_info": {
   "codemirror_mode": {
    "name": "ipython",
    "version": 2
   },
   "file_extension": ".py",
   "mimetype": "text/x-python",
   "name": "python",
   "nbconvert_exporter": "python",
   "pygments_lexer": "ipython2",
   "version": "2.7.6"
  }
 },
 "nbformat": 4,
 "nbformat_minor": 5
}
