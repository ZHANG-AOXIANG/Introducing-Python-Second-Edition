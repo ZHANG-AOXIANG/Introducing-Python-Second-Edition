{
 "cells": [
  {
   "cell_type": "markdown",
   "source": [
    "## 3.1 布尔值 Bool\n",
    "### bool()函数\n",
    "输入：任何值\n",
    "输出：等价的布尔值"
   ],
   "metadata": {
    "collapsed": false
   },
   "id": "5746da547713f511"
  },
  {
   "cell_type": "code",
   "execution_count": 1,
   "outputs": [
    {
     "data": {
      "text/plain": "True"
     },
     "execution_count": 1,
     "metadata": {},
     "output_type": "execute_result"
    }
   ],
   "source": [
    "bool(True)"
   ],
   "metadata": {
    "collapsed": false,
    "ExecuteTime": {
     "end_time": "2023-12-18T11:35:56.956436Z",
     "start_time": "2023-12-18T11:35:56.939044Z"
    }
   },
   "id": "25de85dddd5fb67a"
  },
  {
   "cell_type": "code",
   "execution_count": 2,
   "outputs": [
    {
     "data": {
      "text/plain": "False"
     },
     "execution_count": 2,
     "metadata": {},
     "output_type": "execute_result"
    }
   ],
   "source": [
    "bool(False)"
   ],
   "metadata": {
    "collapsed": false,
    "ExecuteTime": {
     "end_time": "2023-12-18T11:35:58.661433Z",
     "start_time": "2023-12-18T11:35:58.637661Z"
    }
   },
   "id": "2e428699cfffba7f"
  },
  {
   "cell_type": "code",
   "execution_count": 3,
   "outputs": [
    {
     "data": {
      "text/plain": "True"
     },
     "execution_count": 3,
     "metadata": {},
     "output_type": "execute_result"
    }
   ],
   "source": [
    "bool(-1)"
   ],
   "metadata": {
    "collapsed": false,
    "ExecuteTime": {
     "end_time": "2023-12-18T11:35:59.694220Z",
     "start_time": "2023-12-18T11:35:59.676360Z"
    }
   },
   "id": "b246d67f6e3d2f7b"
  },
  {
   "cell_type": "code",
   "execution_count": 4,
   "outputs": [
    {
     "data": {
      "text/plain": "True"
     },
     "execution_count": 4,
     "metadata": {},
     "output_type": "execute_result"
    }
   ],
   "source": [
    "bool(1)"
   ],
   "metadata": {
    "collapsed": false,
    "ExecuteTime": {
     "end_time": "2023-12-18T11:36:00.900157Z",
     "start_time": "2023-12-18T11:36:00.889297Z"
    }
   },
   "id": "e1292ed3ddf15ad7"
  },
  {
   "cell_type": "code",
   "execution_count": 5,
   "outputs": [
    {
     "data": {
      "text/plain": "False"
     },
     "execution_count": 5,
     "metadata": {},
     "output_type": "execute_result"
    }
   ],
   "source": [
    "bool(0)"
   ],
   "metadata": {
    "collapsed": false,
    "ExecuteTime": {
     "end_time": "2023-12-18T11:36:01.526565Z",
     "start_time": "2023-12-18T11:36:01.502390Z"
    }
   },
   "id": "a32ceec96bb64b4e"
  },
  {
   "cell_type": "code",
   "execution_count": 6,
   "outputs": [
    {
     "data": {
      "text/plain": "True"
     },
     "execution_count": 6,
     "metadata": {},
     "output_type": "execute_result"
    }
   ],
   "source": [
    "bool(115)"
   ],
   "metadata": {
    "collapsed": false,
    "ExecuteTime": {
     "end_time": "2023-12-18T11:36:02.063749Z",
     "start_time": "2023-12-18T11:36:02.036869Z"
    }
   },
   "id": "296814a9b20a2100"
  },
  {
   "cell_type": "code",
   "execution_count": 7,
   "outputs": [
    {
     "data": {
      "text/plain": "False"
     },
     "execution_count": 7,
     "metadata": {},
     "output_type": "execute_result"
    }
   ],
   "source": [
    "bool(None)"
   ],
   "metadata": {
    "collapsed": false,
    "ExecuteTime": {
     "end_time": "2023-12-18T11:36:08.338526Z",
     "start_time": "2023-12-18T11:36:08.308217Z"
    }
   },
   "id": "2755741ea7aa14df"
  },
  {
   "cell_type": "markdown",
   "source": [
    "## 3.2 整数 Int "
   ],
   "metadata": {
    "collapsed": false
   },
   "id": "dc4fced67a9fd99d"
  },
  {
   "cell_type": "code",
   "execution_count": 8,
   "outputs": [
    {
     "data": {
      "text/plain": "1"
     },
     "execution_count": 8,
     "metadata": {},
     "output_type": "execute_result"
    }
   ],
   "source": [
    "1"
   ],
   "metadata": {
    "collapsed": false,
    "ExecuteTime": {
     "end_time": "2023-12-18T11:37:57.687636Z",
     "start_time": "2023-12-18T11:37:57.678739Z"
    }
   },
   "id": "439c9f059b27a85c"
  },
  {
   "cell_type": "code",
   "execution_count": 9,
   "outputs": [
    {
     "ename": "SyntaxError",
     "evalue": "leading zeros in decimal integer literals are not permitted; use an 0o prefix for octal integers (2610041547.py, line 1)",
     "output_type": "error",
     "traceback": [
      "\u001B[0;36m  Cell \u001B[0;32mIn[9], line 1\u001B[0;36m\u001B[0m\n\u001B[0;31m    01\u001B[0m\n\u001B[0m    ^\u001B[0m\n\u001B[0;31mSyntaxError\u001B[0m\u001B[0;31m:\u001B[0m leading zeros in decimal integer literals are not permitted; use an 0o prefix for octal integers\n"
     ]
    }
   ],
   "source": [
    "01"
   ],
   "metadata": {
    "collapsed": false,
    "ExecuteTime": {
     "end_time": "2023-12-18T11:37:59.997029Z",
     "start_time": "2023-12-18T11:37:59.982167Z"
    }
   },
   "id": "e69a0b2944a558ec"
  },
  {
   "cell_type": "code",
   "execution_count": 10,
   "outputs": [
    {
     "data": {
      "text/plain": "123"
     },
     "execution_count": 10,
     "metadata": {},
     "output_type": "execute_result"
    }
   ],
   "source": [
    "+123"
   ],
   "metadata": {
    "collapsed": false,
    "ExecuteTime": {
     "end_time": "2023-12-18T11:38:06.859807Z",
     "start_time": "2023-12-18T11:38:06.834709Z"
    }
   },
   "id": "a0f15fc677703cde"
  },
  {
   "cell_type": "code",
   "execution_count": 11,
   "outputs": [
    {
     "data": {
      "text/plain": "-123"
     },
     "execution_count": 11,
     "metadata": {},
     "output_type": "execute_result"
    }
   ],
   "source": [
    "-123"
   ],
   "metadata": {
    "collapsed": false,
    "ExecuteTime": {
     "end_time": "2023-12-18T11:38:09.340207Z",
     "start_time": "2023-12-18T11:38:09.326174Z"
    }
   },
   "id": "74b51e67c95e3b23"
  },
  {
   "cell_type": "code",
   "execution_count": 12,
   "outputs": [
    {
     "data": {
      "text/plain": "123"
     },
     "execution_count": 12,
     "metadata": {},
     "output_type": "execute_result"
    }
   ],
   "source": [
    "1_2_3"
   ],
   "metadata": {
    "collapsed": false,
    "ExecuteTime": {
     "end_time": "2023-12-18T11:38:23.593989Z",
     "start_time": "2023-12-18T11:38:23.548260Z"
    }
   },
   "id": "4727b91d63f79bdb"
  },
  {
   "cell_type": "markdown",
   "source": [
    "## 整数运输\n",
    "/  浮点数除法\n",
    "// 整数除法\n",
    "** 求幂"
   ],
   "metadata": {
    "collapsed": false
   },
   "id": "ede88ef7c1bd6257"
  },
  {
   "cell_type": "code",
   "execution_count": 13,
   "outputs": [
    {
     "data": {
      "text/plain": "2.5"
     },
     "execution_count": 13,
     "metadata": {},
     "output_type": "execute_result"
    }
   ],
   "source": [
    "5/2"
   ],
   "metadata": {
    "collapsed": false,
    "ExecuteTime": {
     "end_time": "2023-12-18T11:40:01.089291Z",
     "start_time": "2023-12-18T11:40:01.075004Z"
    }
   },
   "id": "5e1bcbe4be75a0aa"
  },
  {
   "cell_type": "code",
   "execution_count": 14,
   "outputs": [
    {
     "data": {
      "text/plain": "2"
     },
     "execution_count": 14,
     "metadata": {},
     "output_type": "execute_result"
    }
   ],
   "source": [
    "5//2"
   ],
   "metadata": {
    "collapsed": false,
    "ExecuteTime": {
     "end_time": "2023-12-18T11:40:08.544301Z",
     "start_time": "2023-12-18T11:40:08.511296Z"
    }
   },
   "id": "72146367e467f4e2"
  },
  {
   "cell_type": "code",
   "execution_count": 15,
   "outputs": [
    {
     "data": {
      "text/plain": "25"
     },
     "execution_count": 15,
     "metadata": {},
     "output_type": "execute_result"
    }
   ],
   "source": [
    "5**2"
   ],
   "metadata": {
    "collapsed": false,
    "ExecuteTime": {
     "end_time": "2023-12-18T11:40:14.779812Z",
     "start_time": "2023-12-18T11:40:14.739252Z"
    }
   },
   "id": "2938c1951fdb3816"
  },
  {
   "cell_type": "code",
   "execution_count": null,
   "outputs": [],
   "source": [],
   "metadata": {
    "collapsed": false
   },
   "id": "b43a3586d29cff31"
  }
 ],
 "metadata": {
  "kernelspec": {
   "display_name": "Python 3",
   "language": "python",
   "name": "python3"
  },
  "language_info": {
   "codemirror_mode": {
    "name": "ipython",
    "version": 2
   },
   "file_extension": ".py",
   "mimetype": "text/x-python",
   "name": "python",
   "nbconvert_exporter": "python",
   "pygments_lexer": "ipython2",
   "version": "2.7.6"
  }
 },
 "nbformat": 4,
 "nbformat_minor": 5
}
