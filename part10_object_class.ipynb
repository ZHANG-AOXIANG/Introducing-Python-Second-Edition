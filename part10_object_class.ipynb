{
 "cells": [
  {
   "cell_type": "markdown",
   "source": [
    "## 对象和类"
   ],
   "metadata": {
    "collapsed": false
   },
   "id": "c5e26b58e8aa0d90"
  },
  {
   "cell_type": "code",
   "execution_count": 1,
   "outputs": [],
   "source": [
    "class Cat():\n",
    "    pass"
   ],
   "metadata": {
    "collapsed": false,
    "ExecuteTime": {
     "end_time": "2023-12-31T06:24:37.493822Z",
     "start_time": "2023-12-31T06:24:37.479749Z"
    }
   },
   "id": "60a16e4a41593158"
  },
  {
   "cell_type": "code",
   "execution_count": 2,
   "outputs": [
    {
     "data": {
      "text/plain": "(<__main__.Cat at 0x1053da450>, <__main__.Cat at 0x1053c6dd0>)"
     },
     "execution_count": 2,
     "metadata": {},
     "output_type": "execute_result"
    }
   ],
   "source": [
    "a_cat = Cat()\n",
    "another_cat = Cat()\n",
    "a_cat, another_cat"
   ],
   "metadata": {
    "collapsed": false,
    "ExecuteTime": {
     "end_time": "2023-12-31T06:25:08.322394Z",
     "start_time": "2023-12-31T06:25:08.294227Z"
    }
   },
   "id": "463ba9f329f26673"
  },
  {
   "cell_type": "markdown",
   "source": [
    "### 初始化"
   ],
   "metadata": {
    "collapsed": false
   },
   "id": "a542e871ce3db19c"
  },
  {
   "cell_type": "code",
   "execution_count": 3,
   "outputs": [],
   "source": [
    "class Cat:\n",
    "    def __init__(self):\n",
    "        pass"
   ],
   "metadata": {
    "collapsed": false,
    "ExecuteTime": {
     "end_time": "2023-12-31T06:26:19.326071Z",
     "start_time": "2023-12-31T06:26:19.306556Z"
    }
   },
   "id": "dc2ec3b82ba9cb1c"
  },
  {
   "cell_type": "code",
   "execution_count": 4,
   "outputs": [],
   "source": [
    "class Cat:\n",
    "    def __init__(self, name):\n",
    "        self.name = name"
   ],
   "metadata": {
    "collapsed": false,
    "ExecuteTime": {
     "end_time": "2023-12-31T06:26:54.569770Z",
     "start_time": "2023-12-31T06:26:54.551284Z"
    }
   },
   "id": "cb346242ac175d31"
  },
  {
   "cell_type": "code",
   "execution_count": 5,
   "outputs": [],
   "source": [
    "furball = Cat(\"Grumpy\")"
   ],
   "metadata": {
    "collapsed": false,
    "ExecuteTime": {
     "end_time": "2023-12-31T06:27:13.143419Z",
     "start_time": "2023-12-31T06:27:13.130776Z"
    }
   },
   "id": "dbbb6f245bbdf497"
  },
  {
   "cell_type": "code",
   "execution_count": 6,
   "outputs": [
    {
     "data": {
      "text/plain": "<__main__.Cat at 0x1056ca210>"
     },
     "execution_count": 6,
     "metadata": {},
     "output_type": "execute_result"
    }
   ],
   "source": [
    "furball"
   ],
   "metadata": {
    "collapsed": false,
    "ExecuteTime": {
     "end_time": "2023-12-31T06:27:16.949059Z",
     "start_time": "2023-12-31T06:27:16.924004Z"
    }
   },
   "id": "840bf40407492a17"
  },
  {
   "cell_type": "code",
   "execution_count": 7,
   "outputs": [
    {
     "data": {
      "text/plain": "'Grumpy'"
     },
     "execution_count": 7,
     "metadata": {},
     "output_type": "execute_result"
    }
   ],
   "source": [
    "furball.name"
   ],
   "metadata": {
    "collapsed": false,
    "ExecuteTime": {
     "end_time": "2023-12-31T06:27:26.545303Z",
     "start_time": "2023-12-31T06:27:26.517997Z"
    }
   },
   "id": "334cdeb06deedfb1"
  },
  {
   "cell_type": "markdown",
   "source": [
    "# 继承"
   ],
   "metadata": {
    "collapsed": false
   },
   "id": "a01fce61da84765b"
  },
  {
   "cell_type": "markdown",
   "source": [
    "### 从父类继承\n",
    "原始类：父类，超类，基类                    \n",
    "新类：子类，次类，派生类"
   ],
   "metadata": {
    "collapsed": false
   },
   "id": "59e66dc0af7c3a2e"
  },
  {
   "cell_type": "code",
   "execution_count": 8,
   "outputs": [],
   "source": [
    "class Car():\n",
    "    pass"
   ],
   "metadata": {
    "collapsed": false,
    "ExecuteTime": {
     "end_time": "2023-12-31T06:29:30.067062Z",
     "start_time": "2023-12-31T06:29:30.043268Z"
    }
   },
   "id": "4c0d6b4b4d22f0a6"
  },
  {
   "cell_type": "code",
   "execution_count": 12,
   "outputs": [],
   "source": [
    "class Yugo(Car):\n",
    "    pass"
   ],
   "metadata": {
    "collapsed": false,
    "ExecuteTime": {
     "end_time": "2023-12-31T06:30:14.783219Z",
     "start_time": "2023-12-31T06:30:14.768533Z"
    }
   },
   "id": "b144edfa16643120"
  },
  {
   "cell_type": "code",
   "execution_count": 13,
   "outputs": [
    {
     "data": {
      "text/plain": "True"
     },
     "execution_count": 13,
     "metadata": {},
     "output_type": "execute_result"
    }
   ],
   "source": [
    "issubclass(Yugo, Car)"
   ],
   "metadata": {
    "collapsed": false,
    "ExecuteTime": {
     "end_time": "2023-12-31T06:30:15.793988Z",
     "start_time": "2023-12-31T06:30:15.780197Z"
    }
   },
   "id": "a6d21259cda77dd5"
  },
  {
   "cell_type": "code",
   "execution_count": 22,
   "outputs": [
    {
     "data": {
      "text/plain": "'654321'"
     },
     "execution_count": 22,
     "metadata": {},
     "output_type": "execute_result"
    }
   ],
   "source": [
    "str_test = \"123456\"\n",
    "str_re = str_test[-1::-1]\n",
    "str_re"
   ],
   "metadata": {
    "collapsed": false,
    "ExecuteTime": {
     "end_time": "2023-12-31T09:06:32.977559Z",
     "start_time": "2023-12-31T09:06:32.952170Z"
    }
   },
   "id": "9232c7ab17846fe2"
  },
  {
   "cell_type": "code",
   "execution_count": null,
   "outputs": [],
   "source": [],
   "metadata": {
    "collapsed": false
   },
   "id": "146fd48a902d2184"
  }
 ],
 "metadata": {
  "kernelspec": {
   "display_name": "Python 3",
   "language": "python",
   "name": "python3"
  },
  "language_info": {
   "codemirror_mode": {
    "name": "ipython",
    "version": 2
   },
   "file_extension": ".py",
   "mimetype": "text/x-python",
   "name": "python",
   "nbconvert_exporter": "python",
   "pygments_lexer": "ipython2",
   "version": "2.7.6"
  }
 },
 "nbformat": 4,
 "nbformat_minor": 5
}
